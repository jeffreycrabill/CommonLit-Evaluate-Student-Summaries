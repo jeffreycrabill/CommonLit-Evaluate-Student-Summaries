{
 "cells": [
  {
   "cell_type": "code",
   "execution_count": 1,
   "id": "0b55556d",
   "metadata": {
    "_cell_guid": "b1076dfc-b9ad-4769-8c92-a6c4dae69d19",
    "_uuid": "8f2839f25d086af736a60e9eeb907d3b93b6e0e5",
    "execution": {
     "iopub.execute_input": "2023-09-06T14:27:55.497350Z",
     "iopub.status.busy": "2023-09-06T14:27:55.496955Z",
     "iopub.status.idle": "2023-09-06T14:28:12.031080Z",
     "shell.execute_reply": "2023-09-06T14:28:12.029574Z"
    },
    "papermill": {
     "duration": 16.546558,
     "end_time": "2023-09-06T14:28:12.034329",
     "exception": false,
     "start_time": "2023-09-06T14:27:55.487771",
     "status": "completed"
    },
    "tags": []
   },
   "outputs": [
    {
     "name": "stdout",
     "output_type": "stream",
     "text": [
      "/kaggle/input/commonlit-evaluate-student-summaries/sample_submission.csv\n",
      "/kaggle/input/commonlit-evaluate-student-summaries/prompts_train.csv\n",
      "/kaggle/input/commonlit-evaluate-student-summaries/summaries_test.csv\n",
      "/kaggle/input/commonlit-evaluate-student-summaries/summaries_train.csv\n",
      "/kaggle/input/commonlit-evaluate-student-summaries/prompts_test.csv\n",
      "/kaggle/input/summary-test/summaries_test.csv\n"
     ]
    }
   ],
   "source": [
    "# Libraries for data manipulation and linear algebra\n",
    "import numpy as np \n",
    "import pandas as pd \n",
    "\n",
    "# For file paths\n",
    "from pathlib import Path  \n",
    "\n",
    "# Tensorflow and Keras for Neural Network\n",
    "import tensorflow as tf\n",
    "from tensorflow.keras.layers import Dense, Dropout\n",
    "from tensorflow.keras.models import Sequential\n",
    "from tensorflow.keras.regularizers import l2\n",
    "\n",
    "# Scikit-learn libraries for preprocessing, model evaluation, and text vectorization\n",
    "from sklearn.preprocessing import StandardScaler\n",
    "from sklearn.model_selection import train_test_split\n",
    "from sklearn.feature_extraction.text import TfidfVectorizer, CountVectorizer\n",
    "from sklearn.metrics import mean_squared_error\n",
    "from sklearn.decomposition import LatentDirichletAllocation\n",
    "\n",
    "# Libraries for text processing\n",
    "import re\n",
    "import spacy\n",
    "from spacy.lang.en import English \n",
    "from spacy.lang.en.stop_words import STOP_WORDS\n",
    "\n",
    "# Visualization\n",
    "import matplotlib.pyplot as plt\n",
    "\n",
    "%matplotlib inline\n",
    "\n",
    "# Display input files\n",
    "import os\n",
    "for dirname, _, filenames in os.walk('/kaggle/input'):\n",
    "    for filename in filenames:\n",
    "        print(os.path.join(dirname, filename))\n"
   ]
  },
  {
   "cell_type": "markdown",
   "id": "07892784",
   "metadata": {
    "papermill": {
     "duration": 0.006447,
     "end_time": "2023-09-06T14:28:12.047799",
     "exception": false,
     "start_time": "2023-09-06T14:28:12.041352",
     "status": "completed"
    },
    "tags": []
   },
   "source": [
    "Load and Preprocess Dataset"
   ]
  },
  {
   "cell_type": "code",
   "execution_count": 2,
   "id": "68f8e500",
   "metadata": {
    "execution": {
     "iopub.execute_input": "2023-09-06T14:28:12.064084Z",
     "iopub.status.busy": "2023-09-06T14:28:12.062737Z",
     "iopub.status.idle": "2023-09-06T14:28:12.736759Z",
     "shell.execute_reply": "2023-09-06T14:28:12.735476Z"
    },
    "papermill": {
     "duration": 0.685384,
     "end_time": "2023-09-06T14:28:12.739772",
     "exception": false,
     "start_time": "2023-09-06T14:28:12.054388",
     "status": "completed"
    },
    "tags": []
   },
   "outputs": [],
   "source": [
    "# Load the dataset\n",
    "file_path = '/kaggle/input/commonlit-evaluate-student-summaries/summaries_train.csv'\n",
    "se = pd.read_csv(file_path)\n",
    "\n",
    "# Drop rows with missing 'wording' and 'content'\n",
    "se.dropna(subset=['wording', 'content'], inplace=True)\n",
    "\n",
    "# Fill missing 'text' values\n",
    "se['text'].fillna('', inplace=True)\n",
    "\n",
    "# Text preprocessing function\n",
    "def preprocess_text(text):\n",
    "    text = text.replace('\\n', ' ').lower()\n",
    "    text = re.sub(r\"[^a-zA-Z0-9]\", \" \", text)\n",
    "    text = ' '.join([word for word in text.split() if word.isalpha() and word not in STOP_WORDS])\n",
    "    return ' '.join(text.split())\n",
    "\n",
    "# Apply the preprocessing function to texts\n",
    "se['PreprocessedText'] = se['text'].apply(preprocess_text)\n"
   ]
  },
  {
   "cell_type": "markdown",
   "id": "230a0e93",
   "metadata": {
    "papermill": {
     "duration": 0.006337,
     "end_time": "2023-09-06T14:28:12.752822",
     "exception": false,
     "start_time": "2023-09-06T14:28:12.746485",
     "status": "completed"
    },
    "tags": []
   },
   "source": [
    "Vectorization of Text Data"
   ]
  },
  {
   "cell_type": "code",
   "execution_count": 3,
   "id": "e48891ba",
   "metadata": {
    "execution": {
     "iopub.execute_input": "2023-09-06T14:28:12.768154Z",
     "iopub.status.busy": "2023-09-06T14:28:12.767717Z",
     "iopub.status.idle": "2023-09-06T14:28:34.994130Z",
     "shell.execute_reply": "2023-09-06T14:28:34.992948Z"
    },
    "papermill": {
     "duration": 22.237434,
     "end_time": "2023-09-06T14:28:34.996892",
     "exception": false,
     "start_time": "2023-09-06T14:28:12.759458",
     "status": "completed"
    },
    "tags": []
   },
   "outputs": [],
   "source": [
    "# Vectorize preprocessed texts\n",
    "vectorizer = CountVectorizer(binary=True, max_features=5000)\n",
    "count_data = vectorizer.fit_transform(se['PreprocessedText'])\n",
    "\n",
    "lda = LatentDirichletAllocation(n_components=4)  # for 4 topics\n",
    "X = lda.fit_transform(count_data)\n",
    "\n",
    "# Split data into training and testing sets\n",
    "y = se[['wording', 'content']].values\n",
    "X_train, X_test, y_train, y_test = train_test_split(X, y, test_size=0.2, random_state=42)\n"
   ]
  },
  {
   "cell_type": "markdown",
   "id": "9d2ccad2",
   "metadata": {
    "papermill": {
     "duration": 0.006265,
     "end_time": "2023-09-06T14:28:35.009874",
     "exception": false,
     "start_time": "2023-09-06T14:28:35.003609",
     "status": "completed"
    },
    "tags": []
   },
   "source": [
    "Data Preparation for Neural Network"
   ]
  },
  {
   "cell_type": "code",
   "execution_count": 4,
   "id": "98cc4aae",
   "metadata": {
    "execution": {
     "iopub.execute_input": "2023-09-06T14:28:35.025339Z",
     "iopub.status.busy": "2023-09-06T14:28:35.024876Z",
     "iopub.status.idle": "2023-09-06T14:28:35.033261Z",
     "shell.execute_reply": "2023-09-06T14:28:35.031866Z"
    },
    "papermill": {
     "duration": 0.019275,
     "end_time": "2023-09-06T14:28:35.035870",
     "exception": false,
     "start_time": "2023-09-06T14:28:35.016595",
     "status": "completed"
    },
    "tags": []
   },
   "outputs": [],
   "source": [
    "\n",
    "# Scale data\n",
    "scaler = StandardScaler()\n",
    "X_train_scaled = scaler.fit_transform(X_train)\n",
    "X_test_scaled = scaler.transform(X_test)\n"
   ]
  },
  {
   "cell_type": "markdown",
   "id": "feb3f180",
   "metadata": {
    "papermill": {
     "duration": 0.006323,
     "end_time": "2023-09-06T14:28:35.048892",
     "exception": false,
     "start_time": "2023-09-06T14:28:35.042569",
     "status": "completed"
    },
    "tags": []
   },
   "source": [
    "Neural Network Model Building and Training"
   ]
  },
  {
   "cell_type": "code",
   "execution_count": 5,
   "id": "3e699c0a",
   "metadata": {
    "execution": {
     "iopub.execute_input": "2023-09-06T14:28:35.064159Z",
     "iopub.status.busy": "2023-09-06T14:28:35.063741Z",
     "iopub.status.idle": "2023-09-06T14:28:57.284524Z",
     "shell.execute_reply": "2023-09-06T14:28:57.283509Z"
    },
    "papermill": {
     "duration": 22.231755,
     "end_time": "2023-09-06T14:28:57.287298",
     "exception": false,
     "start_time": "2023-09-06T14:28:35.055543",
     "status": "completed"
    },
    "tags": []
   },
   "outputs": [
    {
     "name": "stdout",
     "output_type": "stream",
     "text": [
      "Epoch 1/50\n",
      "144/144 [==============================] - 2s 4ms/step - loss: 1.0997 - mse: 1.0936 - val_loss: 1.0695 - val_mse: 1.0639\n",
      "Epoch 2/50\n",
      "144/144 [==============================] - 0s 2ms/step - loss: 1.0934 - mse: 1.0883 - val_loss: 1.0697 - val_mse: 1.0649\n",
      "Epoch 3/50\n",
      "144/144 [==============================] - 0s 2ms/step - loss: 1.0916 - mse: 1.0870 - val_loss: 1.0685 - val_mse: 1.0643\n",
      "Epoch 4/50\n",
      "144/144 [==============================] - 0s 2ms/step - loss: 1.0902 - mse: 1.0862 - val_loss: 1.0677 - val_mse: 1.0639\n",
      "Epoch 5/50\n",
      "144/144 [==============================] - 0s 2ms/step - loss: 1.0893 - mse: 1.0857 - val_loss: 1.0661 - val_mse: 1.0627\n",
      "Epoch 6/50\n",
      "144/144 [==============================] - 0s 2ms/step - loss: 1.0885 - mse: 1.0852 - val_loss: 1.0652 - val_mse: 1.0620\n",
      "Epoch 7/50\n",
      "144/144 [==============================] - 0s 2ms/step - loss: 1.0876 - mse: 1.0846 - val_loss: 1.0640 - val_mse: 1.0611\n",
      "Epoch 8/50\n",
      "144/144 [==============================] - 0s 2ms/step - loss: 1.0871 - mse: 1.0843 - val_loss: 1.0629 - val_mse: 1.0603\n",
      "Epoch 9/50\n",
      "144/144 [==============================] - 0s 2ms/step - loss: 1.0840 - mse: 1.0815 - val_loss: 1.0594 - val_mse: 1.0569\n",
      "Epoch 10/50\n",
      "144/144 [==============================] - 0s 2ms/step - loss: 1.0847 - mse: 1.0823 - val_loss: 1.0578 - val_mse: 1.0555\n",
      "Epoch 11/50\n",
      "144/144 [==============================] - 0s 3ms/step - loss: 1.0812 - mse: 1.0789 - val_loss: 1.0550 - val_mse: 1.0527\n",
      "Epoch 12/50\n",
      "144/144 [==============================] - 0s 2ms/step - loss: 1.0851 - mse: 1.0830 - val_loss: 1.0580 - val_mse: 1.0560\n",
      "Epoch 13/50\n",
      "144/144 [==============================] - 0s 2ms/step - loss: 1.0825 - mse: 1.0805 - val_loss: 1.0563 - val_mse: 1.0543\n",
      "Epoch 14/50\n",
      "144/144 [==============================] - 0s 2ms/step - loss: 1.0802 - mse: 1.0782 - val_loss: 1.0541 - val_mse: 1.0522\n",
      "Epoch 15/50\n",
      "144/144 [==============================] - 0s 2ms/step - loss: 1.0807 - mse: 1.0788 - val_loss: 1.0545 - val_mse: 1.0526\n",
      "Epoch 16/50\n",
      "144/144 [==============================] - 0s 2ms/step - loss: 1.0792 - mse: 1.0773 - val_loss: 1.0524 - val_mse: 1.0505\n",
      "Epoch 17/50\n",
      "144/144 [==============================] - 0s 2ms/step - loss: 1.0804 - mse: 1.0785 - val_loss: 1.0543 - val_mse: 1.0524\n",
      "Epoch 18/50\n",
      "144/144 [==============================] - 0s 2ms/step - loss: 1.0813 - mse: 1.0794 - val_loss: 1.0534 - val_mse: 1.0515\n",
      "Epoch 19/50\n",
      "144/144 [==============================] - 0s 2ms/step - loss: 1.0809 - mse: 1.0791 - val_loss: 1.0544 - val_mse: 1.0526\n",
      "Epoch 20/50\n",
      "144/144 [==============================] - 0s 2ms/step - loss: 1.0800 - mse: 1.0782 - val_loss: 1.0549 - val_mse: 1.0531\n",
      "Epoch 21/50\n",
      "144/144 [==============================] - 0s 2ms/step - loss: 1.0787 - mse: 1.0769 - val_loss: 1.0547 - val_mse: 1.0529\n",
      "Epoch 22/50\n",
      "144/144 [==============================] - 0s 2ms/step - loss: 1.0812 - mse: 1.0794 - val_loss: 1.0536 - val_mse: 1.0519\n",
      "Epoch 23/50\n",
      "144/144 [==============================] - 0s 2ms/step - loss: 1.0781 - mse: 1.0763 - val_loss: 1.0525 - val_mse: 1.0506\n",
      "Epoch 24/50\n",
      "144/144 [==============================] - 0s 2ms/step - loss: 1.0780 - mse: 1.0762 - val_loss: 1.0502 - val_mse: 1.0484\n",
      "Epoch 25/50\n",
      "144/144 [==============================] - 0s 2ms/step - loss: 1.0803 - mse: 1.0786 - val_loss: 1.0529 - val_mse: 1.0511\n",
      "Epoch 26/50\n",
      "144/144 [==============================] - 0s 2ms/step - loss: 1.0760 - mse: 1.0743 - val_loss: 1.0508 - val_mse: 1.0490\n",
      "Epoch 27/50\n",
      "144/144 [==============================] - 0s 3ms/step - loss: 1.0775 - mse: 1.0757 - val_loss: 1.0529 - val_mse: 1.0511\n",
      "Epoch 28/50\n",
      "144/144 [==============================] - 0s 2ms/step - loss: 1.0769 - mse: 1.0751 - val_loss: 1.0533 - val_mse: 1.0516\n",
      "Epoch 29/50\n",
      "144/144 [==============================] - 0s 2ms/step - loss: 1.0740 - mse: 1.0723 - val_loss: 1.0504 - val_mse: 1.0486\n",
      "Epoch 30/50\n",
      "144/144 [==============================] - 0s 2ms/step - loss: 1.0784 - mse: 1.0766 - val_loss: 1.0509 - val_mse: 1.0491\n",
      "Epoch 31/50\n",
      "144/144 [==============================] - 0s 2ms/step - loss: 1.0768 - mse: 1.0751 - val_loss: 1.0497 - val_mse: 1.0479\n",
      "Epoch 32/50\n",
      "144/144 [==============================] - 0s 2ms/step - loss: 1.0754 - mse: 1.0736 - val_loss: 1.0487 - val_mse: 1.0469\n",
      "Epoch 33/50\n",
      "144/144 [==============================] - 0s 2ms/step - loss: 1.0773 - mse: 1.0755 - val_loss: 1.0506 - val_mse: 1.0488\n",
      "Epoch 34/50\n",
      "144/144 [==============================] - 0s 2ms/step - loss: 1.0772 - mse: 1.0755 - val_loss: 1.0493 - val_mse: 1.0476\n",
      "Epoch 35/50\n",
      "144/144 [==============================] - 0s 2ms/step - loss: 1.0765 - mse: 1.0747 - val_loss: 1.0522 - val_mse: 1.0504\n",
      "Epoch 36/50\n",
      "144/144 [==============================] - 0s 2ms/step - loss: 1.0785 - mse: 1.0767 - val_loss: 1.0528 - val_mse: 1.0511\n",
      "Epoch 37/50\n",
      "144/144 [==============================] - 0s 3ms/step - loss: 1.0788 - mse: 1.0771 - val_loss: 1.0553 - val_mse: 1.0536\n",
      "Epoch 38/50\n",
      "144/144 [==============================] - 0s 3ms/step - loss: 1.0783 - mse: 1.0766 - val_loss: 1.0532 - val_mse: 1.0515\n",
      "Epoch 39/50\n",
      "144/144 [==============================] - 0s 3ms/step - loss: 1.0773 - mse: 1.0756 - val_loss: 1.0542 - val_mse: 1.0525\n",
      "Epoch 40/50\n",
      "144/144 [==============================] - 0s 2ms/step - loss: 1.0785 - mse: 1.0768 - val_loss: 1.0525 - val_mse: 1.0508\n",
      "Epoch 41/50\n",
      "144/144 [==============================] - 0s 2ms/step - loss: 1.0799 - mse: 1.0781 - val_loss: 1.0555 - val_mse: 1.0538\n",
      "Epoch 42/50\n",
      "144/144 [==============================] - 0s 2ms/step - loss: 1.0808 - mse: 1.0792 - val_loss: 1.0536 - val_mse: 1.0519\n",
      "Epoch 43/50\n",
      "144/144 [==============================] - 0s 2ms/step - loss: 1.0795 - mse: 1.0778 - val_loss: 1.0533 - val_mse: 1.0516\n",
      "Epoch 44/50\n",
      "144/144 [==============================] - 0s 2ms/step - loss: 1.0787 - mse: 1.0770 - val_loss: 1.0533 - val_mse: 1.0516\n",
      "Epoch 45/50\n",
      "144/144 [==============================] - 0s 2ms/step - loss: 1.0781 - mse: 1.0764 - val_loss: 1.0535 - val_mse: 1.0518\n",
      "Epoch 46/50\n",
      "144/144 [==============================] - 0s 2ms/step - loss: 1.0789 - mse: 1.0772 - val_loss: 1.0519 - val_mse: 1.0502\n",
      "Epoch 47/50\n",
      "144/144 [==============================] - 0s 2ms/step - loss: 1.0801 - mse: 1.0784 - val_loss: 1.0534 - val_mse: 1.0517\n",
      "Epoch 48/50\n",
      "144/144 [==============================] - 0s 2ms/step - loss: 1.0794 - mse: 1.0777 - val_loss: 1.0529 - val_mse: 1.0512\n",
      "Epoch 49/50\n",
      "144/144 [==============================] - 0s 2ms/step - loss: 1.0752 - mse: 1.0735 - val_loss: 1.0529 - val_mse: 1.0512\n",
      "Epoch 50/50\n",
      "144/144 [==============================] - 0s 2ms/step - loss: 1.0697 - mse: 1.0680 - val_loss: 1.0497 - val_mse: 1.0479\n"
     ]
    },
    {
     "data": {
      "text/plain": [
       "<keras.callbacks.History at 0x7abddc0afaf0>"
      ]
     },
     "execution_count": 5,
     "metadata": {},
     "output_type": "execute_result"
    }
   ],
   "source": [
    "# Define model architecture\n",
    "hidden_nodes_l1 = (X_train_scaled.shape[1] + 1) // 2\n",
    "hidden_nodes_l2 = (hidden_nodes_l1 + 1) // 2\n",
    "hidden_nodes_l3 = (hidden_nodes_l2 + 1) // 2\n",
    "hidden_nodes_l4 = (hidden_nodes_l3 + 1) // 2\n",
    "\n",
    "model = Sequential([\n",
    "    Dense(hidden_nodes_l1, input_dim=X_train_scaled.shape[1], activation='relu', kernel_regularizer=l2(0.001)),\n",
    "    Dropout(0.25),\n",
    "    Dense(hidden_nodes_l2, activation='tanh', kernel_regularizer=l2(0.001)),\n",
    "    Dropout(0.25),\n",
    "    Dense(hidden_nodes_l3, activation='relu', kernel_regularizer=l2(0.001)),\n",
    "    Dropout(0.25),\n",
    "    Dense(hidden_nodes_l4, activation='tanh', kernel_regularizer=l2(0.001)),\n",
    "    # Output layer with two nodes for \"wording\" and \"content\"\n",
    "    Dense(2, activation='linear')  \n",
    "])\n",
    "\n",
    "model.compile(optimizer='adam', loss='mean_squared_error', metrics=['mse'])\n",
    "model.fit(X_train_scaled, y_train, epochs=50, batch_size=32, validation_split=0.2)\n"
   ]
  },
  {
   "cell_type": "markdown",
   "id": "8322c9ee",
   "metadata": {
    "papermill": {
     "duration": 0.041227,
     "end_time": "2023-09-06T14:28:57.370457",
     "exception": false,
     "start_time": "2023-09-06T14:28:57.329230",
     "status": "completed"
    },
    "tags": []
   },
   "source": [
    "Evaluation"
   ]
  },
  {
   "cell_type": "code",
   "execution_count": 6,
   "id": "adaa9557",
   "metadata": {
    "execution": {
     "iopub.execute_input": "2023-09-06T14:28:57.456181Z",
     "iopub.status.busy": "2023-09-06T14:28:57.455762Z",
     "iopub.status.idle": "2023-09-06T14:28:57.737514Z",
     "shell.execute_reply": "2023-09-06T14:28:57.736138Z"
    },
    "papermill": {
     "duration": 0.327904,
     "end_time": "2023-09-06T14:28:57.740395",
     "exception": false,
     "start_time": "2023-09-06T14:28:57.412491",
     "status": "completed"
    },
    "tags": []
   },
   "outputs": [
    {
     "name": "stdout",
     "output_type": "stream",
     "text": [
      "45/45 [==============================] - 0s 1ms/step\n",
      "RMSE for wording: 0.9857846063069426\n",
      "RMSE for content: 1.0472447835686411\n"
     ]
    }
   ],
   "source": [
    "# Predict on test data\n",
    "y_pred = model.predict(X_test_scaled)\n",
    "\n",
    "rmse_wording = mean_squared_error(y_test[:, 0], y_pred[:, 0], squared=False)\n",
    "rmse_content = mean_squared_error(y_test[:, 1], y_pred[:, 1], squared=False)\n",
    "\n",
    "print(f\"RMSE for wording: {rmse_wording}\")\n",
    "print(f\"RMSE for content: {rmse_content}\")\n"
   ]
  },
  {
   "cell_type": "markdown",
   "id": "bcef06b5",
   "metadata": {
    "papermill": {
     "duration": 0.041834,
     "end_time": "2023-09-06T14:28:57.824084",
     "exception": false,
     "start_time": "2023-09-06T14:28:57.782250",
     "status": "completed"
    },
    "tags": []
   },
   "source": [
    "Prepare Submission for Competition"
   ]
  },
  {
   "cell_type": "code",
   "execution_count": 7,
   "id": "148a34d2",
   "metadata": {
    "execution": {
     "iopub.execute_input": "2023-09-06T14:28:57.910619Z",
     "iopub.status.busy": "2023-09-06T14:28:57.910105Z",
     "iopub.status.idle": "2023-09-06T14:28:58.012353Z",
     "shell.execute_reply": "2023-09-06T14:28:58.011028Z"
    },
    "papermill": {
     "duration": 0.149068,
     "end_time": "2023-09-06T14:28:58.015156",
     "exception": false,
     "start_time": "2023-09-06T14:28:57.866088",
     "status": "completed"
    },
    "tags": []
   },
   "outputs": [
    {
     "name": "stdout",
     "output_type": "stream",
     "text": [
      "1/1 [==============================] - 0s 23ms/step\n"
     ]
    }
   ],
   "source": [
    "# Load test dataset for competition\n",
    "test_df = pd.read_csv(Path(\"/kaggle/input/commonlit-evaluate-student-summaries/summaries_test.csv\"))\n",
    "\n",
    "\n",
    "# Preprocess and vectorize the test data\n",
    "test_df['PreprocessedText'] = test_df['text'].apply(preprocess_text)\n",
    "count_data_competition = vectorizer.transform(test_df['PreprocessedText'])\n",
    "\n",
    "# Apply LDA transformation\n",
    "X_test_competition = lda.transform(count_data_competition)\n",
    "\n",
    "# Predict using the trained model\n",
    "predictions = model.predict(X_test_competition)\n",
    "\n",
    "\n",
    "# Prepare submission DataFrame\n",
    "submission_df = pd.DataFrame({\n",
    "    'student_id': test_df['student_id'],\n",
    "    'content': predictions[:, 1],\n",
    "    'wording': predictions[:, 0]\n",
    "})\n",
    "\n",
    "# Clip values to be within expected bounds\n",
    "submission_df['content'] = np.clip(submission_df['content'], -2, 5)\n",
    "submission_df['wording'] = np.clip(submission_df['wording'], -2, 5)\n",
    "\n",
    "# Save submission to a CSV\n",
    "submission_df.to_csv(\"submission.csv\", index=False)\n"
   ]
  }
 ],
 "kernelspec": {
  "display_name": "Python 3",
  "language": "python",
  "name": "python3"
 },
 "language_info": {
  "codemirror_mode": {
   "name": "ipython",
   "version": 3
  },
  "file_extension": ".py",
  "mimetype": "text/x-python",
  "name": "python",
  "nbconvert_exporter": "python",
  "pygments_lexer": "ipython3",
  "version": "3.6.4"
 },
 "metadata": {
  "kernelspec": {
   "display_name": "Python 3",
   "language": "python",
   "name": "python3"
  },
  "language_info": {
   "codemirror_mode": {
    "name": "ipython",
    "version": 3
   },
   "file_extension": ".py",
   "mimetype": "text/x-python",
   "name": "python",
   "nbconvert_exporter": "python",
   "pygments_lexer": "ipython3",
   "version": "3.10.12"
  },
  "papermill": {
   "default_parameters": {},
   "duration": 69.540514,
   "end_time": "2023-09-06T14:29:01.286175",
   "environment_variables": {},
   "exception": null,
   "input_path": "__notebook__.ipynb",
   "output_path": "__notebook__.ipynb",
   "parameters": {},
   "start_time": "2023-09-06T14:27:51.745661",
   "version": "2.4.0"
  }
 },
 "nbformat": 4,
 "nbformat_minor": 5
}
