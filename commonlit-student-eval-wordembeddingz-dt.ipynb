{
 "cells": [
  {
   "cell_type": "code",
   "execution_count": 1,
   "id": "eb8c5b6b",
   "metadata": {
    "execution": {
     "iopub.execute_input": "2023-09-05T21:25:20.009494Z",
     "iopub.status.busy": "2023-09-05T21:25:20.008780Z",
     "iopub.status.idle": "2023-09-05T21:26:12.960536Z",
     "shell.execute_reply": "2023-09-05T21:26:12.959420Z"
    },
    "papermill": {
     "duration": 52.965184,
     "end_time": "2023-09-05T21:26:12.963694",
     "exception": false,
     "start_time": "2023-09-05T21:25:19.998510",
     "status": "completed"
    },
    "tags": []
   },
   "outputs": [],
   "source": [
    "import numpy as np \n",
    "import pandas as pd \n",
    "from pathlib import Path  \n",
    "import tensorflow as tf\n",
    "from sklearn.feature_extraction.text import ENGLISH_STOP_WORDS\n",
    "from sklearn.preprocessing import StandardScaler\n",
    "from sklearn.model_selection import train_test_split\n",
    "from sklearn.feature_extraction.text import TfidfVectorizer, CountVectorizer\n",
    "from sklearn.ensemble import RandomForestRegressor\n",
    "from sklearn.metrics import mean_squared_error\n",
    "from sklearn.model_selection import KFold\n",
    "import re\n",
    "\n",
    "from spacy.lang.en import English \n",
    "import matplotlib.pyplot as plt\n",
    "from gensim.models import Word2Vec\n"
   ]
  },
  {
   "cell_type": "markdown",
   "id": "170b26b1",
   "metadata": {
    "papermill": {
     "duration": 0.006434,
     "end_time": "2023-09-05T21:26:12.977448",
     "exception": false,
     "start_time": "2023-09-05T21:26:12.971014",
     "status": "completed"
    },
    "tags": []
   },
   "source": [
    "Data Loading:"
   ]
  },
  {
   "cell_type": "code",
   "execution_count": 2,
   "id": "1b74e06c",
   "metadata": {
    "execution": {
     "iopub.execute_input": "2023-09-05T21:26:12.992816Z",
     "iopub.status.busy": "2023-09-05T21:26:12.991968Z",
     "iopub.status.idle": "2023-09-05T21:26:13.098034Z",
     "shell.execute_reply": "2023-09-05T21:26:13.096820Z"
    },
    "papermill": {
     "duration": 0.117177,
     "end_time": "2023-09-05T21:26:13.101133",
     "exception": false,
     "start_time": "2023-09-05T21:26:12.983956",
     "status": "completed"
    },
    "tags": []
   },
   "outputs": [],
   "source": [
    "file_path = '/kaggle/input/commonlit-evaluate-student-summaries/summaries_train.csv'\n",
    "se = pd.read_csv(file_path)\n"
   ]
  },
  {
   "cell_type": "markdown",
   "id": "c9958e29",
   "metadata": {
    "papermill": {
     "duration": 0.006554,
     "end_time": "2023-09-05T21:26:13.114921",
     "exception": false,
     "start_time": "2023-09-05T21:26:13.108367",
     "status": "completed"
    },
    "tags": []
   },
   "source": [
    "Preprocessing:"
   ]
  },
  {
   "cell_type": "code",
   "execution_count": 3,
   "id": "385052f6",
   "metadata": {
    "execution": {
     "iopub.execute_input": "2023-09-05T21:26:13.130720Z",
     "iopub.status.busy": "2023-09-05T21:26:13.130279Z",
     "iopub.status.idle": "2023-09-05T21:26:13.677675Z",
     "shell.execute_reply": "2023-09-05T21:26:13.675895Z"
    },
    "papermill": {
     "duration": 0.558909,
     "end_time": "2023-09-05T21:26:13.680704",
     "exception": false,
     "start_time": "2023-09-05T21:26:13.121795",
     "status": "completed"
    },
    "tags": []
   },
   "outputs": [],
   "source": [
    "se.dropna(subset=['wording', 'content'], inplace=True)\n",
    "se['text'].fillna('', inplace=True)\n",
    "\n",
    "# Preprocess text function\n",
    "def preprocess_text(text):\n",
    "    text = text.replace('\\n', ' ').lower()  # replace newlines and convert to lowercase\n",
    "    text = re.sub(r\"[^a-zA-Z0-9]\", \" \", text)  # remove punctuation\n",
    "    text = ' '.join([word for word in text.split() if word.isalpha() and word not in stop_words])  # remove stop words\n",
    "    return ' '.join(text.split())  # replace sequences of whitespace\n",
    "\n",
    "stop_words = ENGLISH_STOP_WORDS\n",
    "preprocessed_texts = [preprocess_text(text) for text in se['text']]\n",
    "se['PreprocessedText'] = preprocessed_texts\n"
   ]
  },
  {
   "cell_type": "markdown",
   "id": "f01eccfd",
   "metadata": {
    "papermill": {
     "duration": 0.008128,
     "end_time": "2023-09-05T21:26:13.697739",
     "exception": false,
     "start_time": "2023-09-05T21:26:13.689611",
     "status": "completed"
    },
    "tags": []
   },
   "source": [
    "Tokenization and Vectorization using Word2Vec:"
   ]
  },
  {
   "cell_type": "code",
   "execution_count": 4,
   "id": "0d711baf",
   "metadata": {
    "execution": {
     "iopub.execute_input": "2023-09-05T21:26:13.715638Z",
     "iopub.status.busy": "2023-09-05T21:26:13.714800Z",
     "iopub.status.idle": "2023-09-05T21:26:15.262165Z",
     "shell.execute_reply": "2023-09-05T21:26:15.260746Z"
    },
    "papermill": {
     "duration": 1.560612,
     "end_time": "2023-09-05T21:26:15.265379",
     "exception": false,
     "start_time": "2023-09-05T21:26:13.704767",
     "status": "completed"
    },
    "tags": []
   },
   "outputs": [],
   "source": [
    "sentences = se['PreprocessedText'].apply(lambda x: x.split()).tolist()\n",
    "model = Word2Vec(sentences, vector_size=100, window=5, min_count=1, workers=4)\n",
    "vocabulary = set(model.wv.index_to_key)\n"
   ]
  },
  {
   "cell_type": "markdown",
   "id": "cbfd75a0",
   "metadata": {
    "papermill": {
     "duration": 0.006716,
     "end_time": "2023-09-05T21:26:15.279511",
     "exception": false,
     "start_time": "2023-09-05T21:26:15.272795",
     "status": "completed"
    },
    "tags": []
   },
   "source": [
    "Feature Creation"
   ]
  },
  {
   "cell_type": "code",
   "execution_count": 5,
   "id": "a52df9fe",
   "metadata": {
    "execution": {
     "iopub.execute_input": "2023-09-05T21:26:15.295624Z",
     "iopub.status.busy": "2023-09-05T21:26:15.295161Z",
     "iopub.status.idle": "2023-09-05T21:26:16.509269Z",
     "shell.execute_reply": "2023-09-05T21:26:16.508216Z"
    },
    "papermill": {
     "duration": 1.225927,
     "end_time": "2023-09-05T21:26:16.512394",
     "exception": false,
     "start_time": "2023-09-05T21:26:15.286467",
     "status": "completed"
    },
    "tags": []
   },
   "outputs": [],
   "source": [
    "def average_word_vectors(words, model, vocabulary, num_features):\n",
    "    feature_vector = np.zeros((num_features,), dtype=\"float64\")\n",
    "    n_words = 0.\n",
    "    for word in words:\n",
    "        if word in vocabulary: \n",
    "            n_words = n_words + 1.\n",
    "            feature_vector = np.add(feature_vector, model.wv[word])\n",
    "    if n_words:\n",
    "        feature_vector = np.divide(feature_vector, n_words)\n",
    "    return feature_vector\n",
    "\n",
    "features = [average_word_vectors(tokens, model, vocabulary, 100) for tokens in sentences]\n"
   ]
  },
  {
   "cell_type": "markdown",
   "id": "dafceca3",
   "metadata": {
    "papermill": {
     "duration": 0.006769,
     "end_time": "2023-09-05T21:26:16.526620",
     "exception": false,
     "start_time": "2023-09-05T21:26:16.519851",
     "status": "completed"
    },
    "tags": []
   },
   "source": [
    "Model Training:"
   ]
  },
  {
   "cell_type": "code",
   "execution_count": 6,
   "id": "7e7dd96f",
   "metadata": {
    "execution": {
     "iopub.execute_input": "2023-09-05T21:26:16.542898Z",
     "iopub.status.busy": "2023-09-05T21:26:16.542134Z",
     "iopub.status.idle": "2023-09-05T21:27:15.232774Z",
     "shell.execute_reply": "2023-09-05T21:27:15.231611Z"
    },
    "papermill": {
     "duration": 58.709719,
     "end_time": "2023-09-05T21:27:15.243278",
     "exception": false,
     "start_time": "2023-09-05T21:26:16.533559",
     "status": "completed"
    },
    "tags": []
   },
   "outputs": [
    {
     "data": {
      "text/html": [
       "<style>#sk-container-id-1 {color: black;background-color: white;}#sk-container-id-1 pre{padding: 0;}#sk-container-id-1 div.sk-toggleable {background-color: white;}#sk-container-id-1 label.sk-toggleable__label {cursor: pointer;display: block;width: 100%;margin-bottom: 0;padding: 0.3em;box-sizing: border-box;text-align: center;}#sk-container-id-1 label.sk-toggleable__label-arrow:before {content: \"▸\";float: left;margin-right: 0.25em;color: #696969;}#sk-container-id-1 label.sk-toggleable__label-arrow:hover:before {color: black;}#sk-container-id-1 div.sk-estimator:hover label.sk-toggleable__label-arrow:before {color: black;}#sk-container-id-1 div.sk-toggleable__content {max-height: 0;max-width: 0;overflow: hidden;text-align: left;background-color: #f0f8ff;}#sk-container-id-1 div.sk-toggleable__content pre {margin: 0.2em;color: black;border-radius: 0.25em;background-color: #f0f8ff;}#sk-container-id-1 input.sk-toggleable__control:checked~div.sk-toggleable__content {max-height: 200px;max-width: 100%;overflow: auto;}#sk-container-id-1 input.sk-toggleable__control:checked~label.sk-toggleable__label-arrow:before {content: \"▾\";}#sk-container-id-1 div.sk-estimator input.sk-toggleable__control:checked~label.sk-toggleable__label {background-color: #d4ebff;}#sk-container-id-1 div.sk-label input.sk-toggleable__control:checked~label.sk-toggleable__label {background-color: #d4ebff;}#sk-container-id-1 input.sk-hidden--visually {border: 0;clip: rect(1px 1px 1px 1px);clip: rect(1px, 1px, 1px, 1px);height: 1px;margin: -1px;overflow: hidden;padding: 0;position: absolute;width: 1px;}#sk-container-id-1 div.sk-estimator {font-family: monospace;background-color: #f0f8ff;border: 1px dotted black;border-radius: 0.25em;box-sizing: border-box;margin-bottom: 0.5em;}#sk-container-id-1 div.sk-estimator:hover {background-color: #d4ebff;}#sk-container-id-1 div.sk-parallel-item::after {content: \"\";width: 100%;border-bottom: 1px solid gray;flex-grow: 1;}#sk-container-id-1 div.sk-label:hover label.sk-toggleable__label {background-color: #d4ebff;}#sk-container-id-1 div.sk-serial::before {content: \"\";position: absolute;border-left: 1px solid gray;box-sizing: border-box;top: 0;bottom: 0;left: 50%;z-index: 0;}#sk-container-id-1 div.sk-serial {display: flex;flex-direction: column;align-items: center;background-color: white;padding-right: 0.2em;padding-left: 0.2em;position: relative;}#sk-container-id-1 div.sk-item {position: relative;z-index: 1;}#sk-container-id-1 div.sk-parallel {display: flex;align-items: stretch;justify-content: center;background-color: white;position: relative;}#sk-container-id-1 div.sk-item::before, #sk-container-id-1 div.sk-parallel-item::before {content: \"\";position: absolute;border-left: 1px solid gray;box-sizing: border-box;top: 0;bottom: 0;left: 50%;z-index: -1;}#sk-container-id-1 div.sk-parallel-item {display: flex;flex-direction: column;z-index: 1;position: relative;background-color: white;}#sk-container-id-1 div.sk-parallel-item:first-child::after {align-self: flex-end;width: 50%;}#sk-container-id-1 div.sk-parallel-item:last-child::after {align-self: flex-start;width: 50%;}#sk-container-id-1 div.sk-parallel-item:only-child::after {width: 0;}#sk-container-id-1 div.sk-dashed-wrapped {border: 1px dashed gray;margin: 0 0.4em 0.5em 0.4em;box-sizing: border-box;padding-bottom: 0.4em;background-color: white;}#sk-container-id-1 div.sk-label label {font-family: monospace;font-weight: bold;display: inline-block;line-height: 1.2em;}#sk-container-id-1 div.sk-label-container {text-align: center;}#sk-container-id-1 div.sk-container {/* jupyter's `normalize.less` sets `[hidden] { display: none; }` but bootstrap.min.css set `[hidden] { display: none !important; }` so we also need the `!important` here to be able to override the default hidden behavior on the sphinx rendered scikit-learn.org. See: https://github.com/scikit-learn/scikit-learn/issues/21755 */display: inline-block !important;position: relative;}#sk-container-id-1 div.sk-text-repr-fallback {display: none;}</style><div id=\"sk-container-id-1\" class=\"sk-top-container\"><div class=\"sk-text-repr-fallback\"><pre>RandomForestRegressor(random_state=42)</pre><b>In a Jupyter environment, please rerun this cell to show the HTML representation or trust the notebook. <br />On GitHub, the HTML representation is unable to render, please try loading this page with nbviewer.org.</b></div><div class=\"sk-container\" hidden><div class=\"sk-item\"><div class=\"sk-estimator sk-toggleable\"><input class=\"sk-toggleable__control sk-hidden--visually\" id=\"sk-estimator-id-1\" type=\"checkbox\" checked><label for=\"sk-estimator-id-1\" class=\"sk-toggleable__label sk-toggleable__label-arrow\">RandomForestRegressor</label><div class=\"sk-toggleable__content\"><pre>RandomForestRegressor(random_state=42)</pre></div></div></div></div></div>"
      ],
      "text/plain": [
       "RandomForestRegressor(random_state=42)"
      ]
     },
     "execution_count": 6,
     "metadata": {},
     "output_type": "execute_result"
    }
   ],
   "source": [
    "y = se[['wording', 'content']].values\n",
    "X_train, X_test, y_train, y_test = train_test_split(features, y, test_size=0.2, random_state=42)\n",
    "\n",
    "regressor = RandomForestRegressor(n_estimators=100, random_state=42)\n",
    "regressor.fit(X_train, y_train)\n"
   ]
  },
  {
   "cell_type": "markdown",
   "id": "3a28f12a",
   "metadata": {
    "papermill": {
     "duration": 0.007508,
     "end_time": "2023-09-05T21:27:15.258185",
     "exception": false,
     "start_time": "2023-09-05T21:27:15.250677",
     "status": "completed"
    },
    "tags": []
   },
   "source": [
    "Evaluation:"
   ]
  },
  {
   "cell_type": "code",
   "execution_count": 7,
   "id": "f7688da5",
   "metadata": {
    "execution": {
     "iopub.execute_input": "2023-09-05T21:27:15.275615Z",
     "iopub.status.busy": "2023-09-05T21:27:15.274827Z",
     "iopub.status.idle": "2023-09-05T21:27:15.333724Z",
     "shell.execute_reply": "2023-09-05T21:27:15.332493Z"
    },
    "papermill": {
     "duration": 0.07076,
     "end_time": "2023-09-05T21:27:15.336429",
     "exception": false,
     "start_time": "2023-09-05T21:27:15.265669",
     "status": "completed"
    },
    "tags": []
   },
   "outputs": [
    {
     "name": "stdout",
     "output_type": "stream",
     "text": [
      "RMSE for wording: 0.8203074912382924\n",
      "RMSE for content: 0.7703621494024757\n"
     ]
    }
   ],
   "source": [
    "y_pred = regressor.predict(X_test)\n",
    "rmse_wording = mean_squared_error(y_test[:, 0], y_pred[:, 0], squared=False)\n",
    "rmse_content = mean_squared_error(y_test[:, 1], y_pred[:, 1], squared=False)\n",
    "print(f\"RMSE for wording: {rmse_wording}\")\n",
    "print(f\"RMSE for content: {rmse_content}\")\n"
   ]
  },
  {
   "cell_type": "markdown",
   "id": "f19ad6f7",
   "metadata": {
    "papermill": {
     "duration": 0.007497,
     "end_time": "2023-09-05T21:27:15.351647",
     "exception": false,
     "start_time": "2023-09-05T21:27:15.344150",
     "status": "completed"
    },
    "tags": []
   },
   "source": [
    "Competition Test Set Prediction:"
   ]
  },
  {
   "cell_type": "code",
   "execution_count": 8,
   "id": "ec3df835",
   "metadata": {
    "execution": {
     "iopub.execute_input": "2023-09-05T21:27:15.368823Z",
     "iopub.status.busy": "2023-09-05T21:27:15.368372Z",
     "iopub.status.idle": "2023-09-05T21:27:15.391233Z",
     "shell.execute_reply": "2023-09-05T21:27:15.390119Z"
    },
    "papermill": {
     "duration": 0.03498,
     "end_time": "2023-09-05T21:27:15.394175",
     "exception": false,
     "start_time": "2023-09-05T21:27:15.359195",
     "status": "completed"
    },
    "tags": []
   },
   "outputs": [],
   "source": [
    "test_df = pd.read_csv(Path(\"/kaggle/input/commonlit-evaluate-student-summaries/summaries_test.csv\"))\n",
    "\n",
    "test_df['PreprocessedText'] = test_df['text'].apply(preprocess_text)\n",
    "test_sentences = test_df['PreprocessedText'].apply(lambda x: x.split()).tolist()\n",
    "X_test_competition = [average_word_vectors(tokens, model, vocabulary, 100) for tokens in test_sentences]\n",
    "predictions = regressor.predict(X_test_competition)\n"
   ]
  },
  {
   "cell_type": "markdown",
   "id": "8675deac",
   "metadata": {
    "papermill": {
     "duration": 0.007667,
     "end_time": "2023-09-05T21:27:15.409640",
     "exception": false,
     "start_time": "2023-09-05T21:27:15.401973",
     "status": "completed"
    },
    "tags": []
   },
   "source": [
    "Submission Creation:"
   ]
  },
  {
   "cell_type": "code",
   "execution_count": 9,
   "id": "44844524",
   "metadata": {
    "execution": {
     "iopub.execute_input": "2023-09-05T21:27:15.426889Z",
     "iopub.status.busy": "2023-09-05T21:27:15.426433Z",
     "iopub.status.idle": "2023-09-05T21:27:15.440100Z",
     "shell.execute_reply": "2023-09-05T21:27:15.439219Z"
    },
    "papermill": {
     "duration": 0.025272,
     "end_time": "2023-09-05T21:27:15.442451",
     "exception": false,
     "start_time": "2023-09-05T21:27:15.417179",
     "status": "completed"
    },
    "tags": []
   },
   "outputs": [],
   "source": [
    "submission_df = pd.DataFrame({\n",
    "    'student_id': test_df['student_id'],\n",
    "    'content': predictions[:, 1],\n",
    "    'wording': predictions[:, 0]\n",
    "})\n",
    "submission_df['content'] = np.clip(submission_df['content'], -2, 5)\n",
    "submission_df['wording'] = np.clip(submission_df['wording'], -2, 5)\n",
    "submission_df.to_csv(\"submission.csv\", index=False)\n"
   ]
  }
 ],
 "kernelspec": {
  "display_name": "Python 3",
  "language": "python",
  "name": "python3"
 },
 "language_info": {
  "codemirror_mode": {
   "name": "ipython",
   "version": 3
  },
  "file_extension": ".py",
  "mimetype": "text/x-python",
  "name": "python",
  "nbconvert_exporter": "python",
  "pygments_lexer": "ipython3",
  "version": "3.6.4"
 },
 "metadata": {
  "kernelspec": {
   "display_name": "Python 3",
   "language": "python",
   "name": "python3"
  },
  "language_info": {
   "codemirror_mode": {
    "name": "ipython",
    "version": 3
   },
   "file_extension": ".py",
   "mimetype": "text/x-python",
   "name": "python",
   "nbconvert_exporter": "python",
   "pygments_lexer": "ipython3",
   "version": "3.10.12"
  },
  "papermill": {
   "default_parameters": {},
   "duration": 123.296744,
   "end_time": "2023-09-05T21:27:18.618460",
   "environment_variables": {},
   "exception": null,
   "input_path": "__notebook__.ipynb",
   "output_path": "__notebook__.ipynb",
   "parameters": {},
   "start_time": "2023-09-05T21:25:15.321716",
   "version": "2.4.0"
  }
 },
 "nbformat": 4,
 "nbformat_minor": 5
}
