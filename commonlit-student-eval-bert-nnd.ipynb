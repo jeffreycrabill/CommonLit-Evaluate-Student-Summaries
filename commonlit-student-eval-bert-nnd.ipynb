{
 "cells": [
  {
   "cell_type": "code",
   "execution_count": 1,
   "id": "7ab59019",
   "metadata": {
    "_cell_guid": "b1076dfc-b9ad-4769-8c92-a6c4dae69d19",
    "_uuid": "8f2839f25d086af736a60e9eeb907d3b93b6e0e5",
    "execution": {
     "iopub.execute_input": "2023-09-06T20:25:35.301930Z",
     "iopub.status.busy": "2023-09-06T20:25:35.301518Z",
     "iopub.status.idle": "2023-09-06T20:25:53.385738Z",
     "shell.execute_reply": "2023-09-06T20:25:53.384495Z"
    },
    "papermill": {
     "duration": 18.096956,
     "end_time": "2023-09-06T20:25:53.388613",
     "exception": false,
     "start_time": "2023-09-06T20:25:35.291657",
     "status": "completed"
    },
    "tags": []
   },
   "outputs": [
    {
     "name": "stdout",
     "output_type": "stream",
     "text": [
      "/kaggle/input/huggingface-bertmodel-base-uncased/tokenizer/tokenizer_config.json\n",
      "/kaggle/input/huggingface-bertmodel-base-uncased/tokenizer/special_tokens_map.json\n",
      "/kaggle/input/huggingface-bertmodel-base-uncased/tokenizer/vocab.txt\n",
      "/kaggle/input/huggingface-bertmodel-base-uncased/Bert-base-uncased/config.json\n",
      "/kaggle/input/huggingface-bertmodel-base-uncased/Bert-base-uncased/pytorch_model.bin\n",
      "/kaggle/input/summary-test/summaries_test.csv\n",
      "/kaggle/input/bertmodel/bert.py\n",
      "/kaggle/input/bertmodel/config.json\n",
      "/kaggle/input/bertmodel/special_tokens_map.json\n",
      "/kaggle/input/bertmodel/vocab.txt\n",
      "/kaggle/input/commonlit-evaluate-student-summaries/sample_submission.csv\n",
      "/kaggle/input/commonlit-evaluate-student-summaries/prompts_train.csv\n",
      "/kaggle/input/commonlit-evaluate-student-summaries/summaries_test.csv\n",
      "/kaggle/input/commonlit-evaluate-student-summaries/summaries_train.csv\n",
      "/kaggle/input/commonlit-evaluate-student-summaries/prompts_test.csv\n"
     ]
    }
   ],
   "source": [
    "# Libraries for data manipulation and linear algebra\n",
    "import numpy as np \n",
    "import pandas as pd \n",
    "\n",
    "# For file paths\n",
    "from pathlib import Path  \n",
    "\n",
    "# Tensorflow and Keras for Neural Network\n",
    "import tensorflow as tf\n",
    "from tensorflow.keras.layers import Dense, Dropout\n",
    "from tensorflow.keras.models import Sequential\n",
    "from tensorflow.keras.regularizers import l2\n",
    "\n",
    "# Scikit-learn libraries for preprocessing, model evaluation, and text vectorization\n",
    "from sklearn.preprocessing import StandardScaler\n",
    "from sklearn.model_selection import train_test_split\n",
    "from sklearn.feature_extraction.text import TfidfVectorizer, CountVectorizer\n",
    "from sklearn.metrics import mean_squared_error\n",
    "from transformers import BertTokenizer, BertModel, AutoTokenizer, AutoModel\n",
    "import torch\n",
    "\n",
    "# Libraries for text processing\n",
    "import re\n",
    "import spacy\n",
    "from spacy.lang.en import English \n",
    "from spacy.lang.en.stop_words import STOP_WORDS\n",
    "\n",
    "# Visualization\n",
    "import matplotlib.pyplot as plt\n",
    "\n",
    "%matplotlib inline\n",
    "\n",
    "# Display input files\n",
    "import os\n",
    "for dirname, _, filenames in os.walk('/kaggle/input'):\n",
    "    for filename in filenames:\n",
    "        print(os.path.join(dirname, filename))\n"
   ]
  },
  {
   "cell_type": "markdown",
   "id": "36d410e8",
   "metadata": {
    "papermill": {
     "duration": 0.007187,
     "end_time": "2023-09-06T20:25:53.403263",
     "exception": false,
     "start_time": "2023-09-06T20:25:53.396076",
     "status": "completed"
    },
    "tags": []
   },
   "source": [
    "Load and Preprocess Dataset"
   ]
  },
  {
   "cell_type": "code",
   "execution_count": 2,
   "id": "21a0dffa",
   "metadata": {
    "execution": {
     "iopub.execute_input": "2023-09-06T20:25:53.419908Z",
     "iopub.status.busy": "2023-09-06T20:25:53.418400Z",
     "iopub.status.idle": "2023-09-06T20:25:54.060837Z",
     "shell.execute_reply": "2023-09-06T20:25:54.059910Z"
    },
    "papermill": {
     "duration": 0.653261,
     "end_time": "2023-09-06T20:25:54.063411",
     "exception": false,
     "start_time": "2023-09-06T20:25:53.410150",
     "status": "completed"
    },
    "tags": []
   },
   "outputs": [],
   "source": [
    "# Load the dataset \n",
    "\n",
    "file_path = '/kaggle/input/commonlit-evaluate-student-summaries/summaries_train.csv'\n",
    "se = pd.read_csv(file_path)\n",
    "\n",
    "# Drop rows with missing 'wording' and 'content'\n",
    "se.dropna(subset=['wording', 'content'], inplace=True)\n",
    "\n",
    "# Fill missing 'text' values\n",
    "se['text'].fillna('', inplace=True)\n",
    "\n",
    "# Text preprocessing function\n",
    "def preprocess_text(text):\n",
    "    text = text.replace('\\n', ' ').lower()\n",
    "    text = re.sub(r\"[^a-zA-Z0-9]\", \" \", text)\n",
    "    text = ' '.join([word for word in text.split() if word.isalpha() and word not in STOP_WORDS])\n",
    "    return ' '.join(text.split())\n",
    "\n",
    "# Apply the preprocessing function to texts\n",
    "se['PreprocessedText'] = se['text'].apply(preprocess_text)\n"
   ]
  },
  {
   "cell_type": "markdown",
   "id": "b924297c",
   "metadata": {
    "papermill": {
     "duration": 0.006997,
     "end_time": "2023-09-06T20:25:54.077724",
     "exception": false,
     "start_time": "2023-09-06T20:25:54.070727",
     "status": "completed"
    },
    "tags": []
   },
   "source": [
    "Vectorization of Text Data"
   ]
  },
  {
   "cell_type": "code",
   "execution_count": 3,
   "id": "a1eea3b6",
   "metadata": {
    "execution": {
     "iopub.execute_input": "2023-09-06T20:25:54.094295Z",
     "iopub.status.busy": "2023-09-06T20:25:54.093893Z",
     "iopub.status.idle": "2023-09-06T20:38:06.028912Z",
     "shell.execute_reply": "2023-09-06T20:38:06.027535Z"
    },
    "papermill": {
     "duration": 731.947609,
     "end_time": "2023-09-06T20:38:06.032389",
     "exception": false,
     "start_time": "2023-09-06T20:25:54.084780",
     "status": "completed"
    },
    "tags": []
   },
   "outputs": [],
   "source": [
    "# Vectorize preprocessed texts\n",
    "MODEL_DIR = \"/kaggle/input/huggingface-bertmodel-base-uncased/\"\n",
    "tokenizer = AutoTokenizer.from_pretrained(MODEL_DIR + \"tokenizer\")\n",
    "bert_model = AutoModel.from_pretrained(MODEL_DIR + \"Bert-base-uncased\")\n",
    "\n",
    "def get_bert_embedding(text):\n",
    "    inputs = tokenizer(text, return_tensors=\"pt\", truncation=True, padding=True, max_length=512)\n",
    "    with torch.no_grad():\n",
    "        output = bert_model(**inputs)\n",
    "    # The model's output is a tuple, where the first element is the embeddings\n",
    "    embeddings = output[0]\n",
    "    # Taking the mean of the word embeddings as representation\n",
    "    return embeddings.mean(dim=1).numpy()\n",
    "\n",
    "X = np.array([get_bert_embedding(text) for text in se['PreprocessedText']])\n",
    "\n",
    "# Split data into training and testing sets\n",
    "y = se[['wording', 'content']].values\n",
    "X_train, X_test, y_train, y_test = train_test_split(X, y, test_size=0.2, random_state=42)"
   ]
  },
  {
   "cell_type": "markdown",
   "id": "c566c154",
   "metadata": {
    "papermill": {
     "duration": 0.006881,
     "end_time": "2023-09-06T20:38:06.046950",
     "exception": false,
     "start_time": "2023-09-06T20:38:06.040069",
     "status": "completed"
    },
    "tags": []
   },
   "source": [
    "Data Preparation for Neural Network"
   ]
  },
  {
   "cell_type": "code",
   "execution_count": 4,
   "id": "d794a9ad",
   "metadata": {
    "execution": {
     "iopub.execute_input": "2023-09-06T20:38:06.063052Z",
     "iopub.status.busy": "2023-09-06T20:38:06.062626Z",
     "iopub.status.idle": "2023-09-06T20:38:06.142454Z",
     "shell.execute_reply": "2023-09-06T20:38:06.141432Z"
    },
    "papermill": {
     "duration": 0.091057,
     "end_time": "2023-09-06T20:38:06.145073",
     "exception": false,
     "start_time": "2023-09-06T20:38:06.054016",
     "status": "completed"
    },
    "tags": []
   },
   "outputs": [],
   "source": [
    "# Reshape data into 2D array\n",
    "X_train = X_train.reshape(X_train.shape[0], -1)\n",
    "X_test = X_test.reshape(X_test.shape[0], -1)\n",
    "\n",
    "\n",
    "# Scale data\n",
    "scaler = StandardScaler()\n",
    "X_train_scaled = scaler.fit_transform(X_train)\n",
    "X_test_scaled = scaler.transform(X_test)\n"
   ]
  },
  {
   "cell_type": "markdown",
   "id": "eba1d2dd",
   "metadata": {
    "papermill": {
     "duration": 0.006801,
     "end_time": "2023-09-06T20:38:06.159040",
     "exception": false,
     "start_time": "2023-09-06T20:38:06.152239",
     "status": "completed"
    },
    "tags": []
   },
   "source": [
    "Neural Network Model Building and Training"
   ]
  },
  {
   "cell_type": "code",
   "execution_count": 5,
   "id": "5eb50cdb",
   "metadata": {
    "execution": {
     "iopub.execute_input": "2023-09-06T20:38:06.175502Z",
     "iopub.status.busy": "2023-09-06T20:38:06.175139Z",
     "iopub.status.idle": "2023-09-06T20:39:00.075402Z",
     "shell.execute_reply": "2023-09-06T20:39:00.074111Z"
    },
    "papermill": {
     "duration": 53.91222,
     "end_time": "2023-09-06T20:39:00.078123",
     "exception": false,
     "start_time": "2023-09-06T20:38:06.165903",
     "status": "completed"
    },
    "tags": []
   },
   "outputs": [
    {
     "name": "stdout",
     "output_type": "stream",
     "text": [
      "Epoch 1/50\n",
      "144/144 [==============================] - 3s 9ms/step - loss: 1.6454 - mse: 0.8365 - val_loss: 1.3605 - val_mse: 0.7279\n",
      "Epoch 2/50\n",
      "144/144 [==============================] - 1s 7ms/step - loss: 1.2778 - mse: 0.7819 - val_loss: 1.1430 - val_mse: 0.7614\n",
      "Epoch 3/50\n",
      "144/144 [==============================] - 1s 7ms/step - loss: 1.0811 - mse: 0.7751 - val_loss: 0.9801 - val_mse: 0.7397\n",
      "Epoch 4/50\n",
      "144/144 [==============================] - 1s 7ms/step - loss: 0.9630 - mse: 0.7643 - val_loss: 0.8843 - val_mse: 0.7218\n",
      "Epoch 5/50\n",
      "144/144 [==============================] - 1s 8ms/step - loss: 0.8923 - mse: 0.7551 - val_loss: 0.8340 - val_mse: 0.7196\n",
      "Epoch 6/50\n",
      "144/144 [==============================] - 1s 8ms/step - loss: 0.8593 - mse: 0.7575 - val_loss: 0.8204 - val_mse: 0.7298\n",
      "Epoch 7/50\n",
      "144/144 [==============================] - 1s 7ms/step - loss: 0.8365 - mse: 0.7548 - val_loss: 0.8018 - val_mse: 0.7292\n",
      "Epoch 8/50\n",
      "144/144 [==============================] - 1s 7ms/step - loss: 0.8206 - mse: 0.7536 - val_loss: 0.7754 - val_mse: 0.7130\n",
      "Epoch 9/50\n",
      "144/144 [==============================] - 1s 7ms/step - loss: 0.8108 - mse: 0.7514 - val_loss: 0.7714 - val_mse: 0.7152\n",
      "Epoch 10/50\n",
      "144/144 [==============================] - 1s 7ms/step - loss: 0.8062 - mse: 0.7523 - val_loss: 0.7702 - val_mse: 0.7169\n",
      "Epoch 11/50\n",
      "144/144 [==============================] - 1s 7ms/step - loss: 0.8013 - mse: 0.7500 - val_loss: 0.7598 - val_mse: 0.7105\n",
      "Epoch 12/50\n",
      "144/144 [==============================] - 1s 7ms/step - loss: 0.7914 - mse: 0.7432 - val_loss: 0.7602 - val_mse: 0.7125\n",
      "Epoch 13/50\n",
      "144/144 [==============================] - 1s 7ms/step - loss: 0.8000 - mse: 0.7518 - val_loss: 0.7561 - val_mse: 0.7060\n",
      "Epoch 14/50\n",
      "144/144 [==============================] - 1s 7ms/step - loss: 0.7930 - mse: 0.7450 - val_loss: 0.7602 - val_mse: 0.7145\n",
      "Epoch 15/50\n",
      "144/144 [==============================] - 1s 7ms/step - loss: 0.7859 - mse: 0.7415 - val_loss: 0.7558 - val_mse: 0.7139\n",
      "Epoch 16/50\n",
      "144/144 [==============================] - 1s 7ms/step - loss: 0.7869 - mse: 0.7447 - val_loss: 0.7586 - val_mse: 0.7156\n",
      "Epoch 17/50\n",
      "144/144 [==============================] - 1s 7ms/step - loss: 0.7882 - mse: 0.7452 - val_loss: 0.7614 - val_mse: 0.7173\n",
      "Epoch 18/50\n",
      "144/144 [==============================] - 1s 8ms/step - loss: 0.7853 - mse: 0.7420 - val_loss: 0.7680 - val_mse: 0.7252\n",
      "Epoch 19/50\n",
      "144/144 [==============================] - 1s 7ms/step - loss: 0.7798 - mse: 0.7382 - val_loss: 0.7404 - val_mse: 0.6999\n",
      "Epoch 20/50\n",
      "144/144 [==============================] - 1s 7ms/step - loss: 0.7856 - mse: 0.7442 - val_loss: 0.7413 - val_mse: 0.6999\n",
      "Epoch 21/50\n",
      "144/144 [==============================] - 1s 7ms/step - loss: 0.7787 - mse: 0.7371 - val_loss: 0.7481 - val_mse: 0.7060\n",
      "Epoch 22/50\n",
      "144/144 [==============================] - 1s 7ms/step - loss: 0.7796 - mse: 0.7366 - val_loss: 0.7514 - val_mse: 0.7084\n",
      "Epoch 23/50\n",
      "144/144 [==============================] - 1s 7ms/step - loss: 0.7799 - mse: 0.7387 - val_loss: 0.7625 - val_mse: 0.7219\n",
      "Epoch 24/50\n",
      "144/144 [==============================] - 1s 7ms/step - loss: 0.7832 - mse: 0.7415 - val_loss: 0.7479 - val_mse: 0.7064\n",
      "Epoch 25/50\n",
      "144/144 [==============================] - 1s 7ms/step - loss: 0.7776 - mse: 0.7371 - val_loss: 0.7553 - val_mse: 0.7153\n",
      "Epoch 26/50\n",
      "144/144 [==============================] - 1s 7ms/step - loss: 0.7733 - mse: 0.7341 - val_loss: 0.7394 - val_mse: 0.7004\n",
      "Epoch 27/50\n",
      "144/144 [==============================] - 1s 7ms/step - loss: 0.7802 - mse: 0.7401 - val_loss: 0.7551 - val_mse: 0.7144\n",
      "Epoch 28/50\n",
      "144/144 [==============================] - 1s 7ms/step - loss: 0.7831 - mse: 0.7419 - val_loss: 0.7462 - val_mse: 0.7048\n",
      "Epoch 29/50\n",
      "144/144 [==============================] - 1s 7ms/step - loss: 0.7732 - mse: 0.7331 - val_loss: 0.7607 - val_mse: 0.7218\n",
      "Epoch 30/50\n",
      "144/144 [==============================] - 1s 7ms/step - loss: 0.7748 - mse: 0.7361 - val_loss: 0.7578 - val_mse: 0.7182\n",
      "Epoch 31/50\n",
      "144/144 [==============================] - 1s 8ms/step - loss: 0.7722 - mse: 0.7334 - val_loss: 0.7453 - val_mse: 0.7065\n",
      "Epoch 32/50\n",
      "144/144 [==============================] - 1s 7ms/step - loss: 0.7697 - mse: 0.7304 - val_loss: 0.7472 - val_mse: 0.7091\n",
      "Epoch 33/50\n",
      "144/144 [==============================] - 1s 7ms/step - loss: 0.7713 - mse: 0.7334 - val_loss: 0.7448 - val_mse: 0.7067\n",
      "Epoch 34/50\n",
      "144/144 [==============================] - 1s 7ms/step - loss: 0.7715 - mse: 0.7341 - val_loss: 0.7412 - val_mse: 0.7042\n",
      "Epoch 35/50\n",
      "144/144 [==============================] - 1s 7ms/step - loss: 0.7693 - mse: 0.7326 - val_loss: 0.7378 - val_mse: 0.7016\n",
      "Epoch 36/50\n",
      "144/144 [==============================] - 1s 8ms/step - loss: 0.7729 - mse: 0.7363 - val_loss: 0.7390 - val_mse: 0.7030\n",
      "Epoch 37/50\n",
      "144/144 [==============================] - 1s 7ms/step - loss: 0.7683 - mse: 0.7326 - val_loss: 0.7432 - val_mse: 0.7072\n",
      "Epoch 38/50\n",
      "144/144 [==============================] - 1s 7ms/step - loss: 0.7670 - mse: 0.7307 - val_loss: 0.7455 - val_mse: 0.7096\n",
      "Epoch 39/50\n",
      "144/144 [==============================] - 1s 7ms/step - loss: 0.7653 - mse: 0.7297 - val_loss: 0.7447 - val_mse: 0.7091\n",
      "Epoch 40/50\n",
      "144/144 [==============================] - 1s 7ms/step - loss: 0.7700 - mse: 0.7341 - val_loss: 0.7749 - val_mse: 0.7384\n",
      "Epoch 41/50\n",
      "144/144 [==============================] - 1s 8ms/step - loss: 0.7675 - mse: 0.7308 - val_loss: 0.7457 - val_mse: 0.7087\n",
      "Epoch 42/50\n",
      "144/144 [==============================] - 1s 7ms/step - loss: 0.7669 - mse: 0.7297 - val_loss: 0.7483 - val_mse: 0.7108\n",
      "Epoch 43/50\n",
      "144/144 [==============================] - 1s 7ms/step - loss: 0.7698 - mse: 0.7321 - val_loss: 0.7439 - val_mse: 0.7073\n",
      "Epoch 44/50\n",
      "144/144 [==============================] - 1s 7ms/step - loss: 0.7646 - mse: 0.7280 - val_loss: 0.7571 - val_mse: 0.7202\n",
      "Epoch 45/50\n",
      "144/144 [==============================] - 1s 7ms/step - loss: 0.7654 - mse: 0.7289 - val_loss: 0.7404 - val_mse: 0.7042\n",
      "Epoch 46/50\n",
      "144/144 [==============================] - 1s 7ms/step - loss: 0.7628 - mse: 0.7265 - val_loss: 0.7480 - val_mse: 0.7119\n",
      "Epoch 47/50\n",
      "144/144 [==============================] - 1s 7ms/step - loss: 0.7630 - mse: 0.7274 - val_loss: 0.7496 - val_mse: 0.7136\n",
      "Epoch 48/50\n",
      "144/144 [==============================] - 1s 7ms/step - loss: 0.7650 - mse: 0.7291 - val_loss: 0.7412 - val_mse: 0.7058\n",
      "Epoch 49/50\n",
      "144/144 [==============================] - 1s 7ms/step - loss: 0.7613 - mse: 0.7262 - val_loss: 0.7586 - val_mse: 0.7231\n",
      "Epoch 50/50\n",
      "144/144 [==============================] - 1s 8ms/step - loss: 0.7681 - mse: 0.7317 - val_loss: 0.7585 - val_mse: 0.7222\n"
     ]
    },
    {
     "data": {
      "text/plain": [
       "<keras.callbacks.History at 0x78d7d9dd1270>"
      ]
     },
     "execution_count": 5,
     "metadata": {},
     "output_type": "execute_result"
    }
   ],
   "source": [
    "# Define model architecture\n",
    "hidden_nodes_l1 = (X_train_scaled.shape[1] + 1) // 2\n",
    "hidden_nodes_l2 = (hidden_nodes_l1 + 1) // 2\n",
    "hidden_nodes_l3 = (hidden_nodes_l2 + 1) // 2\n",
    "hidden_nodes_l4 = (hidden_nodes_l3 + 1) // 2\n",
    "\n",
    "model = Sequential([\n",
    "    Dense(hidden_nodes_l1, input_dim=X_train_scaled.shape[1], activation='relu', kernel_regularizer=l2(0.001)),\n",
    "    Dropout(0.25),\n",
    "    Dense(hidden_nodes_l2, activation='tanh', kernel_regularizer=l2(0.001)),\n",
    "    Dropout(0.25),\n",
    "    Dense(hidden_nodes_l3, activation='relu', kernel_regularizer=l2(0.001)),\n",
    "    Dropout(0.25),\n",
    "    Dense(hidden_nodes_l4, activation='tanh', kernel_regularizer=l2(0.001)),\n",
    "    # Output layer with two nodes for \"wording\" and \"content\"\n",
    "    Dense(2, activation='sigmoid')  \n",
    "])\n",
    "\n",
    "model.compile(optimizer='adam', loss='mean_squared_error', metrics=['mse'])\n",
    "model.fit(X_train_scaled, y_train, epochs=50, batch_size=32, validation_split=0.2)\n"
   ]
  },
  {
   "cell_type": "markdown",
   "id": "8c4c98e1",
   "metadata": {
    "papermill": {
     "duration": 0.112756,
     "end_time": "2023-09-06T20:39:00.360424",
     "exception": false,
     "start_time": "2023-09-06T20:39:00.247668",
     "status": "completed"
    },
    "tags": []
   },
   "source": [
    "Evaluation"
   ]
  },
  {
   "cell_type": "code",
   "execution_count": 6,
   "id": "f9b2d4fb",
   "metadata": {
    "execution": {
     "iopub.execute_input": "2023-09-06T20:39:00.558376Z",
     "iopub.status.busy": "2023-09-06T20:39:00.557615Z",
     "iopub.status.idle": "2023-09-06T20:39:00.879117Z",
     "shell.execute_reply": "2023-09-06T20:39:00.877908Z"
    },
    "papermill": {
     "duration": 0.426081,
     "end_time": "2023-09-06T20:39:00.881932",
     "exception": false,
     "start_time": "2023-09-06T20:39:00.455851",
     "status": "completed"
    },
    "tags": []
   },
   "outputs": [
    {
     "name": "stdout",
     "output_type": "stream",
     "text": [
      "45/45 [==============================] - 0s 2ms/step\n",
      "RMSE for wording: 0.8931649571177654\n",
      "RMSE for content: 0.8336680928919784\n"
     ]
    }
   ],
   "source": [
    "# Predict on test data\n",
    "y_pred = model.predict(X_test_scaled)\n",
    "\n",
    "rmse_wording = mean_squared_error(y_test[:, 0], y_pred[:, 0], squared=False)\n",
    "rmse_content = mean_squared_error(y_test[:, 1], y_pred[:, 1], squared=False)\n",
    "\n",
    "print(f\"RMSE for wording: {rmse_wording}\")\n",
    "print(f\"RMSE for content: {rmse_content}\")\n"
   ]
  },
  {
   "cell_type": "code",
   "execution_count": 7,
   "id": "c44f5e93",
   "metadata": {
    "execution": {
     "iopub.execute_input": "2023-09-06T20:39:01.073541Z",
     "iopub.status.busy": "2023-09-06T20:39:01.073121Z",
     "iopub.status.idle": "2023-09-06T20:39:01.263883Z",
     "shell.execute_reply": "2023-09-06T20:39:01.262397Z"
    },
    "papermill": {
     "duration": 0.288897,
     "end_time": "2023-09-06T20:39:01.266581",
     "exception": false,
     "start_time": "2023-09-06T20:39:00.977684",
     "status": "completed"
    },
    "tags": []
   },
   "outputs": [
    {
     "name": "stdout",
     "output_type": "stream",
     "text": [
      "(4, 768)\n"
     ]
    }
   ],
   "source": [
    "# Load test dataset for competition\n",
    "test_df = pd.read_csv(Path(\"/kaggle/input/commonlit-evaluate-student-summaries/summaries_test.csv\"))\n",
    "\n",
    "# Preprocess and vectorize the test data\n",
    "test_df['PreprocessedText'] = test_df['text'].apply(preprocess_text)\n",
    "X_test_competition = np.array([get_bert_embedding(text) for text in test_df['PreprocessedText']])\n",
    "\n",
    "X_test_competition = X_test_competition.reshape(X_test_competition.shape[0], -1)\n",
    "print(X_test_competition.shape)\n",
    "\n"
   ]
  },
  {
   "cell_type": "markdown",
   "id": "ea6f4d3e",
   "metadata": {
    "papermill": {
     "duration": 0.094824,
     "end_time": "2023-09-06T20:39:01.456392",
     "exception": false,
     "start_time": "2023-09-06T20:39:01.361568",
     "status": "completed"
    },
    "tags": []
   },
   "source": [
    "Prepare Submission for Competition"
   ]
  },
  {
   "cell_type": "code",
   "execution_count": 8,
   "id": "e3aae321",
   "metadata": {
    "execution": {
     "iopub.execute_input": "2023-09-06T20:39:01.649266Z",
     "iopub.status.busy": "2023-09-06T20:39:01.648890Z",
     "iopub.status.idle": "2023-09-06T20:39:01.724016Z",
     "shell.execute_reply": "2023-09-06T20:39:01.722800Z"
    },
    "papermill": {
     "duration": 0.173164,
     "end_time": "2023-09-06T20:39:01.726563",
     "exception": false,
     "start_time": "2023-09-06T20:39:01.553399",
     "status": "completed"
    },
    "tags": []
   },
   "outputs": [
    {
     "name": "stdout",
     "output_type": "stream",
     "text": [
      "1/1 [==============================] - 0s 21ms/step\n",
      "(4, 2)\n"
     ]
    }
   ],
   "source": [
    "# Predict using the trained model\n",
    "predictions = model.predict(X_test_competition)\n",
    "\n",
    "print(predictions.shape)"
   ]
  },
  {
   "cell_type": "code",
   "execution_count": 9,
   "id": "894d763d",
   "metadata": {
    "execution": {
     "iopub.execute_input": "2023-09-06T20:39:01.917421Z",
     "iopub.status.busy": "2023-09-06T20:39:01.917043Z",
     "iopub.status.idle": "2023-09-06T20:39:01.922496Z",
     "shell.execute_reply": "2023-09-06T20:39:01.921429Z"
    },
    "papermill": {
     "duration": 0.103759,
     "end_time": "2023-09-06T20:39:01.925017",
     "exception": false,
     "start_time": "2023-09-06T20:39:01.821258",
     "status": "completed"
    },
    "tags": []
   },
   "outputs": [
    {
     "name": "stdout",
     "output_type": "stream",
     "text": [
      "(4, 2)\n"
     ]
    }
   ],
   "source": [
    "# Flatten predictions\n",
    "predictions = predictions.reshape(-1, 2)\n",
    "print(predictions.shape)"
   ]
  },
  {
   "cell_type": "code",
   "execution_count": 10,
   "id": "a800527b",
   "metadata": {
    "execution": {
     "iopub.execute_input": "2023-09-06T20:39:02.115613Z",
     "iopub.status.busy": "2023-09-06T20:39:02.115181Z",
     "iopub.status.idle": "2023-09-06T20:39:02.129969Z",
     "shell.execute_reply": "2023-09-06T20:39:02.128907Z"
    },
    "papermill": {
     "duration": 0.11292,
     "end_time": "2023-09-06T20:39:02.132598",
     "exception": false,
     "start_time": "2023-09-06T20:39:02.019678",
     "status": "completed"
    },
    "tags": []
   },
   "outputs": [],
   "source": [
    "# Prepare submission DataFrame\n",
    "submission_df = pd.DataFrame({\n",
    "    'student_id': test_df['student_id'],\n",
    "    'content': predictions[:, 1],\n",
    "    'wording': predictions[:, 0]\n",
    "})\n",
    "\n",
    "# Clip values to be within expected bounds\n",
    "submission_df['content'] = np.clip(submission_df['content'], -2, 5)\n",
    "submission_df['wording'] = np.clip(submission_df['wording'], -2, 5)\n",
    "\n",
    "# Save submission to a CSV\n",
    "submission_df.to_csv(\"submission.csv\", index=False)"
   ]
  }
 ],
 "kernelspec": {
  "display_name": "Python 3",
  "language": "python",
  "name": "python3"
 },
 "language_info": {
  "codemirror_mode": {
   "name": "ipython",
   "version": 3
  },
  "file_extension": ".py",
  "mimetype": "text/x-python",
  "name": "python",
  "nbconvert_exporter": "python",
  "pygments_lexer": "ipython3",
  "version": "3.6.4"
 },
 "metadata": {
  "kernelspec": {
   "display_name": "Python 3",
   "language": "python",
   "name": "python3"
  },
  "language_info": {
   "codemirror_mode": {
    "name": "ipython",
    "version": 3
   },
   "file_extension": ".py",
   "mimetype": "text/x-python",
   "name": "python",
   "nbconvert_exporter": "python",
   "pygments_lexer": "ipython3",
   "version": "3.10.12"
  },
  "papermill": {
   "default_parameters": {},
   "duration": 813.947599,
   "end_time": "2023-09-06T20:39:05.474779",
   "environment_variables": {},
   "exception": null,
   "input_path": "__notebook__.ipynb",
   "output_path": "__notebook__.ipynb",
   "parameters": {},
   "start_time": "2023-09-06T20:25:31.527180",
   "version": "2.4.0"
  }
 },
 "nbformat": 4,
 "nbformat_minor": 5
}
