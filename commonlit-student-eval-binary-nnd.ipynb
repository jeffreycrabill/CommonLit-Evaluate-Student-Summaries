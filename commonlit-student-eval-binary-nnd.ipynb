{
 "cells": [
  {
   "cell_type": "code",
   "execution_count": 1,
   "id": "91ed74da",
   "metadata": {
    "_cell_guid": "b1076dfc-b9ad-4769-8c92-a6c4dae69d19",
    "_uuid": "8f2839f25d086af736a60e9eeb907d3b93b6e0e5",
    "execution": {
     "iopub.execute_input": "2023-09-05T20:55:49.692632Z",
     "iopub.status.busy": "2023-09-05T20:55:49.691927Z",
     "iopub.status.idle": "2023-09-05T20:56:03.608411Z",
     "shell.execute_reply": "2023-09-05T20:56:03.607313Z"
    },
    "papermill": {
     "duration": 13.926884,
     "end_time": "2023-09-05T20:56:03.611076",
     "exception": false,
     "start_time": "2023-09-05T20:55:49.684192",
     "status": "completed"
    },
    "tags": []
   },
   "outputs": [
    {
     "name": "stdout",
     "output_type": "stream",
     "text": [
      "/kaggle/input/summary-test/summaries_test.csv\n",
      "/kaggle/input/commonlit-evaluate-student-summaries/sample_submission.csv\n",
      "/kaggle/input/commonlit-evaluate-student-summaries/prompts_train.csv\n",
      "/kaggle/input/commonlit-evaluate-student-summaries/summaries_test.csv\n",
      "/kaggle/input/commonlit-evaluate-student-summaries/summaries_train.csv\n",
      "/kaggle/input/commonlit-evaluate-student-summaries/prompts_test.csv\n"
     ]
    }
   ],
   "source": [
    "# Libraries for data manipulation and linear algebra\n",
    "import numpy as np \n",
    "import pandas as pd \n",
    "\n",
    "# For file paths\n",
    "from pathlib import Path  \n",
    "\n",
    "# Tensorflow and Keras for Neural Network\n",
    "import tensorflow as tf\n",
    "from tensorflow.keras.layers import Dense, Dropout\n",
    "from tensorflow.keras.models import Sequential\n",
    "from tensorflow.keras.regularizers import l2\n",
    "\n",
    "# Scikit-learn libraries for preprocessing, model evaluation, and text vectorization\n",
    "from sklearn.preprocessing import StandardScaler\n",
    "from sklearn.model_selection import train_test_split\n",
    "from sklearn.feature_extraction.text import TfidfVectorizer, CountVectorizer\n",
    "from sklearn.metrics import mean_squared_error\n",
    "\n",
    "# Libraries for text processing\n",
    "import re\n",
    "import spacy\n",
    "from spacy.lang.en import English \n",
    "from spacy.lang.en.stop_words import STOP_WORDS\n",
    "\n",
    "# Visualization\n",
    "import matplotlib.pyplot as plt\n",
    "\n",
    "%matplotlib inline\n",
    "\n",
    "# Display input files\n",
    "import os\n",
    "for dirname, _, filenames in os.walk('/kaggle/input'):\n",
    "    for filename in filenames:\n",
    "        print(os.path.join(dirname, filename))\n"
   ]
  },
  {
   "cell_type": "markdown",
   "id": "1a22be75",
   "metadata": {
    "papermill": {
     "duration": 0.004435,
     "end_time": "2023-09-05T20:56:03.620674",
     "exception": false,
     "start_time": "2023-09-05T20:56:03.616239",
     "status": "completed"
    },
    "tags": []
   },
   "source": [
    "Load and Preprocess Dataset"
   ]
  },
  {
   "cell_type": "code",
   "execution_count": 2,
   "id": "2962bfe8",
   "metadata": {
    "execution": {
     "iopub.execute_input": "2023-09-05T20:56:03.631996Z",
     "iopub.status.busy": "2023-09-05T20:56:03.631051Z",
     "iopub.status.idle": "2023-09-05T20:56:04.142631Z",
     "shell.execute_reply": "2023-09-05T20:56:04.141266Z"
    },
    "papermill": {
     "duration": 0.520381,
     "end_time": "2023-09-05T20:56:04.145571",
     "exception": false,
     "start_time": "2023-09-05T20:56:03.625190",
     "status": "completed"
    },
    "tags": []
   },
   "outputs": [],
   "source": [
    "# Load the dataset\n",
    "file_path = '/kaggle/input/commonlit-evaluate-student-summaries/summaries_train.csv'\n",
    "se = pd.read_csv(file_path)\n",
    "\n",
    "# Drop rows with missing 'wording' and 'content'\n",
    "se.dropna(subset=['wording', 'content'], inplace=True)\n",
    "\n",
    "# Fill missing 'text' values\n",
    "se['text'].fillna('', inplace=True)\n",
    "\n",
    "# Text preprocessing function\n",
    "def preprocess_text(text):\n",
    "    text = text.replace('\\n', ' ').lower()\n",
    "    text = re.sub(r\"[^a-zA-Z0-9]\", \" \", text)\n",
    "    text = ' '.join([word for word in text.split() if word.isalpha() and word not in STOP_WORDS])\n",
    "    return ' '.join(text.split())\n",
    "\n",
    "# Apply the preprocessing function to texts\n",
    "se['PreprocessedText'] = se['text'].apply(preprocess_text)\n"
   ]
  },
  {
   "cell_type": "markdown",
   "id": "baf2354c",
   "metadata": {
    "papermill": {
     "duration": 0.004715,
     "end_time": "2023-09-05T20:56:04.155380",
     "exception": false,
     "start_time": "2023-09-05T20:56:04.150665",
     "status": "completed"
    },
    "tags": []
   },
   "source": [
    "Vectorization of Text Data"
   ]
  },
  {
   "cell_type": "code",
   "execution_count": 3,
   "id": "82dedbea",
   "metadata": {
    "execution": {
     "iopub.execute_input": "2023-09-05T20:56:04.167063Z",
     "iopub.status.busy": "2023-09-05T20:56:04.166683Z",
     "iopub.status.idle": "2023-09-05T20:56:04.412387Z",
     "shell.execute_reply": "2023-09-05T20:56:04.411480Z"
    },
    "papermill": {
     "duration": 0.254776,
     "end_time": "2023-09-05T20:56:04.414986",
     "exception": false,
     "start_time": "2023-09-05T20:56:04.160210",
     "status": "completed"
    },
    "tags": []
   },
   "outputs": [],
   "source": [
    "# Vectorize preprocessed texts\n",
    "vectorizer = CountVectorizer(binary=True, max_features=5000)\n",
    "X = vectorizer.fit_transform(se['PreprocessedText'])\n",
    "\n",
    "# Split data into training and testing sets\n",
    "y = se[['wording', 'content']].values\n",
    "X_train, X_test, y_train, y_test = train_test_split(X, y, test_size=0.2, random_state=42)\n"
   ]
  },
  {
   "cell_type": "markdown",
   "id": "3c64ab78",
   "metadata": {
    "papermill": {
     "duration": 0.004494,
     "end_time": "2023-09-05T20:56:04.424385",
     "exception": false,
     "start_time": "2023-09-05T20:56:04.419891",
     "status": "completed"
    },
    "tags": []
   },
   "source": [
    "Data Preparation for Neural Network"
   ]
  },
  {
   "cell_type": "code",
   "execution_count": 4,
   "id": "f60ce8d3",
   "metadata": {
    "execution": {
     "iopub.execute_input": "2023-09-05T20:56:04.435207Z",
     "iopub.status.busy": "2023-09-05T20:56:04.434852Z",
     "iopub.status.idle": "2023-09-05T20:56:05.228690Z",
     "shell.execute_reply": "2023-09-05T20:56:05.227619Z"
    },
    "papermill": {
     "duration": 0.802176,
     "end_time": "2023-09-05T20:56:05.231104",
     "exception": false,
     "start_time": "2023-09-05T20:56:04.428928",
     "status": "completed"
    },
    "tags": []
   },
   "outputs": [],
   "source": [
    "# Convert sparse matrix to dense format\n",
    "X_train_dense = X_train.toarray()\n",
    "X_test_dense = X_test.toarray()\n",
    "\n",
    "# Scale data\n",
    "scaler = StandardScaler()\n",
    "X_train_scaled = scaler.fit_transform(X_train_dense)\n",
    "X_test_scaled = scaler.transform(X_test_dense)\n"
   ]
  },
  {
   "cell_type": "markdown",
   "id": "e49704bf",
   "metadata": {
    "papermill": {
     "duration": 0.004716,
     "end_time": "2023-09-05T20:56:05.241060",
     "exception": false,
     "start_time": "2023-09-05T20:56:05.236344",
     "status": "completed"
    },
    "tags": []
   },
   "source": [
    "Neural Network Model Building and Training"
   ]
  },
  {
   "cell_type": "code",
   "execution_count": 5,
   "id": "3db6d97b",
   "metadata": {
    "execution": {
     "iopub.execute_input": "2023-09-05T20:56:05.252162Z",
     "iopub.status.busy": "2023-09-05T20:56:05.251494Z",
     "iopub.status.idle": "2023-09-05T21:15:29.072050Z",
     "shell.execute_reply": "2023-09-05T21:15:29.071001Z"
    },
    "papermill": {
     "duration": 1164.277474,
     "end_time": "2023-09-05T21:15:29.523107",
     "exception": false,
     "start_time": "2023-09-05T20:56:05.245633",
     "status": "completed"
    },
    "tags": []
   },
   "outputs": [
    {
     "name": "stdout",
     "output_type": "stream",
     "text": [
      "Epoch 1/50\n",
      "144/144 [==============================] - 28s 185ms/step - loss: 2.4744 - mse: 0.9974 - val_loss: 1.4149 - val_mse: 0.8141\n",
      "Epoch 2/50\n",
      "144/144 [==============================] - 25s 175ms/step - loss: 1.4066 - mse: 0.8445 - val_loss: 1.3769 - val_mse: 0.8182\n",
      "Epoch 3/50\n",
      "144/144 [==============================] - 25s 171ms/step - loss: 1.3384 - mse: 0.8251 - val_loss: 1.3330 - val_mse: 0.8136\n",
      "Epoch 4/50\n",
      "144/144 [==============================] - 24s 170ms/step - loss: 1.4115 - mse: 0.8449 - val_loss: 1.4020 - val_mse: 0.8070\n",
      "Epoch 5/50\n",
      "144/144 [==============================] - 25s 173ms/step - loss: 1.3551 - mse: 0.8108 - val_loss: 1.3172 - val_mse: 0.7928\n",
      "Epoch 6/50\n",
      "144/144 [==============================] - 24s 167ms/step - loss: 1.2881 - mse: 0.7852 - val_loss: 1.2422 - val_mse: 0.7763\n",
      "Epoch 7/50\n",
      "144/144 [==============================] - 24s 169ms/step - loss: 1.1907 - mse: 0.7639 - val_loss: 1.1824 - val_mse: 0.7564\n",
      "Epoch 8/50\n",
      "144/144 [==============================] - 24s 170ms/step - loss: 1.1106 - mse: 0.7502 - val_loss: 1.0739 - val_mse: 0.7449\n",
      "Epoch 9/50\n",
      "144/144 [==============================] - 25s 172ms/step - loss: 1.0388 - mse: 0.7366 - val_loss: 1.0586 - val_mse: 0.7610\n",
      "Epoch 10/50\n",
      "144/144 [==============================] - 25s 175ms/step - loss: 1.0175 - mse: 0.7316 - val_loss: 1.0650 - val_mse: 0.7704\n",
      "Epoch 11/50\n",
      "144/144 [==============================] - 25s 172ms/step - loss: 0.9970 - mse: 0.7282 - val_loss: 0.9883 - val_mse: 0.7643\n",
      "Epoch 12/50\n",
      "144/144 [==============================] - 23s 162ms/step - loss: 0.9441 - mse: 0.7228 - val_loss: 1.0222 - val_mse: 0.7590\n",
      "Epoch 13/50\n",
      "144/144 [==============================] - 25s 172ms/step - loss: 0.9726 - mse: 0.7199 - val_loss: 1.0456 - val_mse: 0.7515\n",
      "Epoch 14/50\n",
      "144/144 [==============================] - 25s 175ms/step - loss: 1.0177 - mse: 0.7301 - val_loss: 1.1202 - val_mse: 0.7864\n",
      "Epoch 15/50\n",
      "144/144 [==============================] - 23s 161ms/step - loss: 1.2572 - mse: 0.7804 - val_loss: 1.2951 - val_mse: 0.7809\n",
      "Epoch 16/50\n",
      "144/144 [==============================] - 23s 161ms/step - loss: 1.2233 - mse: 0.7676 - val_loss: 1.2211 - val_mse: 0.7717\n",
      "Epoch 17/50\n",
      "144/144 [==============================] - 24s 166ms/step - loss: 1.1083 - mse: 0.7412 - val_loss: 1.0702 - val_mse: 0.7561\n",
      "Epoch 18/50\n",
      "144/144 [==============================] - 24s 166ms/step - loss: 1.0224 - mse: 0.7293 - val_loss: 1.1053 - val_mse: 0.8174\n",
      "Epoch 19/50\n",
      "144/144 [==============================] - 21s 147ms/step - loss: 0.9860 - mse: 0.7256 - val_loss: 0.9680 - val_mse: 0.7518\n",
      "Epoch 20/50\n",
      "144/144 [==============================] - 23s 161ms/step - loss: 0.8881 - mse: 0.7079 - val_loss: 0.9176 - val_mse: 0.7599\n",
      "Epoch 21/50\n",
      "144/144 [==============================] - 23s 158ms/step - loss: 0.8565 - mse: 0.7060 - val_loss: 0.8937 - val_mse: 0.7495\n",
      "Epoch 22/50\n",
      "144/144 [==============================] - 23s 159ms/step - loss: 0.8380 - mse: 0.7034 - val_loss: 0.9117 - val_mse: 0.7748\n",
      "Epoch 23/50\n",
      "144/144 [==============================] - 23s 158ms/step - loss: 0.8466 - mse: 0.7054 - val_loss: 0.8915 - val_mse: 0.7563\n",
      "Epoch 24/50\n",
      "144/144 [==============================] - 24s 163ms/step - loss: 0.8655 - mse: 0.7074 - val_loss: 0.9246 - val_mse: 0.7535\n",
      "Epoch 25/50\n",
      "144/144 [==============================] - 23s 162ms/step - loss: 0.8912 - mse: 0.7117 - val_loss: 0.9403 - val_mse: 0.7485\n",
      "Epoch 26/50\n",
      "144/144 [==============================] - 23s 160ms/step - loss: 0.8862 - mse: 0.7078 - val_loss: 0.9026 - val_mse: 0.7432\n",
      "Epoch 27/50\n",
      "144/144 [==============================] - 22s 150ms/step - loss: 0.8488 - mse: 0.7035 - val_loss: 0.9116 - val_mse: 0.7594\n",
      "Epoch 28/50\n",
      "144/144 [==============================] - 22s 149ms/step - loss: 0.8619 - mse: 0.7084 - val_loss: 0.9143 - val_mse: 0.7624\n",
      "Epoch 29/50\n",
      "144/144 [==============================] - 21s 148ms/step - loss: 0.8770 - mse: 0.7087 - val_loss: 0.9339 - val_mse: 0.7567\n",
      "Epoch 30/50\n",
      "144/144 [==============================] - 21s 148ms/step - loss: 0.8629 - mse: 0.7050 - val_loss: 0.9089 - val_mse: 0.7590\n",
      "Epoch 31/50\n",
      "144/144 [==============================] - 22s 152ms/step - loss: 0.8626 - mse: 0.7092 - val_loss: 0.9145 - val_mse: 0.7564\n",
      "Epoch 32/50\n",
      "144/144 [==============================] - 22s 151ms/step - loss: 0.8413 - mse: 0.7019 - val_loss: 0.8731 - val_mse: 0.7431\n",
      "Epoch 33/50\n",
      "144/144 [==============================] - 23s 158ms/step - loss: 0.8192 - mse: 0.7007 - val_loss: 0.8652 - val_mse: 0.7464\n",
      "Epoch 34/50\n",
      "144/144 [==============================] - 22s 153ms/step - loss: 0.8545 - mse: 0.7085 - val_loss: 0.9192 - val_mse: 0.7569\n",
      "Epoch 35/50\n",
      "144/144 [==============================] - 22s 154ms/step - loss: 0.8672 - mse: 0.7095 - val_loss: 0.9154 - val_mse: 0.7624\n",
      "Epoch 36/50\n",
      "144/144 [==============================] - 21s 142ms/step - loss: 0.8539 - mse: 0.7091 - val_loss: 0.8979 - val_mse: 0.7529\n",
      "Epoch 37/50\n",
      "144/144 [==============================] - 21s 143ms/step - loss: 0.8350 - mse: 0.7001 - val_loss: 0.8805 - val_mse: 0.7609\n",
      "Epoch 38/50\n",
      "144/144 [==============================] - 22s 151ms/step - loss: 0.8086 - mse: 0.6985 - val_loss: 0.8674 - val_mse: 0.7617\n",
      "Epoch 39/50\n",
      "144/144 [==============================] - 22s 153ms/step - loss: 0.7934 - mse: 0.6938 - val_loss: 0.8582 - val_mse: 0.7602\n",
      "Epoch 40/50\n",
      "144/144 [==============================] - 23s 162ms/step - loss: 0.7897 - mse: 0.6948 - val_loss: 0.8565 - val_mse: 0.7633\n",
      "Epoch 41/50\n",
      "144/144 [==============================] - 22s 153ms/step - loss: 0.7921 - mse: 0.6967 - val_loss: 0.8685 - val_mse: 0.7656\n",
      "Epoch 42/50\n",
      "144/144 [==============================] - 23s 161ms/step - loss: 0.8045 - mse: 0.6998 - val_loss: 0.8644 - val_mse: 0.7528\n",
      "Epoch 43/50\n",
      "144/144 [==============================] - 22s 154ms/step - loss: 0.7993 - mse: 0.6967 - val_loss: 0.8480 - val_mse: 0.7495\n",
      "Epoch 44/50\n",
      "144/144 [==============================] - 22s 154ms/step - loss: 0.7911 - mse: 0.6964 - val_loss: 0.8402 - val_mse: 0.7476\n",
      "Epoch 45/50\n",
      "144/144 [==============================] - 21s 148ms/step - loss: 0.7774 - mse: 0.6912 - val_loss: 0.8335 - val_mse: 0.7525\n",
      "Epoch 46/50\n",
      "144/144 [==============================] - 21s 147ms/step - loss: 0.7673 - mse: 0.6913 - val_loss: 0.8358 - val_mse: 0.7541\n",
      "Epoch 47/50\n",
      "144/144 [==============================] - 22s 152ms/step - loss: 0.7713 - mse: 0.6926 - val_loss: 0.8352 - val_mse: 0.7568\n",
      "Epoch 48/50\n",
      "144/144 [==============================] - 22s 154ms/step - loss: 0.7687 - mse: 0.6936 - val_loss: 0.8512 - val_mse: 0.7699\n",
      "Epoch 49/50\n",
      "144/144 [==============================] - 20s 140ms/step - loss: 0.7944 - mse: 0.7015 - val_loss: 0.8679 - val_mse: 0.7672\n",
      "Epoch 50/50\n",
      "144/144 [==============================] - 21s 149ms/step - loss: 0.8023 - mse: 0.7025 - val_loss: 0.8591 - val_mse: 0.7627\n"
     ]
    },
    {
     "data": {
      "text/plain": [
       "<keras.callbacks.History at 0x7a012b228400>"
      ]
     },
     "execution_count": 5,
     "metadata": {},
     "output_type": "execute_result"
    }
   ],
   "source": [
    "# Define model architecture\n",
    "hidden_nodes_l1 = (X_train_scaled.shape[1] + 1) // 2\n",
    "hidden_nodes_l2 = (hidden_nodes_l1 + 1) // 2\n",
    "hidden_nodes_l3 = (hidden_nodes_l2 + 1) // 2\n",
    "hidden_nodes_l4 = (hidden_nodes_l3 + 1) // 2\n",
    "\n",
    "model = Sequential([\n",
    "    Dense(hidden_nodes_l1, input_dim=X_train_scaled.shape[1], activation='relu', kernel_regularizer=l2(0.001)),\n",
    "    Dropout(0.25),\n",
    "    Dense(hidden_nodes_l2, activation='tanh', kernel_regularizer=l2(0.001)),\n",
    "    Dropout(0.25),\n",
    "    Dense(hidden_nodes_l3, activation='relu', kernel_regularizer=l2(0.001)),\n",
    "    Dropout(0.25),\n",
    "    Dense(hidden_nodes_l4, activation='tanh', kernel_regularizer=l2(0.001)),\n",
    "    # Output layer with two nodes for \"wording\" and \"content\"\n",
    "    Dense(2, activation='sigmoid')  \n",
    "])\n",
    "\n",
    "model.compile(optimizer='adam', loss='mean_squared_error', metrics=['mse'])\n",
    "model.fit(X_train_scaled, y_train, epochs=50, batch_size=32, validation_split=0.2)\n"
   ]
  },
  {
   "cell_type": "markdown",
   "id": "6f068588",
   "metadata": {
    "papermill": {
     "duration": 0.512542,
     "end_time": "2023-09-05T21:15:30.485176",
     "exception": false,
     "start_time": "2023-09-05T21:15:29.972634",
     "status": "completed"
    },
    "tags": []
   },
   "source": [
    "Evaluation"
   ]
  },
  {
   "cell_type": "code",
   "execution_count": 6,
   "id": "08bf4c31",
   "metadata": {
    "execution": {
     "iopub.execute_input": "2023-09-05T21:15:31.395020Z",
     "iopub.status.busy": "2023-09-05T21:15:31.394087Z",
     "iopub.status.idle": "2023-09-05T21:15:32.406638Z",
     "shell.execute_reply": "2023-09-05T21:15:32.405555Z"
    },
    "papermill": {
     "duration": 1.466299,
     "end_time": "2023-09-05T21:15:32.408667",
     "exception": false,
     "start_time": "2023-09-05T21:15:30.942368",
     "status": "completed"
    },
    "tags": []
   },
   "outputs": [
    {
     "name": "stdout",
     "output_type": "stream",
     "text": [
      "45/45 [==============================] - 1s 18ms/step\n",
      "RMSE for wording: 0.9183793035035119\n",
      "RMSE for content: 0.863933074639097\n"
     ]
    }
   ],
   "source": [
    "# Predict on test data\n",
    "y_pred = model.predict(X_test_scaled)\n",
    "\n",
    "rmse_wording = mean_squared_error(y_test[:, 0], y_pred[:, 0], squared=False)\n",
    "rmse_content = mean_squared_error(y_test[:, 1], y_pred[:, 1], squared=False)\n",
    "\n",
    "print(f\"RMSE for wording: {rmse_wording}\")\n",
    "print(f\"RMSE for content: {rmse_content}\")\n"
   ]
  },
  {
   "cell_type": "markdown",
   "id": "cf595d89",
   "metadata": {
    "papermill": {
     "duration": 0.508766,
     "end_time": "2023-09-05T21:15:33.372096",
     "exception": false,
     "start_time": "2023-09-05T21:15:32.863330",
     "status": "completed"
    },
    "tags": []
   },
   "source": [
    "Prepare Submission for Competition"
   ]
  },
  {
   "cell_type": "code",
   "execution_count": 7,
   "id": "9cd41a36",
   "metadata": {
    "execution": {
     "iopub.execute_input": "2023-09-05T21:15:34.279936Z",
     "iopub.status.busy": "2023-09-05T21:15:34.279155Z",
     "iopub.status.idle": "2023-09-05T21:15:34.451722Z",
     "shell.execute_reply": "2023-09-05T21:15:34.450755Z"
    },
    "papermill": {
     "duration": 0.633311,
     "end_time": "2023-09-05T21:15:34.453913",
     "exception": false,
     "start_time": "2023-09-05T21:15:33.820602",
     "status": "completed"
    },
    "tags": []
   },
   "outputs": [
    {
     "name": "stdout",
     "output_type": "stream",
     "text": [
      "1/1 [==============================] - 0s 125ms/step\n"
     ]
    }
   ],
   "source": [
    "# Load test dataset for competition\n",
    "test_df = pd.read_csv(Path(\"/kaggle/input/commonlit-evaluate-student-summaries/summaries_test.csv\"))\n",
    "\n",
    "# Preprocess and vectorize the test data\n",
    "test_df['PreprocessedText'] = test_df['text'].apply(preprocess_text)\n",
    "X_test_competition = vectorizer.transform(test_df['PreprocessedText'])\n",
    "\n",
    "# Predict using the trained model\n",
    "predictions = model.predict(X_test_competition)\n",
    "\n",
    "# Prepare submission DataFrame\n",
    "submission_df = pd.DataFrame({\n",
    "    'student_id': test_df['student_id'],\n",
    "    'content': predictions[:, 1],\n",
    "    'wording': predictions[:, 0]\n",
    "})\n",
    "\n",
    "# Clip values to be within expected bounds\n",
    "submission_df['content'] = np.clip(submission_df['content'], -2, 5)\n",
    "submission_df['wording'] = np.clip(submission_df['wording'], -2, 5)\n",
    "\n",
    "# Save submission to a CSV\n",
    "submission_df.to_csv(\"submission.csv\", index=False)\n"
   ]
  }
 ],
 "kernelspec": {
  "display_name": "Python 3",
  "language": "python",
  "name": "python3"
 },
 "language_info": {
  "codemirror_mode": {
   "name": "ipython",
   "version": 3
  },
  "file_extension": ".py",
  "mimetype": "text/x-python",
  "name": "python",
  "nbconvert_exporter": "python",
  "pygments_lexer": "ipython3",
  "version": "3.6.4"
 },
 "metadata": {
  "kernelspec": {
   "display_name": "Python 3",
   "language": "python",
   "name": "python3"
  },
  "language_info": {
   "codemirror_mode": {
    "name": "ipython",
    "version": 3
   },
   "file_extension": ".py",
   "mimetype": "text/x-python",
   "name": "python",
   "nbconvert_exporter": "python",
   "pygments_lexer": "ipython3",
   "version": "3.10.12"
  },
  "papermill": {
   "default_parameters": {},
   "duration": 1191.093118,
   "end_time": "2023-09-05T21:15:37.701104",
   "environment_variables": {},
   "exception": null,
   "input_path": "__notebook__.ipynb",
   "output_path": "__notebook__.ipynb",
   "parameters": {},
   "start_time": "2023-09-05T20:55:46.607986",
   "version": "2.4.0"
  }
 },
 "nbformat": 4,
 "nbformat_minor": 5
}
