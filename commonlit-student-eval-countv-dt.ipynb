{
 "cells": [
  {
   "cell_type": "code",
   "execution_count": 1,
   "id": "bd2f5c28",
   "metadata": {
    "_cell_guid": "b1076dfc-b9ad-4769-8c92-a6c4dae69d19",
    "_uuid": "8f2839f25d086af736a60e9eeb907d3b93b6e0e5",
    "execution": {
     "iopub.execute_input": "2023-09-04T14:04:59.535719Z",
     "iopub.status.busy": "2023-09-04T14:04:59.534735Z",
     "iopub.status.idle": "2023-09-04T14:05:15.840986Z",
     "shell.execute_reply": "2023-09-04T14:05:15.838718Z"
    },
    "papermill": {
     "duration": 16.315233,
     "end_time": "2023-09-04T14:05:15.843589",
     "exception": false,
     "start_time": "2023-09-04T14:04:59.528356",
     "status": "completed"
    },
    "tags": []
   },
   "outputs": [
    {
     "name": "stdout",
     "output_type": "stream",
     "text": [
      "/kaggle/input/commonlit-evaluate-student-summaries/sample_submission.csv\n",
      "/kaggle/input/commonlit-evaluate-student-summaries/prompts_train.csv\n",
      "/kaggle/input/commonlit-evaluate-student-summaries/summaries_test.csv\n",
      "/kaggle/input/commonlit-evaluate-student-summaries/summaries_train.csv\n",
      "/kaggle/input/commonlit-evaluate-student-summaries/prompts_test.csv\n",
      "/kaggle/input/summary-test/summaries_test.csv\n"
     ]
    }
   ],
   "source": [
    "# This Python 3 environment comes with many helpful analytics libraries installed\n",
    "# It is defined by the kaggle/python Docker image: https://github.com/kaggle/docker-python\n",
    "# For example, here's several helpful packages to load\n",
    "\n",
    "import numpy as np # linear algebra\n",
    "import pandas as pd # data processing, CSV file I/O (e.g. pd.read_csv)\n",
    "from pathlib import Path  # data processing, CSV file I/O \n",
    "import tensorflow as tf\n",
    "from sklearn.preprocessing import StandardScaler\n",
    "from sklearn.model_selection import train_test_split\n",
    "from sklearn.feature_extraction.text import TfidfVectorizer\n",
    "from sklearn.ensemble import RandomForestRegressor\n",
    "from sklearn.metrics import mean_squared_error\n",
    "from sklearn.feature_extraction.text import CountVectorizer\n",
    "import re\n",
    "import spacy\n",
    "from spacy.lang.en import English \n",
    "\n",
    "import matplotlib.pyplot as plt\n",
    "\n",
    "\n",
    "%matplotlib inline\n",
    "# Input data files are available in the read-only \"../input/\" directory\n",
    "# For example, running this (by clicking run or pressing Shift+Enter) will list all files under the input directory\n",
    "\n",
    "import os\n",
    "for dirname, _, filenames in os.walk('/kaggle/input'):\n",
    "    for filename in filenames:\n",
    "        print(os.path.join(dirname, filename))\n",
    "\n",
    "# You can write up to 20GB to the current directory (/kaggle/working/) that gets preserved as output when you create a version using \"Save & Run All\" \n",
    "# You can also write temporary files to /kaggle/temp/, but they won't be saved outside of the current session"
   ]
  },
  {
   "cell_type": "code",
   "execution_count": 2,
   "id": "f0265515",
   "metadata": {
    "execution": {
     "iopub.execute_input": "2023-09-04T14:05:15.858848Z",
     "iopub.status.busy": "2023-09-04T14:05:15.858066Z",
     "iopub.status.idle": "2023-09-04T14:05:15.958567Z",
     "shell.execute_reply": "2023-09-04T14:05:15.957327Z"
    },
    "papermill": {
     "duration": 0.11107,
     "end_time": "2023-09-04T14:05:15.960805",
     "exception": false,
     "start_time": "2023-09-04T14:05:15.849735",
     "status": "completed"
    },
    "tags": []
   },
   "outputs": [],
   "source": [
    "file_path = '/kaggle/input/commonlit-evaluate-student-summaries/summaries_train.csv'\n",
    "\n",
    "se = pd.read_csv(file_path)"
   ]
  },
  {
   "cell_type": "code",
   "execution_count": 3,
   "id": "8b492d11",
   "metadata": {
    "execution": {
     "iopub.execute_input": "2023-09-04T14:05:15.972570Z",
     "iopub.status.busy": "2023-09-04T14:05:15.970722Z",
     "iopub.status.idle": "2023-09-04T14:05:15.991670Z",
     "shell.execute_reply": "2023-09-04T14:05:15.990422Z"
    },
    "papermill": {
     "duration": 0.02876,
     "end_time": "2023-09-04T14:05:15.994013",
     "exception": false,
     "start_time": "2023-09-04T14:05:15.965253",
     "status": "completed"
    },
    "tags": []
   },
   "outputs": [],
   "source": [
    "se.dropna(subset=['wording', 'content'], inplace=True)\n",
    "\n",
    "# Handle missing values in text\n",
    "se['text'].fillna('', inplace=True)"
   ]
  },
  {
   "cell_type": "code",
   "execution_count": 4,
   "id": "b0673f8d",
   "metadata": {
    "execution": {
     "iopub.execute_input": "2023-09-04T14:05:16.003985Z",
     "iopub.status.busy": "2023-09-04T14:05:16.003634Z",
     "iopub.status.idle": "2023-09-04T14:05:16.007953Z",
     "shell.execute_reply": "2023-09-04T14:05:16.006921Z"
    },
    "papermill": {
     "duration": 0.011399,
     "end_time": "2023-09-04T14:05:16.009684",
     "exception": false,
     "start_time": "2023-09-04T14:05:15.998285",
     "status": "completed"
    },
    "tags": []
   },
   "outputs": [],
   "source": [
    "texts = se['text'] "
   ]
  },
  {
   "cell_type": "code",
   "execution_count": 5,
   "id": "373162a9",
   "metadata": {
    "execution": {
     "iopub.execute_input": "2023-09-04T14:05:16.020858Z",
     "iopub.status.busy": "2023-09-04T14:05:16.019526Z",
     "iopub.status.idle": "2023-09-04T14:05:16.025527Z",
     "shell.execute_reply": "2023-09-04T14:05:16.024222Z"
    },
    "papermill": {
     "duration": 0.013368,
     "end_time": "2023-09-04T14:05:16.027400",
     "exception": false,
     "start_time": "2023-09-04T14:05:16.014032",
     "status": "completed"
    },
    "tags": []
   },
   "outputs": [],
   "source": [
    "stop_words = spacy.lang.en.stop_words.STOP_WORDS"
   ]
  },
  {
   "cell_type": "code",
   "execution_count": 6,
   "id": "54e21827",
   "metadata": {
    "execution": {
     "iopub.execute_input": "2023-09-04T14:05:16.037630Z",
     "iopub.status.busy": "2023-09-04T14:05:16.037268Z",
     "iopub.status.idle": "2023-09-04T14:05:16.044047Z",
     "shell.execute_reply": "2023-09-04T14:05:16.042090Z"
    },
    "papermill": {
     "duration": 0.014679,
     "end_time": "2023-09-04T14:05:16.046677",
     "exception": false,
     "start_time": "2023-09-04T14:05:16.031998",
     "status": "completed"
    },
    "tags": []
   },
   "outputs": [],
   "source": [
    "def preprocess_text(text):\n",
    "    # Replace newline characters with spaces\n",
    "    text = text.replace('\\n', ' ')\n",
    "    \n",
    "    # Convert text to lowercase\n",
    "    text = text.lower()\n",
    "    \n",
    "    # Remove punctuation\n",
    "    text = re.sub(r\"[^a-zA-Z0-9]\", \" \", text)\n",
    "    \n",
    "    \n",
    "    \n",
    "    # Remove non-alphabetic words and stop words\n",
    "    text = ' '.join([word for word in text.split() if word.isalpha() and word not in stop_words])\n",
    "    \n",
    "    # Replace sequences of whitespace characters with a single space\n",
    "    text = ' '.join(text.split())\n",
    "    \n",
    "    return text\n"
   ]
  },
  {
   "cell_type": "code",
   "execution_count": 7,
   "id": "fee018c5",
   "metadata": {
    "execution": {
     "iopub.execute_input": "2023-09-04T14:05:16.057133Z",
     "iopub.status.busy": "2023-09-04T14:05:16.056775Z",
     "iopub.status.idle": "2023-09-04T14:05:16.302490Z",
     "shell.execute_reply": "2023-09-04T14:05:16.300814Z"
    },
    "papermill": {
     "duration": 0.253695,
     "end_time": "2023-09-04T14:05:16.304869",
     "exception": false,
     "start_time": "2023-09-04T14:05:16.051174",
     "status": "completed"
    },
    "tags": []
   },
   "outputs": [],
   "source": [
    "preprocessed_texts = [preprocess_text(text) for text in texts]"
   ]
  },
  {
   "cell_type": "code",
   "execution_count": 8,
   "id": "e8927da9",
   "metadata": {
    "execution": {
     "iopub.execute_input": "2023-09-04T14:05:16.315481Z",
     "iopub.status.busy": "2023-09-04T14:05:16.315146Z",
     "iopub.status.idle": "2023-09-04T14:05:16.322031Z",
     "shell.execute_reply": "2023-09-04T14:05:16.321051Z"
    },
    "papermill": {
     "duration": 0.014314,
     "end_time": "2023-09-04T14:05:16.323842",
     "exception": false,
     "start_time": "2023-09-04T14:05:16.309528",
     "status": "completed"
    },
    "tags": []
   },
   "outputs": [],
   "source": [
    "se['PreprocessedText'] = preprocessed_texts"
   ]
  },
  {
   "cell_type": "code",
   "execution_count": 9,
   "id": "74ebc844",
   "metadata": {
    "execution": {
     "iopub.execute_input": "2023-09-04T14:05:16.334677Z",
     "iopub.status.busy": "2023-09-04T14:05:16.334298Z",
     "iopub.status.idle": "2023-09-04T14:05:16.527566Z",
     "shell.execute_reply": "2023-09-04T14:05:16.526676Z"
    },
    "papermill": {
     "duration": 0.201354,
     "end_time": "2023-09-04T14:05:16.529887",
     "exception": false,
     "start_time": "2023-09-04T14:05:16.328533",
     "status": "completed"
    },
    "tags": []
   },
   "outputs": [],
   "source": [
    "from sklearn.feature_extraction.text import CountVectorizer\n",
    "\n",
    "vectorizer = CountVectorizer(max_features=5000)\n",
    "X = vectorizer.fit_transform(se['PreprocessedText'])"
   ]
  },
  {
   "cell_type": "code",
   "execution_count": 10,
   "id": "26ca86bb",
   "metadata": {
    "execution": {
     "iopub.execute_input": "2023-09-04T14:05:16.541736Z",
     "iopub.status.busy": "2023-09-04T14:05:16.541435Z",
     "iopub.status.idle": "2023-09-04T14:05:16.546280Z",
     "shell.execute_reply": "2023-09-04T14:05:16.545501Z"
    },
    "papermill": {
     "duration": 0.01251,
     "end_time": "2023-09-04T14:05:16.548510",
     "exception": false,
     "start_time": "2023-09-04T14:05:16.536000",
     "status": "completed"
    },
    "tags": []
   },
   "outputs": [],
   "source": [
    "y = se[['wording', 'content']].values"
   ]
  },
  {
   "cell_type": "code",
   "execution_count": 11,
   "id": "08e4ea5e",
   "metadata": {
    "execution": {
     "iopub.execute_input": "2023-09-04T14:05:16.559452Z",
     "iopub.status.busy": "2023-09-04T14:05:16.559088Z",
     "iopub.status.idle": "2023-09-04T14:05:16.567690Z",
     "shell.execute_reply": "2023-09-04T14:05:16.566598Z"
    },
    "papermill": {
     "duration": 0.016576,
     "end_time": "2023-09-04T14:05:16.569832",
     "exception": false,
     "start_time": "2023-09-04T14:05:16.553256",
     "status": "completed"
    },
    "tags": []
   },
   "outputs": [],
   "source": [
    "X_train, X_test, y_train, y_test = train_test_split(X, y, test_size=0.2, random_state=42)"
   ]
  },
  {
   "cell_type": "code",
   "execution_count": 12,
   "id": "7ff9eeb3",
   "metadata": {
    "execution": {
     "iopub.execute_input": "2023-09-04T14:05:16.580522Z",
     "iopub.status.busy": "2023-09-04T14:05:16.580202Z",
     "iopub.status.idle": "2023-09-04T14:06:27.741574Z",
     "shell.execute_reply": "2023-09-04T14:06:27.740275Z"
    },
    "papermill": {
     "duration": 71.169336,
     "end_time": "2023-09-04T14:06:27.743919",
     "exception": false,
     "start_time": "2023-09-04T14:05:16.574583",
     "status": "completed"
    },
    "tags": []
   },
   "outputs": [],
   "source": [
    "# Initialize the regressor\n",
    "regressor = RandomForestRegressor(n_estimators=100, random_state=42)\n",
    "\n",
    "# Train the model\n",
    "regressor.fit(X_train, y_train)\n",
    "\n",
    "# Predict\n",
    "y_pred = regressor.predict(X_test)"
   ]
  },
  {
   "cell_type": "code",
   "execution_count": 13,
   "id": "0adc9218",
   "metadata": {
    "execution": {
     "iopub.execute_input": "2023-09-04T14:06:27.756336Z",
     "iopub.status.busy": "2023-09-04T14:06:27.755948Z",
     "iopub.status.idle": "2023-09-04T14:06:27.764561Z",
     "shell.execute_reply": "2023-09-04T14:06:27.763081Z"
    },
    "papermill": {
     "duration": 0.018743,
     "end_time": "2023-09-04T14:06:27.767459",
     "exception": false,
     "start_time": "2023-09-04T14:06:27.748716",
     "status": "completed"
    },
    "tags": []
   },
   "outputs": [
    {
     "name": "stdout",
     "output_type": "stream",
     "text": [
      "RMSE for wording: 0.7449270613650063\n",
      "RMSE for content: 0.6082054241076233\n"
     ]
    }
   ],
   "source": [
    "rmse_wording = mean_squared_error(y_test[:, 0], y_pred[:, 0], squared=False)\n",
    "rmse_content = mean_squared_error(y_test[:, 1], y_pred[:, 1], squared=False)\n",
    "\n",
    "print(f\"RMSE for wording: {rmse_wording}\")\n",
    "print(f\"RMSE for content: {rmse_content}\")"
   ]
  },
  {
   "cell_type": "code",
   "execution_count": 14,
   "id": "9f778427",
   "metadata": {
    "execution": {
     "iopub.execute_input": "2023-09-04T14:06:27.780122Z",
     "iopub.status.busy": "2023-09-04T14:06:27.778745Z",
     "iopub.status.idle": "2023-09-04T14:06:27.807107Z",
     "shell.execute_reply": "2023-09-04T14:06:27.805912Z"
    },
    "papermill": {
     "duration": 0.036417,
     "end_time": "2023-09-04T14:06:27.808903",
     "exception": false,
     "start_time": "2023-09-04T14:06:27.772486",
     "status": "completed"
    },
    "tags": []
   },
   "outputs": [
    {
     "name": "stdout",
     "output_type": "stream",
     "text": [
      "(4, 3)\n"
     ]
    }
   ],
   "source": [
    "test_df = pd.read_csv(\n",
    "    Path(\"/kaggle/input/commonlit-evaluate-student-summaries/summaries_test.csv\")  \n",
    ")\n",
    "\n",
    "# 2. Preprocess and vectorize the test data\n",
    "test_df['PreprocessedText'] = test_df['text'].apply(preprocess_text)\n",
    "X_test_competition = vectorizer.transform(test_df['PreprocessedText'])\n",
    "\n",
    "# 3. Predict using your trained model\n",
    "predictions = regressor.predict(X_test_competition)\n",
    "\n",
    "# 4. Create a submission DataFrame and save it as a CSV\n",
    "submission_df = pd.DataFrame({\n",
    "    'student_id': test_df['student_id'],\n",
    "    'content': predictions[:, 1],\n",
    "    'wording': predictions[:, 0]\n",
    "})\n",
    "\n",
    "print(submission_df.shape)\n",
    "\n",
    "\n",
    "submission_df['content'] = np.clip(submission_df['content'], -2, 5)\n",
    "submission_df['wording'] = np.clip(submission_df['wording'], -2, 5)\n",
    "\n",
    "\n",
    "submission_df.to_csv(\"submission.csv\", index=False)"
   ]
  }
 ],
 "kernelspec": {
  "display_name": "Python 3",
  "language": "python",
  "name": "python3"
 },
 "language_info": {
  "codemirror_mode": {
   "name": "ipython",
   "version": 3
  },
  "file_extension": ".py",
  "mimetype": "text/x-python",
  "name": "python",
  "nbconvert_exporter": "python",
  "pygments_lexer": "ipython3",
  "version": "3.6.4"
 },
 "metadata": {
  "kernelspec": {
   "display_name": "Python 3",
   "language": "python",
   "name": "python3"
  },
  "language_info": {
   "codemirror_mode": {
    "name": "ipython",
    "version": 3
   },
   "file_extension": ".py",
   "mimetype": "text/x-python",
   "name": "python",
   "nbconvert_exporter": "python",
   "pygments_lexer": "ipython3",
   "version": "3.10.12"
  },
  "papermill": {
   "default_parameters": {},
   "duration": 93.159779,
   "end_time": "2023-09-04T14:06:29.838378",
   "environment_variables": {},
   "exception": null,
   "input_path": "__notebook__.ipynb",
   "output_path": "__notebook__.ipynb",
   "parameters": {},
   "start_time": "2023-09-04T14:04:56.678599",
   "version": "2.4.0"
  }
 },
 "nbformat": 4,
 "nbformat_minor": 5
}
