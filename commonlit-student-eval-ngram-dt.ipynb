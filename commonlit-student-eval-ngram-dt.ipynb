{
 "cells": [
  {
   "cell_type": "code",
   "execution_count": 1,
   "id": "a803f1f9",
   "metadata": {
    "_cell_guid": "b1076dfc-b9ad-4769-8c92-a6c4dae69d19",
    "_uuid": "8f2839f25d086af736a60e9eeb907d3b93b6e0e5",
    "execution": {
     "iopub.execute_input": "2023-09-04T14:20:56.279454Z",
     "iopub.status.busy": "2023-09-04T14:20:56.278820Z",
     "iopub.status.idle": "2023-09-04T14:21:12.439561Z",
     "shell.execute_reply": "2023-09-04T14:21:12.438351Z"
    },
    "papermill": {
     "duration": 16.172389,
     "end_time": "2023-09-04T14:21:12.442250",
     "exception": false,
     "start_time": "2023-09-04T14:20:56.269861",
     "status": "completed"
    },
    "tags": []
   },
   "outputs": [
    {
     "name": "stdout",
     "output_type": "stream",
     "text": [
      "/kaggle/input/summary-test/summaries_test.csv\n",
      "/kaggle/input/commonlit-evaluate-student-summaries/sample_submission.csv\n",
      "/kaggle/input/commonlit-evaluate-student-summaries/prompts_train.csv\n",
      "/kaggle/input/commonlit-evaluate-student-summaries/summaries_test.csv\n",
      "/kaggle/input/commonlit-evaluate-student-summaries/summaries_train.csv\n",
      "/kaggle/input/commonlit-evaluate-student-summaries/prompts_test.csv\n"
     ]
    }
   ],
   "source": [
    "# This Python 3 environment comes with many helpful analytics libraries installed\n",
    "# It is defined by the kaggle/python Docker image: https://github.com/kaggle/docker-python\n",
    "# For example, here's several helpful packages to load\n",
    "\n",
    "import numpy as np # linear algebra\n",
    "import pandas as pd # data processing, CSV file I/O (e.g. pd.read_csv)\n",
    "from pathlib import Path  # data processing, CSV file I/O \n",
    "import tensorflow as tf\n",
    "from sklearn.preprocessing import StandardScaler\n",
    "from sklearn.model_selection import train_test_split\n",
    "from sklearn.feature_extraction.text import TfidfVectorizer\n",
    "from sklearn.ensemble import RandomForestRegressor\n",
    "from sklearn.metrics import mean_squared_error\n",
    "from sklearn.feature_extraction.text import CountVectorizer\n",
    "import re\n",
    "import spacy\n",
    "from spacy.lang.en import English \n",
    "\n",
    "import matplotlib.pyplot as plt\n",
    "\n",
    "\n",
    "%matplotlib inline\n",
    "# Input data files are available in the read-only \"../input/\" directory\n",
    "# For example, running this (by clicking run or pressing Shift+Enter) will list all files under the input directory\n",
    "\n",
    "import os\n",
    "for dirname, _, filenames in os.walk('/kaggle/input'):\n",
    "    for filename in filenames:\n",
    "        print(os.path.join(dirname, filename))\n",
    "\n",
    "# You can write up to 20GB to the current directory (/kaggle/working/) that gets preserved as output when you create a version using \"Save & Run All\" \n",
    "# You can also write temporary files to /kaggle/temp/, but they won't be saved outside of the current session"
   ]
  },
  {
   "cell_type": "code",
   "execution_count": 2,
   "id": "d5d67395",
   "metadata": {
    "execution": {
     "iopub.execute_input": "2023-09-04T14:21:12.457503Z",
     "iopub.status.busy": "2023-09-04T14:21:12.456760Z",
     "iopub.status.idle": "2023-09-04T14:21:12.586793Z",
     "shell.execute_reply": "2023-09-04T14:21:12.585863Z"
    },
    "papermill": {
     "duration": 0.140724,
     "end_time": "2023-09-04T14:21:12.589545",
     "exception": false,
     "start_time": "2023-09-04T14:21:12.448821",
     "status": "completed"
    },
    "tags": []
   },
   "outputs": [],
   "source": [
    "file_path = '/kaggle/input/commonlit-evaluate-student-summaries/summaries_train.csv'\n",
    "\n",
    "se = pd.read_csv(file_path)"
   ]
  },
  {
   "cell_type": "code",
   "execution_count": 3,
   "id": "7814712c",
   "metadata": {
    "execution": {
     "iopub.execute_input": "2023-09-04T14:21:12.604659Z",
     "iopub.status.busy": "2023-09-04T14:21:12.604264Z",
     "iopub.status.idle": "2023-09-04T14:21:12.626503Z",
     "shell.execute_reply": "2023-09-04T14:21:12.625255Z"
    },
    "papermill": {
     "duration": 0.033116,
     "end_time": "2023-09-04T14:21:12.629187",
     "exception": false,
     "start_time": "2023-09-04T14:21:12.596071",
     "status": "completed"
    },
    "tags": []
   },
   "outputs": [],
   "source": [
    "se.dropna(subset=['wording', 'content'], inplace=True)\n",
    "\n",
    "# Handle missing values in text\n",
    "se['text'].fillna('', inplace=True)"
   ]
  },
  {
   "cell_type": "code",
   "execution_count": 4,
   "id": "e6530cf1",
   "metadata": {
    "execution": {
     "iopub.execute_input": "2023-09-04T14:21:12.644993Z",
     "iopub.status.busy": "2023-09-04T14:21:12.644566Z",
     "iopub.status.idle": "2023-09-04T14:21:12.649734Z",
     "shell.execute_reply": "2023-09-04T14:21:12.648557Z"
    },
    "papermill": {
     "duration": 0.015528,
     "end_time": "2023-09-04T14:21:12.652150",
     "exception": false,
     "start_time": "2023-09-04T14:21:12.636622",
     "status": "completed"
    },
    "tags": []
   },
   "outputs": [],
   "source": [
    "texts = se['text'] "
   ]
  },
  {
   "cell_type": "code",
   "execution_count": 5,
   "id": "86ea125d",
   "metadata": {
    "execution": {
     "iopub.execute_input": "2023-09-04T14:21:12.667349Z",
     "iopub.status.busy": "2023-09-04T14:21:12.666930Z",
     "iopub.status.idle": "2023-09-04T14:21:12.672568Z",
     "shell.execute_reply": "2023-09-04T14:21:12.671443Z"
    },
    "papermill": {
     "duration": 0.016035,
     "end_time": "2023-09-04T14:21:12.674917",
     "exception": false,
     "start_time": "2023-09-04T14:21:12.658882",
     "status": "completed"
    },
    "tags": []
   },
   "outputs": [],
   "source": [
    "stop_words = spacy.lang.en.stop_words.STOP_WORDS"
   ]
  },
  {
   "cell_type": "code",
   "execution_count": 6,
   "id": "e5907b1f",
   "metadata": {
    "execution": {
     "iopub.execute_input": "2023-09-04T14:21:12.690065Z",
     "iopub.status.busy": "2023-09-04T14:21:12.689675Z",
     "iopub.status.idle": "2023-09-04T14:21:12.697275Z",
     "shell.execute_reply": "2023-09-04T14:21:12.696007Z"
    },
    "papermill": {
     "duration": 0.018095,
     "end_time": "2023-09-04T14:21:12.699747",
     "exception": false,
     "start_time": "2023-09-04T14:21:12.681652",
     "status": "completed"
    },
    "tags": []
   },
   "outputs": [],
   "source": [
    "def preprocess_text(text):\n",
    "    # Replace newline characters with spaces\n",
    "    text = text.replace('\\n', ' ')\n",
    "    \n",
    "    # Convert text to lowercase\n",
    "    text = text.lower()\n",
    "    \n",
    "    # Remove punctuation\n",
    "    text = re.sub(r\"[^a-zA-Z0-9]\", \" \", text)\n",
    "    \n",
    "    \n",
    "    \n",
    "    # Remove non-alphabetic words and stop words\n",
    "    text = ' '.join([word for word in text.split() if word.isalpha() and word not in stop_words])\n",
    "    \n",
    "    # Replace sequences of whitespace characters with a single space\n",
    "    text = ' '.join(text.split())\n",
    "    \n",
    "    return text\n"
   ]
  },
  {
   "cell_type": "code",
   "execution_count": 7,
   "id": "992d5cca",
   "metadata": {
    "execution": {
     "iopub.execute_input": "2023-09-04T14:21:12.715284Z",
     "iopub.status.busy": "2023-09-04T14:21:12.714874Z",
     "iopub.status.idle": "2023-09-04T14:21:13.237497Z",
     "shell.execute_reply": "2023-09-04T14:21:13.236182Z"
    },
    "papermill": {
     "duration": 0.534248,
     "end_time": "2023-09-04T14:21:13.240883",
     "exception": false,
     "start_time": "2023-09-04T14:21:12.706635",
     "status": "completed"
    },
    "tags": []
   },
   "outputs": [],
   "source": [
    "preprocessed_texts = [preprocess_text(text) for text in texts]"
   ]
  },
  {
   "cell_type": "code",
   "execution_count": 8,
   "id": "5c2c8e61",
   "metadata": {
    "execution": {
     "iopub.execute_input": "2023-09-04T14:21:13.256887Z",
     "iopub.status.busy": "2023-09-04T14:21:13.256493Z",
     "iopub.status.idle": "2023-09-04T14:21:13.265407Z",
     "shell.execute_reply": "2023-09-04T14:21:13.264528Z"
    },
    "papermill": {
     "duration": 0.020254,
     "end_time": "2023-09-04T14:21:13.268151",
     "exception": false,
     "start_time": "2023-09-04T14:21:13.247897",
     "status": "completed"
    },
    "tags": []
   },
   "outputs": [],
   "source": [
    "se['PreprocessedText'] = preprocessed_texts"
   ]
  },
  {
   "cell_type": "code",
   "execution_count": 9,
   "id": "20349681",
   "metadata": {
    "execution": {
     "iopub.execute_input": "2023-09-04T14:21:13.284918Z",
     "iopub.status.busy": "2023-09-04T14:21:13.284492Z",
     "iopub.status.idle": "2023-09-04T14:21:14.281818Z",
     "shell.execute_reply": "2023-09-04T14:21:14.280750Z"
    },
    "papermill": {
     "duration": 1.008616,
     "end_time": "2023-09-04T14:21:14.284731",
     "exception": false,
     "start_time": "2023-09-04T14:21:13.276115",
     "status": "completed"
    },
    "tags": []
   },
   "outputs": [],
   "source": [
    "from sklearn.feature_extraction.text import CountVectorizer\n",
    "\n",
    "vectorizer = CountVectorizer(ngram_range=(1, 2), max_features=5000)  # Bigram vectorization\n",
    "X = vectorizer.fit_transform(se['PreprocessedText'])"
   ]
  },
  {
   "cell_type": "code",
   "execution_count": 10,
   "id": "84da5413",
   "metadata": {
    "execution": {
     "iopub.execute_input": "2023-09-04T14:21:14.300609Z",
     "iopub.status.busy": "2023-09-04T14:21:14.300208Z",
     "iopub.status.idle": "2023-09-04T14:21:14.306316Z",
     "shell.execute_reply": "2023-09-04T14:21:14.305207Z"
    },
    "papermill": {
     "duration": 0.016632,
     "end_time": "2023-09-04T14:21:14.308515",
     "exception": false,
     "start_time": "2023-09-04T14:21:14.291883",
     "status": "completed"
    },
    "tags": []
   },
   "outputs": [],
   "source": [
    "y = se[['wording', 'content']].values"
   ]
  },
  {
   "cell_type": "code",
   "execution_count": 11,
   "id": "6571dde2",
   "metadata": {
    "execution": {
     "iopub.execute_input": "2023-09-04T14:21:14.324481Z",
     "iopub.status.busy": "2023-09-04T14:21:14.324055Z",
     "iopub.status.idle": "2023-09-04T14:21:14.333724Z",
     "shell.execute_reply": "2023-09-04T14:21:14.332837Z"
    },
    "papermill": {
     "duration": 0.020451,
     "end_time": "2023-09-04T14:21:14.336046",
     "exception": false,
     "start_time": "2023-09-04T14:21:14.315595",
     "status": "completed"
    },
    "tags": []
   },
   "outputs": [],
   "source": [
    "X_train, X_test, y_train, y_test = train_test_split(X, y, test_size=0.2, random_state=42)"
   ]
  },
  {
   "cell_type": "code",
   "execution_count": 12,
   "id": "d6b74005",
   "metadata": {
    "execution": {
     "iopub.execute_input": "2023-09-04T14:21:14.352067Z",
     "iopub.status.busy": "2023-09-04T14:21:14.351664Z",
     "iopub.status.idle": "2023-09-04T14:23:35.485293Z",
     "shell.execute_reply": "2023-09-04T14:23:35.483902Z"
    },
    "papermill": {
     "duration": 141.145427,
     "end_time": "2023-09-04T14:23:35.488609",
     "exception": false,
     "start_time": "2023-09-04T14:21:14.343182",
     "status": "completed"
    },
    "tags": []
   },
   "outputs": [],
   "source": [
    "# Initialize the regressor\n",
    "regressor = RandomForestRegressor(n_estimators=100, random_state=42)\n",
    "\n",
    "# Train the model\n",
    "regressor.fit(X_train, y_train)\n",
    "\n",
    "# Predict\n",
    "y_pred = regressor.predict(X_test)"
   ]
  },
  {
   "cell_type": "code",
   "execution_count": 13,
   "id": "5e2f5b66",
   "metadata": {
    "execution": {
     "iopub.execute_input": "2023-09-04T14:23:35.505760Z",
     "iopub.status.busy": "2023-09-04T14:23:35.505333Z",
     "iopub.status.idle": "2023-09-04T14:23:35.514116Z",
     "shell.execute_reply": "2023-09-04T14:23:35.513183Z"
    },
    "papermill": {
     "duration": 0.020499,
     "end_time": "2023-09-04T14:23:35.516720",
     "exception": false,
     "start_time": "2023-09-04T14:23:35.496221",
     "status": "completed"
    },
    "tags": []
   },
   "outputs": [
    {
     "name": "stdout",
     "output_type": "stream",
     "text": [
      "RMSE for wording: 0.7448562440361134\n",
      "RMSE for content: 0.6109346491748914\n"
     ]
    }
   ],
   "source": [
    "rmse_wording = mean_squared_error(y_test[:, 0], y_pred[:, 0], squared=False)\n",
    "rmse_content = mean_squared_error(y_test[:, 1], y_pred[:, 1], squared=False)\n",
    "\n",
    "print(f\"RMSE for wording: {rmse_wording}\")\n",
    "print(f\"RMSE for content: {rmse_content}\")"
   ]
  },
  {
   "cell_type": "code",
   "execution_count": 14,
   "id": "0514a445",
   "metadata": {
    "execution": {
     "iopub.execute_input": "2023-09-04T14:23:35.534194Z",
     "iopub.status.busy": "2023-09-04T14:23:35.533531Z",
     "iopub.status.idle": "2023-09-04T14:23:35.567295Z",
     "shell.execute_reply": "2023-09-04T14:23:35.566068Z"
    },
    "papermill": {
     "duration": 0.045683,
     "end_time": "2023-09-04T14:23:35.569938",
     "exception": false,
     "start_time": "2023-09-04T14:23:35.524255",
     "status": "completed"
    },
    "tags": []
   },
   "outputs": [
    {
     "name": "stdout",
     "output_type": "stream",
     "text": [
      "(4, 3)\n"
     ]
    }
   ],
   "source": [
    "test_df = pd.read_csv(\n",
    "    Path(\"/kaggle/input/commonlit-evaluate-student-summaries/summaries_test.csv\")  \n",
    ")\n",
    "\n",
    "# 2. Preprocess and vectorize the test data\n",
    "test_df['PreprocessedText'] = test_df['text'].apply(preprocess_text)\n",
    "X_test_competition = vectorizer.transform(test_df['PreprocessedText'])\n",
    "\n",
    "# 3. Predict using your trained model\n",
    "predictions = regressor.predict(X_test_competition)\n",
    "\n",
    "# 4. Create a submission DataFrame and save it as a CSV\n",
    "submission_df = pd.DataFrame({\n",
    "    'student_id': test_df['student_id'],\n",
    "    'content': predictions[:, 1],\n",
    "    'wording': predictions[:, 0]\n",
    "})\n",
    "\n",
    "print(submission_df.shape)\n",
    "\n",
    "\n",
    "submission_df['content'] = np.clip(submission_df['content'], -2, 5)\n",
    "submission_df['wording'] = np.clip(submission_df['wording'], -2, 5)\n",
    "\n",
    "\n",
    "submission_df.to_csv(\"submission.csv\", index=False)"
   ]
  }
 ],
 "kernelspec": {
  "display_name": "Python 3",
  "language": "python",
  "name": "python3"
 },
 "language_info": {
  "codemirror_mode": {
   "name": "ipython",
   "version": 3
  },
  "file_extension": ".py",
  "mimetype": "text/x-python",
  "name": "python",
  "nbconvert_exporter": "python",
  "pygments_lexer": "ipython3",
  "version": "3.6.4"
 },
 "metadata": {
  "kernelspec": {
   "display_name": "Python 3",
   "language": "python",
   "name": "python3"
  },
  "language_info": {
   "codemirror_mode": {
    "name": "ipython",
    "version": 3
   },
   "file_extension": ".py",
   "mimetype": "text/x-python",
   "name": "python",
   "nbconvert_exporter": "python",
   "pygments_lexer": "ipython3",
   "version": "3.10.12"
  },
  "papermill": {
   "default_parameters": {},
   "duration": 165.564788,
   "end_time": "2023-09-04T14:23:38.171911",
   "environment_variables": {},
   "exception": null,
   "input_path": "__notebook__.ipynb",
   "output_path": "__notebook__.ipynb",
   "parameters": {},
   "start_time": "2023-09-04T14:20:52.607123",
   "version": "2.4.0"
  }
 },
 "nbformat": 4,
 "nbformat_minor": 5
}
