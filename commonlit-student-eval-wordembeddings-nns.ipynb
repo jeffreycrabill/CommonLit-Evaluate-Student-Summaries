{
 "cells": [
  {
   "cell_type": "code",
   "execution_count": 1,
   "id": "1e9356fb",
   "metadata": {
    "execution": {
     "iopub.execute_input": "2023-09-05T22:25:39.238704Z",
     "iopub.status.busy": "2023-09-05T22:25:39.238008Z",
     "iopub.status.idle": "2023-09-05T22:26:30.333582Z",
     "shell.execute_reply": "2023-09-05T22:26:30.332174Z"
    },
    "papermill": {
     "duration": 51.108759,
     "end_time": "2023-09-05T22:26:30.336394",
     "exception": false,
     "start_time": "2023-09-05T22:25:39.227635",
     "status": "completed"
    },
    "tags": []
   },
   "outputs": [],
   "source": [
    "import numpy as np \n",
    "import pandas as pd \n",
    "from pathlib import Path  \n",
    "import tensorflow as tf\n",
    "from sklearn.preprocessing import StandardScaler\n",
    "from sklearn.model_selection import train_test_split\n",
    "from sklearn.feature_extraction.text import TfidfVectorizer, CountVectorizer\n",
    "from sklearn.ensemble import RandomForestRegressor\n",
    "from sklearn.metrics import mean_squared_error\n",
    "from sklearn.model_selection import KFold\n",
    "import re\n",
    "import spacy\n",
    "from spacy.lang.en import English \n",
    "import matplotlib.pyplot as plt\n",
    "from gensim.models import Word2Vec\n",
    "\n",
    "from tensorflow.keras.layers import Dense\n",
    "from tensorflow.keras.models import Sequential\n",
    "\n"
   ]
  },
  {
   "cell_type": "markdown",
   "id": "bfa2865e",
   "metadata": {
    "papermill": {
     "duration": 0.006744,
     "end_time": "2023-09-05T22:26:30.350777",
     "exception": false,
     "start_time": "2023-09-05T22:26:30.344033",
     "status": "completed"
    },
    "tags": []
   },
   "source": [
    "Data Loading:"
   ]
  },
  {
   "cell_type": "code",
   "execution_count": 2,
   "id": "1c572103",
   "metadata": {
    "execution": {
     "iopub.execute_input": "2023-09-05T22:26:30.367016Z",
     "iopub.status.busy": "2023-09-05T22:26:30.366252Z",
     "iopub.status.idle": "2023-09-05T22:26:30.477367Z",
     "shell.execute_reply": "2023-09-05T22:26:30.476499Z"
    },
    "papermill": {
     "duration": 0.122974,
     "end_time": "2023-09-05T22:26:30.480731",
     "exception": false,
     "start_time": "2023-09-05T22:26:30.357757",
     "status": "completed"
    },
    "tags": []
   },
   "outputs": [],
   "source": [
    "file_path = '/kaggle/input/commonlit-evaluate-student-summaries/summaries_train.csv'\n",
    "se = pd.read_csv(file_path)\n"
   ]
  },
  {
   "cell_type": "markdown",
   "id": "bf03e99d",
   "metadata": {
    "papermill": {
     "duration": 0.006976,
     "end_time": "2023-09-05T22:26:30.495824",
     "exception": false,
     "start_time": "2023-09-05T22:26:30.488848",
     "status": "completed"
    },
    "tags": []
   },
   "source": [
    "Preprocessing:"
   ]
  },
  {
   "cell_type": "code",
   "execution_count": 3,
   "id": "e126f4c6",
   "metadata": {
    "execution": {
     "iopub.execute_input": "2023-09-05T22:26:30.512979Z",
     "iopub.status.busy": "2023-09-05T22:26:30.512016Z",
     "iopub.status.idle": "2023-09-05T22:26:31.056210Z",
     "shell.execute_reply": "2023-09-05T22:26:31.055204Z"
    },
    "papermill": {
     "duration": 0.555823,
     "end_time": "2023-09-05T22:26:31.059118",
     "exception": false,
     "start_time": "2023-09-05T22:26:30.503295",
     "status": "completed"
    },
    "tags": []
   },
   "outputs": [],
   "source": [
    "se.dropna(subset=['wording', 'content'], inplace=True)\n",
    "se['text'].fillna('', inplace=True)\n",
    "\n",
    "# Preprocess text function\n",
    "def preprocess_text(text):\n",
    "    text = text.replace('\\n', ' ').lower()  # replace newlines and convert to lowercase\n",
    "    text = re.sub(r\"[^a-zA-Z0-9]\", \" \", text)  # remove punctuation\n",
    "    text = ' '.join([word for word in text.split() if word.isalpha() and word not in stop_words])  # remove stop words\n",
    "    return ' '.join(text.split())  # replace sequences of whitespace\n",
    "\n",
    "stop_words = spacy.lang.en.stop_words.STOP_WORDS\n",
    "preprocessed_texts = [preprocess_text(text) for text in se['text']]\n",
    "se['PreprocessedText'] = preprocessed_texts\n"
   ]
  },
  {
   "cell_type": "markdown",
   "id": "49d2f83d",
   "metadata": {
    "papermill": {
     "duration": 0.007088,
     "end_time": "2023-09-05T22:26:31.073992",
     "exception": false,
     "start_time": "2023-09-05T22:26:31.066904",
     "status": "completed"
    },
    "tags": []
   },
   "source": [
    "Tokenization and Vectorization using Word2Vec:"
   ]
  },
  {
   "cell_type": "code",
   "execution_count": 4,
   "id": "ad90ba6c",
   "metadata": {
    "execution": {
     "iopub.execute_input": "2023-09-05T22:26:31.090105Z",
     "iopub.status.busy": "2023-09-05T22:26:31.089705Z",
     "iopub.status.idle": "2023-09-05T22:26:32.659128Z",
     "shell.execute_reply": "2023-09-05T22:26:32.658192Z"
    },
    "papermill": {
     "duration": 1.580567,
     "end_time": "2023-09-05T22:26:32.661763",
     "exception": false,
     "start_time": "2023-09-05T22:26:31.081196",
     "status": "completed"
    },
    "tags": []
   },
   "outputs": [],
   "source": [
    "sentences = se['PreprocessedText'].apply(lambda x: x.split()).tolist()\n",
    "w2v_model = Word2Vec(sentences, vector_size=100, window=5, min_count=1, workers=4)\n",
    "vocabulary = set(w2v_model.wv.index_to_key)\n"
   ]
  },
  {
   "cell_type": "markdown",
   "id": "35034c1f",
   "metadata": {
    "papermill": {
     "duration": 0.006971,
     "end_time": "2023-09-05T22:26:32.676240",
     "exception": false,
     "start_time": "2023-09-05T22:26:32.669269",
     "status": "completed"
    },
    "tags": []
   },
   "source": [
    "Feature Creation"
   ]
  },
  {
   "cell_type": "code",
   "execution_count": 5,
   "id": "4b7b450d",
   "metadata": {
    "execution": {
     "iopub.execute_input": "2023-09-05T22:26:32.692859Z",
     "iopub.status.busy": "2023-09-05T22:26:32.692368Z",
     "iopub.status.idle": "2023-09-05T22:26:33.859429Z",
     "shell.execute_reply": "2023-09-05T22:26:33.858117Z"
    },
    "papermill": {
     "duration": 1.178713,
     "end_time": "2023-09-05T22:26:33.862309",
     "exception": false,
     "start_time": "2023-09-05T22:26:32.683596",
     "status": "completed"
    },
    "tags": []
   },
   "outputs": [],
   "source": [
    "def average_word_vectors(words, w2v_model, vocabulary, num_features):\n",
    "    feature_vector = np.zeros((num_features,), dtype=\"float64\")\n",
    "    n_words = 0.\n",
    "    for word in words:\n",
    "        if word in vocabulary: \n",
    "            n_words = n_words + 1.\n",
    "            feature_vector = np.add(feature_vector, w2v_model.wv[word])\n",
    "    if n_words:\n",
    "        feature_vector = np.divide(feature_vector, n_words)\n",
    "    return feature_vector\n",
    "\n",
    "features = [average_word_vectors(tokens, w2v_model, vocabulary, 100) for tokens in sentences]\n"
   ]
  },
  {
   "cell_type": "markdown",
   "id": "29a5a792",
   "metadata": {
    "papermill": {
     "duration": 0.007111,
     "end_time": "2023-09-05T22:26:33.877027",
     "exception": false,
     "start_time": "2023-09-05T22:26:33.869916",
     "status": "completed"
    },
    "tags": []
   },
   "source": [
    "Split Data"
   ]
  },
  {
   "cell_type": "code",
   "execution_count": 6,
   "id": "fdd78f24",
   "metadata": {
    "execution": {
     "iopub.execute_input": "2023-09-05T22:26:33.893860Z",
     "iopub.status.busy": "2023-09-05T22:26:33.893452Z",
     "iopub.status.idle": "2023-09-05T22:26:33.903906Z",
     "shell.execute_reply": "2023-09-05T22:26:33.902728Z"
    },
    "papermill": {
     "duration": 0.021698,
     "end_time": "2023-09-05T22:26:33.906283",
     "exception": false,
     "start_time": "2023-09-05T22:26:33.884585",
     "status": "completed"
    },
    "tags": []
   },
   "outputs": [],
   "source": [
    "y = se[['wording', 'content']].values\n",
    "X_train, X_test, y_train, y_test = train_test_split(features, y, test_size=0.2, random_state=42)\n",
    "\n",
    "\n"
   ]
  },
  {
   "cell_type": "markdown",
   "id": "e1115978",
   "metadata": {
    "papermill": {
     "duration": 0.007512,
     "end_time": "2023-09-05T22:26:33.921919",
     "exception": false,
     "start_time": "2023-09-05T22:26:33.914407",
     "status": "completed"
    },
    "tags": []
   },
   "source": [
    "Model Creation and Training"
   ]
  },
  {
   "cell_type": "code",
   "execution_count": 7,
   "id": "11aed755",
   "metadata": {
    "execution": {
     "iopub.execute_input": "2023-09-05T22:26:33.939111Z",
     "iopub.status.busy": "2023-09-05T22:26:33.938649Z",
     "iopub.status.idle": "2023-09-05T22:26:50.936759Z",
     "shell.execute_reply": "2023-09-05T22:26:50.935721Z"
    },
    "papermill": {
     "duration": 17.009725,
     "end_time": "2023-09-05T22:26:50.939248",
     "exception": false,
     "start_time": "2023-09-05T22:26:33.929523",
     "status": "completed"
    },
    "tags": []
   },
   "outputs": [
    {
     "name": "stdout",
     "output_type": "stream",
     "text": [
      "Epoch 1/50\n",
      "144/144 [==============================] - 1s 4ms/step - loss: 0.9528 - mse: 0.9528 - val_loss: 0.8456 - val_mse: 0.8456\n",
      "Epoch 2/50\n",
      "144/144 [==============================] - 0s 2ms/step - loss: 0.8452 - mse: 0.8452 - val_loss: 0.8109 - val_mse: 0.8109\n",
      "Epoch 3/50\n",
      "144/144 [==============================] - 0s 2ms/step - loss: 0.8117 - mse: 0.8117 - val_loss: 0.8264 - val_mse: 0.8264\n",
      "Epoch 4/50\n",
      "144/144 [==============================] - 0s 2ms/step - loss: 0.7884 - mse: 0.7884 - val_loss: 0.7787 - val_mse: 0.7787\n",
      "Epoch 5/50\n",
      "144/144 [==============================] - 0s 2ms/step - loss: 0.7805 - mse: 0.7805 - val_loss: 0.8332 - val_mse: 0.8332\n",
      "Epoch 6/50\n",
      "144/144 [==============================] - 0s 2ms/step - loss: 0.7530 - mse: 0.7530 - val_loss: 0.7503 - val_mse: 0.7503\n",
      "Epoch 7/50\n",
      "144/144 [==============================] - 0s 2ms/step - loss: 0.7488 - mse: 0.7488 - val_loss: 0.7475 - val_mse: 0.7475\n",
      "Epoch 8/50\n",
      "144/144 [==============================] - 0s 2ms/step - loss: 0.7415 - mse: 0.7415 - val_loss: 0.7859 - val_mse: 0.7859\n",
      "Epoch 9/50\n",
      "144/144 [==============================] - 0s 2ms/step - loss: 0.7403 - mse: 0.7403 - val_loss: 0.8183 - val_mse: 0.8183\n",
      "Epoch 10/50\n",
      "144/144 [==============================] - 0s 2ms/step - loss: 0.7345 - mse: 0.7345 - val_loss: 0.7346 - val_mse: 0.7346\n",
      "Epoch 11/50\n",
      "144/144 [==============================] - 0s 2ms/step - loss: 0.7194 - mse: 0.7194 - val_loss: 0.7467 - val_mse: 0.7467\n",
      "Epoch 12/50\n",
      "144/144 [==============================] - 0s 2ms/step - loss: 0.7214 - mse: 0.7214 - val_loss: 0.7920 - val_mse: 0.7920\n",
      "Epoch 13/50\n",
      "144/144 [==============================] - 0s 2ms/step - loss: 0.7031 - mse: 0.7031 - val_loss: 0.7572 - val_mse: 0.7572\n",
      "Epoch 14/50\n",
      "144/144 [==============================] - 0s 2ms/step - loss: 0.7043 - mse: 0.7043 - val_loss: 0.6932 - val_mse: 0.6932\n",
      "Epoch 15/50\n",
      "144/144 [==============================] - 0s 2ms/step - loss: 0.7064 - mse: 0.7064 - val_loss: 0.6926 - val_mse: 0.6926\n",
      "Epoch 16/50\n",
      "144/144 [==============================] - 0s 2ms/step - loss: 0.6939 - mse: 0.6939 - val_loss: 0.6839 - val_mse: 0.6839\n",
      "Epoch 17/50\n",
      "144/144 [==============================] - 0s 2ms/step - loss: 0.6894 - mse: 0.6894 - val_loss: 0.6854 - val_mse: 0.6854\n",
      "Epoch 18/50\n",
      "144/144 [==============================] - 0s 2ms/step - loss: 0.6842 - mse: 0.6842 - val_loss: 0.7057 - val_mse: 0.7057\n",
      "Epoch 19/50\n",
      "144/144 [==============================] - 0s 2ms/step - loss: 0.6820 - mse: 0.6820 - val_loss: 0.7124 - val_mse: 0.7124\n",
      "Epoch 20/50\n",
      "144/144 [==============================] - 0s 2ms/step - loss: 0.6759 - mse: 0.6759 - val_loss: 0.7224 - val_mse: 0.7224\n",
      "Epoch 21/50\n",
      "144/144 [==============================] - 0s 2ms/step - loss: 0.6825 - mse: 0.6825 - val_loss: 0.6961 - val_mse: 0.6961\n",
      "Epoch 22/50\n",
      "144/144 [==============================] - 0s 2ms/step - loss: 0.6738 - mse: 0.6738 - val_loss: 0.6861 - val_mse: 0.6861\n",
      "Epoch 23/50\n",
      "144/144 [==============================] - 0s 2ms/step - loss: 0.6730 - mse: 0.6730 - val_loss: 0.6719 - val_mse: 0.6719\n",
      "Epoch 24/50\n",
      "144/144 [==============================] - 0s 2ms/step - loss: 0.6671 - mse: 0.6671 - val_loss: 0.6910 - val_mse: 0.6910\n",
      "Epoch 25/50\n",
      "144/144 [==============================] - 0s 2ms/step - loss: 0.6672 - mse: 0.6672 - val_loss: 0.6765 - val_mse: 0.6765\n",
      "Epoch 26/50\n",
      "144/144 [==============================] - 0s 2ms/step - loss: 0.6491 - mse: 0.6491 - val_loss: 0.6653 - val_mse: 0.6653\n",
      "Epoch 27/50\n",
      "144/144 [==============================] - 0s 2ms/step - loss: 0.6472 - mse: 0.6472 - val_loss: 0.6759 - val_mse: 0.6759\n",
      "Epoch 28/50\n",
      "144/144 [==============================] - 0s 2ms/step - loss: 0.6515 - mse: 0.6515 - val_loss: 0.6613 - val_mse: 0.6613\n",
      "Epoch 29/50\n",
      "144/144 [==============================] - 0s 2ms/step - loss: 0.6464 - mse: 0.6464 - val_loss: 0.6765 - val_mse: 0.6765\n",
      "Epoch 30/50\n",
      "144/144 [==============================] - 0s 2ms/step - loss: 0.6462 - mse: 0.6462 - val_loss: 0.6846 - val_mse: 0.6846\n",
      "Epoch 31/50\n",
      "144/144 [==============================] - 0s 2ms/step - loss: 0.6375 - mse: 0.6375 - val_loss: 0.7114 - val_mse: 0.7114\n",
      "Epoch 32/50\n",
      "144/144 [==============================] - 0s 2ms/step - loss: 0.6442 - mse: 0.6442 - val_loss: 0.6803 - val_mse: 0.6803\n",
      "Epoch 33/50\n",
      "144/144 [==============================] - 0s 2ms/step - loss: 0.6314 - mse: 0.6314 - val_loss: 0.6898 - val_mse: 0.6898\n",
      "Epoch 34/50\n",
      "144/144 [==============================] - 0s 2ms/step - loss: 0.6416 - mse: 0.6416 - val_loss: 0.6861 - val_mse: 0.6861\n",
      "Epoch 35/50\n",
      "144/144 [==============================] - 0s 2ms/step - loss: 0.6305 - mse: 0.6305 - val_loss: 0.6549 - val_mse: 0.6549\n",
      "Epoch 36/50\n",
      "144/144 [==============================] - 0s 2ms/step - loss: 0.6283 - mse: 0.6283 - val_loss: 0.7116 - val_mse: 0.7116\n",
      "Epoch 37/50\n",
      "144/144 [==============================] - 0s 2ms/step - loss: 0.6303 - mse: 0.6303 - val_loss: 0.6661 - val_mse: 0.6661\n",
      "Epoch 38/50\n",
      "144/144 [==============================] - 0s 2ms/step - loss: 0.6218 - mse: 0.6218 - val_loss: 0.6854 - val_mse: 0.6854\n",
      "Epoch 39/50\n",
      "144/144 [==============================] - 0s 2ms/step - loss: 0.6218 - mse: 0.6218 - val_loss: 0.6547 - val_mse: 0.6547\n",
      "Epoch 40/50\n",
      "144/144 [==============================] - 0s 2ms/step - loss: 0.6118 - mse: 0.6118 - val_loss: 0.6546 - val_mse: 0.6546\n",
      "Epoch 41/50\n",
      "144/144 [==============================] - 0s 2ms/step - loss: 0.6239 - mse: 0.6239 - val_loss: 0.6449 - val_mse: 0.6449\n",
      "Epoch 42/50\n",
      "144/144 [==============================] - 0s 2ms/step - loss: 0.6233 - mse: 0.6233 - val_loss: 0.6540 - val_mse: 0.6540\n",
      "Epoch 43/50\n",
      "144/144 [==============================] - 0s 2ms/step - loss: 0.6145 - mse: 0.6145 - val_loss: 0.6536 - val_mse: 0.6536\n",
      "Epoch 44/50\n",
      "144/144 [==============================] - 0s 2ms/step - loss: 0.6075 - mse: 0.6075 - val_loss: 0.6795 - val_mse: 0.6795\n",
      "Epoch 45/50\n",
      "144/144 [==============================] - 0s 2ms/step - loss: 0.6131 - mse: 0.6131 - val_loss: 0.7205 - val_mse: 0.7205\n",
      "Epoch 46/50\n",
      "144/144 [==============================] - 0s 2ms/step - loss: 0.6082 - mse: 0.6082 - val_loss: 0.6527 - val_mse: 0.6527\n",
      "Epoch 47/50\n",
      "144/144 [==============================] - 0s 2ms/step - loss: 0.6053 - mse: 0.6053 - val_loss: 0.6439 - val_mse: 0.6439\n",
      "Epoch 48/50\n",
      "144/144 [==============================] - 0s 2ms/step - loss: 0.6055 - mse: 0.6055 - val_loss: 0.6608 - val_mse: 0.6608\n",
      "Epoch 49/50\n",
      "144/144 [==============================] - 0s 2ms/step - loss: 0.6154 - mse: 0.6154 - val_loss: 0.7080 - val_mse: 0.7080\n",
      "Epoch 50/50\n",
      "144/144 [==============================] - 0s 2ms/step - loss: 0.5942 - mse: 0.5942 - val_loss: 0.6269 - val_mse: 0.6269\n"
     ]
    },
    {
     "data": {
      "text/plain": [
       "<keras.callbacks.History at 0x7c95b02292d0>"
      ]
     },
     "execution_count": 7,
     "metadata": {},
     "output_type": "execute_result"
    }
   ],
   "source": [
    "# Scale the feature vectors\n",
    "X_train_dense = np.array(X_train)\n",
    "X_test_dense = np.array(X_test)\n",
    "scaler = StandardScaler()\n",
    "X_train_scaled = scaler.fit_transform(X_train_dense)\n",
    "X_test_scaled = scaler.transform(X_test_dense)\n",
    "\n",
    "# Define and compile the model\n",
    "model = Sequential()\n",
    "model.add(Dense(116, input_dim=X_train_scaled.shape[1], activation='relu'))\n",
    "model.add(Dense(2, activation='linear'))  # Two output nodes for \"wording\" and \"content\"\n",
    "model.compile(optimizer='adam', loss='mean_squared_error', metrics=['mse'])\n",
    "\n",
    "# Train the model\n",
    "model.fit(X_train_scaled, y_train, epochs=50, batch_size=32, validation_split=0.2)"
   ]
  },
  {
   "cell_type": "markdown",
   "id": "ca4e777a",
   "metadata": {
    "papermill": {
     "duration": 0.040492,
     "end_time": "2023-09-05T22:26:51.020338",
     "exception": false,
     "start_time": "2023-09-05T22:26:50.979846",
     "status": "completed"
    },
    "tags": []
   },
   "source": [
    "Evaluation:"
   ]
  },
  {
   "cell_type": "code",
   "execution_count": 8,
   "id": "5225f068",
   "metadata": {
    "execution": {
     "iopub.execute_input": "2023-09-05T22:26:51.103148Z",
     "iopub.status.busy": "2023-09-05T22:26:51.102762Z",
     "iopub.status.idle": "2023-09-05T22:26:51.349662Z",
     "shell.execute_reply": "2023-09-05T22:26:51.348334Z"
    },
    "papermill": {
     "duration": 0.292022,
     "end_time": "2023-09-05T22:26:51.352204",
     "exception": false,
     "start_time": "2023-09-05T22:26:51.060182",
     "status": "completed"
    },
    "tags": []
   },
   "outputs": [
    {
     "name": "stdout",
     "output_type": "stream",
     "text": [
      "45/45 [==============================] - 0s 1ms/step\n",
      "RMSE for wording: 0.8262320192421719\n",
      "RMSE for content: 0.7818685111494186\n"
     ]
    }
   ],
   "source": [
    "# Predict on test data\n",
    "y_pred = model.predict(X_test_scaled)\n",
    "rmse_wording = mean_squared_error(y_test[:, 0], y_pred[:, 0], squared=False)\n",
    "rmse_content = mean_squared_error(y_test[:, 1], y_pred[:, 1], squared=False)\n",
    "\n",
    "print(f\"RMSE for wording: {rmse_wording}\")\n",
    "print(f\"RMSE for content: {rmse_content}\")\n"
   ]
  },
  {
   "cell_type": "markdown",
   "id": "92656112",
   "metadata": {
    "papermill": {
     "duration": 0.039806,
     "end_time": "2023-09-05T22:26:51.433818",
     "exception": false,
     "start_time": "2023-09-05T22:26:51.394012",
     "status": "completed"
    },
    "tags": []
   },
   "source": [
    "Competition Test Set Prediction:"
   ]
  },
  {
   "cell_type": "code",
   "execution_count": 9,
   "id": "62f6cbcb",
   "metadata": {
    "execution": {
     "iopub.execute_input": "2023-09-05T22:26:51.516621Z",
     "iopub.status.busy": "2023-09-05T22:26:51.516218Z",
     "iopub.status.idle": "2023-09-05T22:26:51.617355Z",
     "shell.execute_reply": "2023-09-05T22:26:51.616181Z"
    },
    "papermill": {
     "duration": 0.145876,
     "end_time": "2023-09-05T22:26:51.620182",
     "exception": false,
     "start_time": "2023-09-05T22:26:51.474306",
     "status": "completed"
    },
    "tags": []
   },
   "outputs": [
    {
     "name": "stdout",
     "output_type": "stream",
     "text": [
      "1/1 [==============================] - 0s 23ms/step\n"
     ]
    }
   ],
   "source": [
    "test_df = pd.read_csv(Path(\"/kaggle/input/commonlit-evaluate-student-summaries/summaries_test.csv\"))\n",
    "\n",
    "test_df['PreprocessedText'] = test_df['text'].apply(preprocess_text)\n",
    "test_sentences = test_df['PreprocessedText'].apply(lambda x: x.split()).tolist()\n",
    "X_test_competition = [average_word_vectors(tokens, w2v_model, vocabulary, 100) for tokens in test_sentences]\n",
    "X_test_competition = np.array(X_test_competition)\n",
    "\n",
    "# Predict using the trained model\n",
    "predictions = model.predict(X_test_competition)\n",
    "\n"
   ]
  },
  {
   "cell_type": "markdown",
   "id": "392e039a",
   "metadata": {
    "papermill": {
     "duration": 0.039599,
     "end_time": "2023-09-05T22:26:51.699887",
     "exception": false,
     "start_time": "2023-09-05T22:26:51.660288",
     "status": "completed"
    },
    "tags": []
   },
   "source": [
    "Submission Creation:"
   ]
  },
  {
   "cell_type": "code",
   "execution_count": 10,
   "id": "33a0aaa2",
   "metadata": {
    "execution": {
     "iopub.execute_input": "2023-09-05T22:26:51.781731Z",
     "iopub.status.busy": "2023-09-05T22:26:51.781254Z",
     "iopub.status.idle": "2023-09-05T22:26:51.795357Z",
     "shell.execute_reply": "2023-09-05T22:26:51.794352Z"
    },
    "papermill": {
     "duration": 0.057849,
     "end_time": "2023-09-05T22:26:51.797775",
     "exception": false,
     "start_time": "2023-09-05T22:26:51.739926",
     "status": "completed"
    },
    "tags": []
   },
   "outputs": [],
   "source": [
    "submission_df = pd.DataFrame({\n",
    "    'student_id': test_df['student_id'],\n",
    "    'content': predictions[:, 1],\n",
    "    'wording': predictions[:, 0]\n",
    "})\n",
    "submission_df['content'] = np.clip(submission_df['content'], -2, 5)\n",
    "submission_df['wording'] = np.clip(submission_df['wording'], -2, 5)\n",
    "submission_df.to_csv(\"submission.csv\", index=False)\n"
   ]
  }
 ],
 "kernelspec": {
  "display_name": "Python 3",
  "language": "python",
  "name": "python3"
 },
 "language_info": {
  "codemirror_mode": {
   "name": "ipython",
   "version": 3
  },
  "file_extension": ".py",
  "mimetype": "text/x-python",
  "name": "python",
  "nbconvert_exporter": "python",
  "pygments_lexer": "ipython3",
  "version": "3.6.4"
 },
 "metadata": {
  "kernelspec": {
   "display_name": "Python 3",
   "language": "python",
   "name": "python3"
  },
  "language_info": {
   "codemirror_mode": {
    "name": "ipython",
    "version": 3
   },
   "file_extension": ".py",
   "mimetype": "text/x-python",
   "name": "python",
   "nbconvert_exporter": "python",
   "pygments_lexer": "ipython3",
   "version": "3.10.12"
  },
  "papermill": {
   "default_parameters": {},
   "duration": 79.531661,
   "end_time": "2023-09-05T22:26:55.086708",
   "environment_variables": {},
   "exception": null,
   "input_path": "__notebook__.ipynb",
   "output_path": "__notebook__.ipynb",
   "parameters": {},
   "start_time": "2023-09-05T22:25:35.555047",
   "version": "2.4.0"
  }
 },
 "nbformat": 4,
 "nbformat_minor": 5
}
