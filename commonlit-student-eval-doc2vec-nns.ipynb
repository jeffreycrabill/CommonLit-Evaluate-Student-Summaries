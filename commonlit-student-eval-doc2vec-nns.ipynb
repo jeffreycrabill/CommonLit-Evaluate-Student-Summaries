{
 "cells": [
  {
   "cell_type": "code",
   "execution_count": 1,
   "id": "4cc332bf",
   "metadata": {
    "execution": {
     "iopub.execute_input": "2023-09-06T18:12:52.901846Z",
     "iopub.status.busy": "2023-09-06T18:12:52.901329Z",
     "iopub.status.idle": "2023-09-06T18:14:01.822303Z",
     "shell.execute_reply": "2023-09-06T18:14:01.821043Z"
    },
    "papermill": {
     "duration": 68.935889,
     "end_time": "2023-09-06T18:14:01.825559",
     "exception": false,
     "start_time": "2023-09-06T18:12:52.889670",
     "status": "completed"
    },
    "tags": []
   },
   "outputs": [],
   "source": [
    "import numpy as np \n",
    "import pandas as pd \n",
    "from pathlib import Path  \n",
    "import tensorflow as tf\n",
    "from sklearn.preprocessing import StandardScaler\n",
    "from sklearn.model_selection import train_test_split\n",
    "from sklearn.feature_extraction.text import TfidfVectorizer, CountVectorizer\n",
    "from sklearn.ensemble import RandomForestRegressor\n",
    "from sklearn.metrics import mean_squared_error\n",
    "from sklearn.model_selection import KFold\n",
    "import re\n",
    "import spacy\n",
    "from spacy.lang.en import English \n",
    "import matplotlib.pyplot as plt\n",
    "from gensim.models import Word2Vec\n",
    "from gensim.models.doc2vec import Doc2Vec, TaggedDocument\n",
    "\n",
    "from tensorflow.keras.layers import Dense\n",
    "from tensorflow.keras.models import Sequential\n",
    "\n"
   ]
  },
  {
   "cell_type": "markdown",
   "id": "f1faeaf2",
   "metadata": {
    "papermill": {
     "duration": 0.008003,
     "end_time": "2023-09-06T18:14:01.843125",
     "exception": false,
     "start_time": "2023-09-06T18:14:01.835122",
     "status": "completed"
    },
    "tags": []
   },
   "source": [
    "Data Loading:"
   ]
  },
  {
   "cell_type": "code",
   "execution_count": 2,
   "id": "3fed1f33",
   "metadata": {
    "execution": {
     "iopub.execute_input": "2023-09-06T18:14:01.862719Z",
     "iopub.status.busy": "2023-09-06T18:14:01.861445Z",
     "iopub.status.idle": "2023-09-06T18:14:01.988192Z",
     "shell.execute_reply": "2023-09-06T18:14:01.986839Z"
    },
    "papermill": {
     "duration": 0.140176,
     "end_time": "2023-09-06T18:14:01.991489",
     "exception": false,
     "start_time": "2023-09-06T18:14:01.851313",
     "status": "completed"
    },
    "tags": []
   },
   "outputs": [],
   "source": [
    "file_path = '/kaggle/input/commonlit-evaluate-student-summaries/summaries_train.csv'\n",
    "se = pd.read_csv(file_path)\n"
   ]
  },
  {
   "cell_type": "markdown",
   "id": "28cd0834",
   "metadata": {
    "papermill": {
     "duration": 0.008032,
     "end_time": "2023-09-06T18:14:02.008105",
     "exception": false,
     "start_time": "2023-09-06T18:14:02.000073",
     "status": "completed"
    },
    "tags": []
   },
   "source": [
    "Preprocessing:"
   ]
  },
  {
   "cell_type": "code",
   "execution_count": 3,
   "id": "6351d292",
   "metadata": {
    "execution": {
     "iopub.execute_input": "2023-09-06T18:14:02.029459Z",
     "iopub.status.busy": "2023-09-06T18:14:02.028118Z",
     "iopub.status.idle": "2023-09-06T18:14:02.587596Z",
     "shell.execute_reply": "2023-09-06T18:14:02.585806Z"
    },
    "papermill": {
     "duration": 0.574057,
     "end_time": "2023-09-06T18:14:02.591195",
     "exception": false,
     "start_time": "2023-09-06T18:14:02.017138",
     "status": "completed"
    },
    "tags": []
   },
   "outputs": [],
   "source": [
    "se.dropna(subset=['wording', 'content'], inplace=True)\n",
    "se['text'].fillna('', inplace=True)\n",
    "\n",
    "# Preprocess text function\n",
    "def preprocess_text(text):\n",
    "    text = text.replace('\\n', ' ').lower()  # replace newlines and convert to lowercase\n",
    "    text = re.sub(r\"[^a-zA-Z0-9]\", \" \", text)  # remove punctuation\n",
    "    text = ' '.join([word for word in text.split() if word.isalpha() and word not in stop_words])  # remove stop words\n",
    "    return ' '.join(text.split())  # replace sequences of whitespace\n",
    "\n",
    "stop_words = spacy.lang.en.stop_words.STOP_WORDS\n",
    "preprocessed_texts = [preprocess_text(text) for text in se['text']]\n",
    "se['PreprocessedText'] = preprocessed_texts\n"
   ]
  },
  {
   "cell_type": "markdown",
   "id": "deece053",
   "metadata": {
    "papermill": {
     "duration": 0.00832,
     "end_time": "2023-09-06T18:14:02.608681",
     "exception": false,
     "start_time": "2023-09-06T18:14:02.600361",
     "status": "completed"
    },
    "tags": []
   },
   "source": [
    "Tokenization and Vectorization using Word2Vec:"
   ]
  },
  {
   "cell_type": "code",
   "execution_count": 4,
   "id": "6efce468",
   "metadata": {
    "execution": {
     "iopub.execute_input": "2023-09-06T18:14:02.629241Z",
     "iopub.status.busy": "2023-09-06T18:14:02.628044Z",
     "iopub.status.idle": "2023-09-06T18:14:04.342253Z",
     "shell.execute_reply": "2023-09-06T18:14:04.341014Z"
    },
    "papermill": {
     "duration": 1.728008,
     "end_time": "2023-09-06T18:14:04.345529",
     "exception": false,
     "start_time": "2023-09-06T18:14:02.617521",
     "status": "completed"
    },
    "tags": []
   },
   "outputs": [],
   "source": [
    "sentences = se['PreprocessedText'].apply(lambda x: x.split()).tolist()\n",
    "w2v_model = Word2Vec(sentences, vector_size=100, window=5, min_count=1, workers=4)\n",
    "vocabulary = set(w2v_model.wv.index_to_key)\n"
   ]
  },
  {
   "cell_type": "markdown",
   "id": "f049cd9b",
   "metadata": {
    "papermill": {
     "duration": 0.008786,
     "end_time": "2023-09-06T18:14:04.363234",
     "exception": false,
     "start_time": "2023-09-06T18:14:04.354448",
     "status": "completed"
    },
    "tags": []
   },
   "source": [
    "Feature Creation"
   ]
  },
  {
   "cell_type": "code",
   "execution_count": 5,
   "id": "25cd44df",
   "metadata": {
    "execution": {
     "iopub.execute_input": "2023-09-06T18:14:04.383197Z",
     "iopub.status.busy": "2023-09-06T18:14:04.382679Z",
     "iopub.status.idle": "2023-09-06T18:14:05.605462Z",
     "shell.execute_reply": "2023-09-06T18:14:05.604307Z"
    },
    "papermill": {
     "duration": 1.236602,
     "end_time": "2023-09-06T18:14:05.608829",
     "exception": false,
     "start_time": "2023-09-06T18:14:04.372227",
     "status": "completed"
    },
    "tags": []
   },
   "outputs": [],
   "source": [
    "def average_word_vectors(words, w2v_model, vocabulary, num_features):\n",
    "    feature_vector = np.zeros((num_features,), dtype=\"float64\")\n",
    "    n_words = 0.\n",
    "    for word in words:\n",
    "        if word in vocabulary: \n",
    "            n_words = n_words + 1.\n",
    "            feature_vector = np.add(feature_vector, w2v_model.wv[word])\n",
    "    if n_words:\n",
    "        feature_vector = np.divide(feature_vector, n_words)\n",
    "    return feature_vector\n",
    "\n",
    "features = [average_word_vectors(tokens, w2v_model, vocabulary, 100) for tokens in sentences]\n"
   ]
  },
  {
   "cell_type": "code",
   "execution_count": 6,
   "id": "d17ecad5",
   "metadata": {
    "execution": {
     "iopub.execute_input": "2023-09-06T18:14:05.628840Z",
     "iopub.status.busy": "2023-09-06T18:14:05.628341Z",
     "iopub.status.idle": "2023-09-06T18:15:59.843404Z",
     "shell.execute_reply": "2023-09-06T18:15:59.842137Z"
    },
    "papermill": {
     "duration": 114.228897,
     "end_time": "2023-09-06T18:15:59.846688",
     "exception": false,
     "start_time": "2023-09-06T18:14:05.617791",
     "status": "completed"
    },
    "tags": []
   },
   "outputs": [],
   "source": [
    "tagged_data = [TaggedDocument(words=_d, tags=[str(i)]) for i, _d in enumerate(se['PreprocessedText'].apply(lambda x: x.split()))]\n",
    "\n",
    "model_d2v = Doc2Vec(vector_size=100, window=5, min_count=1, workers=4, epochs=100)\n",
    "model_d2v.build_vocab(tagged_data)\n",
    "model_d2v.train(tagged_data, total_examples=model_d2v.corpus_count, epochs=model_d2v.epochs)"
   ]
  },
  {
   "cell_type": "code",
   "execution_count": 7,
   "id": "d1a42609",
   "metadata": {
    "execution": {
     "iopub.execute_input": "2023-09-06T18:15:59.866619Z",
     "iopub.status.busy": "2023-09-06T18:15:59.865508Z",
     "iopub.status.idle": "2023-09-06T18:17:14.431371Z",
     "shell.execute_reply": "2023-09-06T18:17:14.430166Z"
    },
    "papermill": {
     "duration": 74.578904,
     "end_time": "2023-09-06T18:17:14.434472",
     "exception": false,
     "start_time": "2023-09-06T18:15:59.855568",
     "status": "completed"
    },
    "tags": []
   },
   "outputs": [],
   "source": [
    "features = [model_d2v.infer_vector(words) for words in se['PreprocessedText'].apply(lambda x: x.split())]"
   ]
  },
  {
   "cell_type": "markdown",
   "id": "0c1f0d46",
   "metadata": {
    "papermill": {
     "duration": 0.008091,
     "end_time": "2023-09-06T18:17:14.450883",
     "exception": false,
     "start_time": "2023-09-06T18:17:14.442792",
     "status": "completed"
    },
    "tags": []
   },
   "source": [
    "Split Data"
   ]
  },
  {
   "cell_type": "code",
   "execution_count": 8,
   "id": "604c590e",
   "metadata": {
    "execution": {
     "iopub.execute_input": "2023-09-06T18:17:14.469275Z",
     "iopub.status.busy": "2023-09-06T18:17:14.468849Z",
     "iopub.status.idle": "2023-09-06T18:17:14.479911Z",
     "shell.execute_reply": "2023-09-06T18:17:14.478803Z"
    },
    "papermill": {
     "duration": 0.023271,
     "end_time": "2023-09-06T18:17:14.482250",
     "exception": false,
     "start_time": "2023-09-06T18:17:14.458979",
     "status": "completed"
    },
    "tags": []
   },
   "outputs": [],
   "source": [
    "y = se[['wording', 'content']].values\n",
    "X_train, X_test, y_train, y_test = train_test_split(features, y, test_size=0.2, random_state=42)\n",
    "\n",
    "\n"
   ]
  },
  {
   "cell_type": "markdown",
   "id": "c484924b",
   "metadata": {
    "papermill": {
     "duration": 0.007774,
     "end_time": "2023-09-06T18:17:14.498198",
     "exception": false,
     "start_time": "2023-09-06T18:17:14.490424",
     "status": "completed"
    },
    "tags": []
   },
   "source": [
    "Model Creation and Training"
   ]
  },
  {
   "cell_type": "code",
   "execution_count": 9,
   "id": "e838e82c",
   "metadata": {
    "execution": {
     "iopub.execute_input": "2023-09-06T18:17:14.516941Z",
     "iopub.status.busy": "2023-09-06T18:17:14.515755Z",
     "iopub.status.idle": "2023-09-06T18:17:32.203064Z",
     "shell.execute_reply": "2023-09-06T18:17:32.200481Z"
    },
    "papermill": {
     "duration": 17.700137,
     "end_time": "2023-09-06T18:17:32.206472",
     "exception": false,
     "start_time": "2023-09-06T18:17:14.506335",
     "status": "completed"
    },
    "tags": []
   },
   "outputs": [
    {
     "name": "stdout",
     "output_type": "stream",
     "text": [
      "Epoch 1/50\n",
      "144/144 [==============================] - 2s 3ms/step - loss: 1.0952 - mse: 1.0952 - val_loss: 0.8448 - val_mse: 0.8448\n",
      "Epoch 2/50\n",
      "144/144 [==============================] - 0s 2ms/step - loss: 0.7048 - mse: 0.7048 - val_loss: 0.7185 - val_mse: 0.7185\n",
      "Epoch 3/50\n",
      "144/144 [==============================] - 0s 2ms/step - loss: 0.5523 - mse: 0.5523 - val_loss: 0.6439 - val_mse: 0.6439\n",
      "Epoch 4/50\n",
      "144/144 [==============================] - 0s 2ms/step - loss: 0.4584 - mse: 0.4584 - val_loss: 0.5992 - val_mse: 0.5992\n",
      "Epoch 5/50\n",
      "144/144 [==============================] - 0s 2ms/step - loss: 0.3977 - mse: 0.3977 - val_loss: 0.5873 - val_mse: 0.5873\n",
      "Epoch 6/50\n",
      "144/144 [==============================] - 0s 2ms/step - loss: 0.3589 - mse: 0.3589 - val_loss: 0.5935 - val_mse: 0.5935\n",
      "Epoch 7/50\n",
      "144/144 [==============================] - 0s 2ms/step - loss: 0.3267 - mse: 0.3267 - val_loss: 0.5932 - val_mse: 0.5932\n",
      "Epoch 8/50\n",
      "144/144 [==============================] - 0s 2ms/step - loss: 0.3022 - mse: 0.3022 - val_loss: 0.5945 - val_mse: 0.5945\n",
      "Epoch 9/50\n",
      "144/144 [==============================] - 0s 2ms/step - loss: 0.2809 - mse: 0.2809 - val_loss: 0.5868 - val_mse: 0.5868\n",
      "Epoch 10/50\n",
      "144/144 [==============================] - 0s 2ms/step - loss: 0.2648 - mse: 0.2648 - val_loss: 0.5933 - val_mse: 0.5933\n",
      "Epoch 11/50\n",
      "144/144 [==============================] - 0s 2ms/step - loss: 0.2473 - mse: 0.2473 - val_loss: 0.6023 - val_mse: 0.6023\n",
      "Epoch 12/50\n",
      "144/144 [==============================] - 0s 2ms/step - loss: 0.2342 - mse: 0.2342 - val_loss: 0.6316 - val_mse: 0.6316\n",
      "Epoch 13/50\n",
      "144/144 [==============================] - 0s 2ms/step - loss: 0.2207 - mse: 0.2207 - val_loss: 0.6081 - val_mse: 0.6081\n",
      "Epoch 14/50\n",
      "144/144 [==============================] - 0s 2ms/step - loss: 0.2103 - mse: 0.2103 - val_loss: 0.6289 - val_mse: 0.6289\n",
      "Epoch 15/50\n",
      "144/144 [==============================] - 0s 2ms/step - loss: 0.2011 - mse: 0.2011 - val_loss: 0.6345 - val_mse: 0.6345\n",
      "Epoch 16/50\n",
      "144/144 [==============================] - 0s 2ms/step - loss: 0.1909 - mse: 0.1909 - val_loss: 0.6381 - val_mse: 0.6381\n",
      "Epoch 17/50\n",
      "144/144 [==============================] - 0s 2ms/step - loss: 0.1822 - mse: 0.1822 - val_loss: 0.6614 - val_mse: 0.6614\n",
      "Epoch 18/50\n",
      "144/144 [==============================] - 0s 2ms/step - loss: 0.1771 - mse: 0.1771 - val_loss: 0.6750 - val_mse: 0.6750\n",
      "Epoch 19/50\n",
      "144/144 [==============================] - 0s 2ms/step - loss: 0.1655 - mse: 0.1655 - val_loss: 0.6623 - val_mse: 0.6623\n",
      "Epoch 20/50\n",
      "144/144 [==============================] - 0s 2ms/step - loss: 0.1617 - mse: 0.1617 - val_loss: 0.6724 - val_mse: 0.6724\n",
      "Epoch 21/50\n",
      "144/144 [==============================] - 0s 2ms/step - loss: 0.1561 - mse: 0.1561 - val_loss: 0.6880 - val_mse: 0.6880\n",
      "Epoch 22/50\n",
      "144/144 [==============================] - 0s 2ms/step - loss: 0.1511 - mse: 0.1511 - val_loss: 0.6974 - val_mse: 0.6974\n",
      "Epoch 23/50\n",
      "144/144 [==============================] - 0s 2ms/step - loss: 0.1456 - mse: 0.1456 - val_loss: 0.6976 - val_mse: 0.6976\n",
      "Epoch 24/50\n",
      "144/144 [==============================] - 0s 2ms/step - loss: 0.1390 - mse: 0.1390 - val_loss: 0.7067 - val_mse: 0.7067\n",
      "Epoch 25/50\n",
      "144/144 [==============================] - 0s 2ms/step - loss: 0.1338 - mse: 0.1338 - val_loss: 0.7201 - val_mse: 0.7201\n",
      "Epoch 26/50\n",
      "144/144 [==============================] - 0s 2ms/step - loss: 0.1288 - mse: 0.1288 - val_loss: 0.7322 - val_mse: 0.7322\n",
      "Epoch 27/50\n",
      "144/144 [==============================] - 0s 2ms/step - loss: 0.1251 - mse: 0.1251 - val_loss: 0.7367 - val_mse: 0.7367\n",
      "Epoch 28/50\n",
      "144/144 [==============================] - 0s 2ms/step - loss: 0.1220 - mse: 0.1220 - val_loss: 0.7514 - val_mse: 0.7514\n",
      "Epoch 29/50\n",
      "144/144 [==============================] - 0s 2ms/step - loss: 0.1220 - mse: 0.1220 - val_loss: 0.7447 - val_mse: 0.7447\n",
      "Epoch 30/50\n",
      "144/144 [==============================] - 0s 2ms/step - loss: 0.1175 - mse: 0.1175 - val_loss: 0.7438 - val_mse: 0.7438\n",
      "Epoch 31/50\n",
      "144/144 [==============================] - 0s 2ms/step - loss: 0.1250 - mse: 0.1250 - val_loss: 0.7552 - val_mse: 0.7552\n",
      "Epoch 32/50\n",
      "144/144 [==============================] - 0s 2ms/step - loss: 0.1249 - mse: 0.1249 - val_loss: 0.7667 - val_mse: 0.7667\n",
      "Epoch 33/50\n",
      "144/144 [==============================] - 0s 2ms/step - loss: 0.1170 - mse: 0.1170 - val_loss: 0.7724 - val_mse: 0.7724\n",
      "Epoch 34/50\n",
      "144/144 [==============================] - 0s 2ms/step - loss: 0.1338 - mse: 0.1338 - val_loss: 0.7567 - val_mse: 0.7567\n",
      "Epoch 35/50\n",
      "144/144 [==============================] - 0s 2ms/step - loss: 0.1125 - mse: 0.1125 - val_loss: 0.7699 - val_mse: 0.7699\n",
      "Epoch 36/50\n",
      "144/144 [==============================] - 0s 2ms/step - loss: 0.1040 - mse: 0.1040 - val_loss: 0.7745 - val_mse: 0.7745\n",
      "Epoch 37/50\n",
      "144/144 [==============================] - 0s 2ms/step - loss: 0.1022 - mse: 0.1022 - val_loss: 0.7795 - val_mse: 0.7795\n",
      "Epoch 38/50\n",
      "144/144 [==============================] - 0s 2ms/step - loss: 0.0996 - mse: 0.0996 - val_loss: 0.7893 - val_mse: 0.7893\n",
      "Epoch 39/50\n",
      "144/144 [==============================] - 0s 2ms/step - loss: 0.1041 - mse: 0.1041 - val_loss: 0.7927 - val_mse: 0.7927\n",
      "Epoch 40/50\n",
      "144/144 [==============================] - 0s 2ms/step - loss: 0.1076 - mse: 0.1076 - val_loss: 0.7975 - val_mse: 0.7975\n",
      "Epoch 41/50\n",
      "144/144 [==============================] - 0s 2ms/step - loss: 0.1081 - mse: 0.1081 - val_loss: 0.7909 - val_mse: 0.7909\n",
      "Epoch 42/50\n",
      "144/144 [==============================] - 0s 2ms/step - loss: 0.1054 - mse: 0.1054 - val_loss: 0.8061 - val_mse: 0.8061\n",
      "Epoch 43/50\n",
      "144/144 [==============================] - 0s 2ms/step - loss: 0.1025 - mse: 0.1025 - val_loss: 0.8026 - val_mse: 0.8026\n",
      "Epoch 44/50\n",
      "144/144 [==============================] - 0s 3ms/step - loss: 0.1001 - mse: 0.1001 - val_loss: 0.8006 - val_mse: 0.8006\n",
      "Epoch 45/50\n",
      "144/144 [==============================] - 0s 2ms/step - loss: 0.0931 - mse: 0.0931 - val_loss: 0.8191 - val_mse: 0.8191\n",
      "Epoch 46/50\n",
      "144/144 [==============================] - 0s 2ms/step - loss: 0.0951 - mse: 0.0951 - val_loss: 0.8119 - val_mse: 0.8119\n",
      "Epoch 47/50\n",
      "144/144 [==============================] - 0s 2ms/step - loss: 0.0899 - mse: 0.0899 - val_loss: 0.8309 - val_mse: 0.8309\n",
      "Epoch 48/50\n",
      "144/144 [==============================] - 0s 2ms/step - loss: 0.0880 - mse: 0.0880 - val_loss: 0.8339 - val_mse: 0.8339\n",
      "Epoch 49/50\n",
      "144/144 [==============================] - 0s 2ms/step - loss: 0.0879 - mse: 0.0879 - val_loss: 0.8341 - val_mse: 0.8341\n",
      "Epoch 50/50\n",
      "144/144 [==============================] - 0s 2ms/step - loss: 0.0915 - mse: 0.0915 - val_loss: 0.8297 - val_mse: 0.8297\n"
     ]
    },
    {
     "data": {
      "text/plain": [
       "<keras.callbacks.History at 0x7d7cf495ec20>"
      ]
     },
     "execution_count": 9,
     "metadata": {},
     "output_type": "execute_result"
    }
   ],
   "source": [
    "# Scale the feature vectors\n",
    "X_train_dense = np.array(X_train)\n",
    "X_test_dense = np.array(X_test)\n",
    "scaler = StandardScaler()\n",
    "X_train_scaled = scaler.fit_transform(X_train_dense)\n",
    "X_test_scaled = scaler.transform(X_test_dense)\n",
    "\n",
    "# Define and compile the model\n",
    "model = Sequential()\n",
    "model.add(Dense(116, input_dim=X_train_scaled.shape[1], activation='relu'))\n",
    "model.add(Dense(2, activation='linear'))  # Two output nodes for \"wording\" and \"content\"\n",
    "model.compile(optimizer='adam', loss='mean_squared_error', metrics=['mse'])\n",
    "\n",
    "# Train the model\n",
    "model.fit(X_train_scaled, y_train, epochs=50, batch_size=32, validation_split=0.2)"
   ]
  },
  {
   "cell_type": "markdown",
   "id": "c6d594a4",
   "metadata": {
    "papermill": {
     "duration": 0.044102,
     "end_time": "2023-09-06T18:17:32.293961",
     "exception": false,
     "start_time": "2023-09-06T18:17:32.249859",
     "status": "completed"
    },
    "tags": []
   },
   "source": [
    "Evaluation:"
   ]
  },
  {
   "cell_type": "code",
   "execution_count": 10,
   "id": "eda13c65",
   "metadata": {
    "execution": {
     "iopub.execute_input": "2023-09-06T18:17:32.403699Z",
     "iopub.status.busy": "2023-09-06T18:17:32.403149Z",
     "iopub.status.idle": "2023-09-06T18:17:32.724922Z",
     "shell.execute_reply": "2023-09-06T18:17:32.722811Z"
    },
    "papermill": {
     "duration": 0.380415,
     "end_time": "2023-09-06T18:17:32.727698",
     "exception": false,
     "start_time": "2023-09-06T18:17:32.347283",
     "status": "completed"
    },
    "tags": []
   },
   "outputs": [
    {
     "name": "stdout",
     "output_type": "stream",
     "text": [
      "45/45 [==============================] - 0s 2ms/step\n",
      "RMSE for wording: 0.9974470652811114\n",
      "RMSE for content: 0.8361382326234118\n"
     ]
    }
   ],
   "source": [
    "# Predict on test data\n",
    "y_pred = model.predict(X_test_scaled)\n",
    "rmse_wording = mean_squared_error(y_test[:, 0], y_pred[:, 0], squared=False)\n",
    "rmse_content = mean_squared_error(y_test[:, 1], y_pred[:, 1], squared=False)\n",
    "\n",
    "print(f\"RMSE for wording: {rmse_wording}\")\n",
    "print(f\"RMSE for content: {rmse_content}\")\n"
   ]
  },
  {
   "cell_type": "markdown",
   "id": "7e02eb65",
   "metadata": {
    "papermill": {
     "duration": 0.042911,
     "end_time": "2023-09-06T18:17:32.812486",
     "exception": false,
     "start_time": "2023-09-06T18:17:32.769575",
     "status": "completed"
    },
    "tags": []
   },
   "source": [
    "Competition Test Set Prediction:"
   ]
  },
  {
   "cell_type": "code",
   "execution_count": 11,
   "id": "0eb8f732",
   "metadata": {
    "execution": {
     "iopub.execute_input": "2023-09-06T18:17:32.900968Z",
     "iopub.status.busy": "2023-09-06T18:17:32.899665Z",
     "iopub.status.idle": "2023-09-06T18:17:33.028920Z",
     "shell.execute_reply": "2023-09-06T18:17:33.027543Z"
    },
    "papermill": {
     "duration": 0.176015,
     "end_time": "2023-09-06T18:17:33.031920",
     "exception": false,
     "start_time": "2023-09-06T18:17:32.855905",
     "status": "completed"
    },
    "tags": []
   },
   "outputs": [
    {
     "name": "stdout",
     "output_type": "stream",
     "text": [
      "1/1 [==============================] - 0s 26ms/step\n"
     ]
    }
   ],
   "source": [
    "test_df = pd.read_csv(Path(\"/kaggle/input/commonlit-evaluate-student-summaries/summaries_test.csv\"))\n",
    "\n",
    "test_df['PreprocessedText'] = test_df['text'].apply(preprocess_text)\n",
    "test_sentences = test_df['PreprocessedText'].apply(lambda x: x.split()).tolist()\n",
    "X_test_competition = [model_d2v.infer_vector(tokens) for tokens in test_df['PreprocessedText'].apply(lambda x: x.split())]\n",
    "X_test_competition = np.array(X_test_competition)\n",
    "\n",
    "# Predict using the trained model\n",
    "predictions = model.predict(X_test_competition)\n",
    "\n"
   ]
  },
  {
   "cell_type": "markdown",
   "id": "9422b375",
   "metadata": {
    "papermill": {
     "duration": 0.0413,
     "end_time": "2023-09-06T18:17:33.115294",
     "exception": false,
     "start_time": "2023-09-06T18:17:33.073994",
     "status": "completed"
    },
    "tags": []
   },
   "source": [
    "Submission Creation:"
   ]
  },
  {
   "cell_type": "code",
   "execution_count": 12,
   "id": "2426f48b",
   "metadata": {
    "execution": {
     "iopub.execute_input": "2023-09-06T18:17:33.282374Z",
     "iopub.status.busy": "2023-09-06T18:17:33.281912Z",
     "iopub.status.idle": "2023-09-06T18:17:33.295872Z",
     "shell.execute_reply": "2023-09-06T18:17:33.294808Z"
    },
    "papermill": {
     "duration": 0.062124,
     "end_time": "2023-09-06T18:17:33.298672",
     "exception": false,
     "start_time": "2023-09-06T18:17:33.236548",
     "status": "completed"
    },
    "tags": []
   },
   "outputs": [],
   "source": [
    "submission_df = pd.DataFrame({\n",
    "    'student_id': test_df['student_id'],\n",
    "    'content': predictions[:, 1],\n",
    "    'wording': predictions[:, 0]\n",
    "})\n",
    "submission_df['content'] = np.clip(submission_df['content'], -2, 5)\n",
    "submission_df['wording'] = np.clip(submission_df['wording'], -2, 5)\n",
    "submission_df.to_csv(\"submission.csv\", index=False)\n"
   ]
  }
 ],
 "kernelspec": {
  "display_name": "Python 3",
  "language": "python",
  "name": "python3"
 },
 "language_info": {
  "codemirror_mode": {
   "name": "ipython",
   "version": 3
  },
  "file_extension": ".py",
  "mimetype": "text/x-python",
  "name": "python",
  "nbconvert_exporter": "python",
  "pygments_lexer": "ipython3",
  "version": "3.6.4"
 },
 "metadata": {
  "kernelspec": {
   "display_name": "Python 3",
   "language": "python",
   "name": "python3"
  },
  "language_info": {
   "codemirror_mode": {
    "name": "ipython",
    "version": 3
   },
   "file_extension": ".py",
   "mimetype": "text/x-python",
   "name": "python",
   "nbconvert_exporter": "python",
   "pygments_lexer": "ipython3",
   "version": "3.10.12"
  },
  "papermill": {
   "default_parameters": {},
   "duration": 287.860931,
   "end_time": "2023-09-06T18:17:36.639659",
   "environment_variables": {},
   "exception": null,
   "input_path": "__notebook__.ipynb",
   "output_path": "__notebook__.ipynb",
   "parameters": {},
   "start_time": "2023-09-06T18:12:48.778728",
   "version": "2.4.0"
  }
 },
 "nbformat": 4,
 "nbformat_minor": 5
}
