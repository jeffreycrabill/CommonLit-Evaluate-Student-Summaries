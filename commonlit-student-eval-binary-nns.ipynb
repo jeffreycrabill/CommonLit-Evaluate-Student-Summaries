{
 "cells": [
  {
   "cell_type": "code",
   "execution_count": 1,
   "id": "d2995ff1",
   "metadata": {
    "execution": {
     "iopub.execute_input": "2023-09-05T21:13:11.453942Z",
     "iopub.status.busy": "2023-09-05T21:13:11.453131Z",
     "iopub.status.idle": "2023-09-05T21:13:25.883467Z",
     "shell.execute_reply": "2023-09-05T21:13:25.881611Z"
    },
    "papermill": {
     "duration": 14.444051,
     "end_time": "2023-09-05T21:13:25.887276",
     "exception": false,
     "start_time": "2023-09-05T21:13:11.443225",
     "status": "completed"
    },
    "tags": []
   },
   "outputs": [],
   "source": [
    "# Import necessary libraries\n",
    "import numpy as np \n",
    "import pandas as pd\n",
    "import os\n",
    "import re\n",
    "from pathlib import Path \n",
    "\n",
    "from sklearn.feature_extraction.text import ENGLISH_STOP_WORDS\n",
    "from sklearn.preprocessing import StandardScaler\n",
    "from sklearn.model_selection import train_test_split\n",
    "from sklearn.feature_extraction.text import CountVectorizer\n",
    "from sklearn.metrics import mean_squared_error\n",
    "\n",
    "from tensorflow.keras.layers import Dense\n",
    "from tensorflow.keras.models import Sequential\n",
    "\n",
    "import matplotlib.pyplot as plt\n",
    "\n",
    "# Set visualization setting\n",
    "%matplotlib inline"
   ]
  },
  {
   "cell_type": "markdown",
   "id": "7fededeb",
   "metadata": {
    "papermill": {
     "duration": 0.006288,
     "end_time": "2023-09-05T21:13:25.900751",
     "exception": false,
     "start_time": "2023-09-05T21:13:25.894463",
     "status": "completed"
    },
    "tags": []
   },
   "source": [
    "Load and Explore Data"
   ]
  },
  {
   "cell_type": "code",
   "execution_count": 2,
   "id": "6ecb0a84",
   "metadata": {
    "execution": {
     "iopub.execute_input": "2023-09-05T21:13:25.916818Z",
     "iopub.status.busy": "2023-09-05T21:13:25.915846Z",
     "iopub.status.idle": "2023-09-05T21:13:26.063754Z",
     "shell.execute_reply": "2023-09-05T21:13:26.061941Z"
    },
    "papermill": {
     "duration": 0.161074,
     "end_time": "2023-09-05T21:13:26.068448",
     "exception": false,
     "start_time": "2023-09-05T21:13:25.907374",
     "status": "completed"
    },
    "tags": []
   },
   "outputs": [
    {
     "name": "stdout",
     "output_type": "stream",
     "text": [
      "/kaggle/input/commonlit-evaluate-student-summaries/sample_submission.csv\n",
      "/kaggle/input/commonlit-evaluate-student-summaries/prompts_train.csv\n",
      "/kaggle/input/commonlit-evaluate-student-summaries/summaries_test.csv\n",
      "/kaggle/input/commonlit-evaluate-student-summaries/summaries_train.csv\n",
      "/kaggle/input/commonlit-evaluate-student-summaries/prompts_test.csv\n",
      "/kaggle/input/summary-test/summaries_test.csv\n"
     ]
    }
   ],
   "source": [
    "# Display the available data files in the directory\n",
    "for dirname, _, filenames in os.walk('/kaggle/input'):\n",
    "    for filename in filenames:\n",
    "        print(os.path.join(dirname, filename))\n",
    "\n",
    "# Load training data\n",
    "file_path = '/kaggle/input/commonlit-evaluate-student-summaries/summaries_train.csv'\n",
    "se = pd.read_csv(file_path)\n"
   ]
  },
  {
   "cell_type": "markdown",
   "id": "235503c0",
   "metadata": {
    "papermill": {
     "duration": 0.006184,
     "end_time": "2023-09-05T21:13:26.082412",
     "exception": false,
     "start_time": "2023-09-05T21:13:26.076228",
     "status": "completed"
    },
    "tags": []
   },
   "source": [
    "Data Preprocessing"
   ]
  },
  {
   "cell_type": "code",
   "execution_count": 3,
   "id": "185f73e1",
   "metadata": {
    "execution": {
     "iopub.execute_input": "2023-09-05T21:13:26.098545Z",
     "iopub.status.busy": "2023-09-05T21:13:26.097997Z",
     "iopub.status.idle": "2023-09-05T21:13:26.684937Z",
     "shell.execute_reply": "2023-09-05T21:13:26.683473Z"
    },
    "papermill": {
     "duration": 0.599902,
     "end_time": "2023-09-05T21:13:26.688669",
     "exception": false,
     "start_time": "2023-09-05T21:13:26.088767",
     "status": "completed"
    },
    "tags": []
   },
   "outputs": [],
   "source": [
    "# Drop NA values and handle missing text values\n",
    "se.dropna(subset=['wording', 'content'], inplace=True)\n",
    "se['text'].fillna('', inplace=True)\n",
    "\n",
    "# Text preprocessing utilities\n",
    "stop_words = ENGLISH_STOP_WORDS\n",
    "\n",
    "def preprocess_text(text):\n",
    "    text = text.replace('\\n', ' ')  # Replace newline characters with spaces\n",
    "    text = text.lower()  # Convert text to lowercase\n",
    "    text = re.sub(r\"[^a-zA-Z0-9]\", \" \", text)  # Remove punctuation\n",
    "    text = ' '.join([word for word in text.split() if word.isalpha() and word not in stop_words])  # Remove non-alphabetic words and stop words\n",
    "    return ' '.join(text.split())  # Replace sequences of whitespace characters with a single space\n",
    "\n",
    "preprocessed_texts = [preprocess_text(text) for text in se['text']]\n",
    "se['PreprocessedText'] = preprocessed_texts\n"
   ]
  },
  {
   "cell_type": "markdown",
   "id": "b60ad9c6",
   "metadata": {
    "papermill": {
     "duration": 0.007246,
     "end_time": "2023-09-05T21:13:26.703227",
     "exception": false,
     "start_time": "2023-09-05T21:13:26.695981",
     "status": "completed"
    },
    "tags": []
   },
   "source": [
    "Text Vectorization and Train-Test Split"
   ]
  },
  {
   "cell_type": "code",
   "execution_count": 4,
   "id": "a3a6a516",
   "metadata": {
    "execution": {
     "iopub.execute_input": "2023-09-05T21:13:26.721763Z",
     "iopub.status.busy": "2023-09-05T21:13:26.721262Z",
     "iopub.status.idle": "2023-09-05T21:13:27.134606Z",
     "shell.execute_reply": "2023-09-05T21:13:27.132770Z"
    },
    "papermill": {
     "duration": 0.426586,
     "end_time": "2023-09-05T21:13:27.138038",
     "exception": false,
     "start_time": "2023-09-05T21:13:26.711452",
     "status": "completed"
    },
    "tags": []
   },
   "outputs": [],
   "source": [
    "# Convert text data into numerical vectors\n",
    "vectorizer = CountVectorizer(binary=True, max_features=5000)\n",
    "X = vectorizer.fit_transform(se['PreprocessedText'])\n",
    "y = se[['wording', 'content']].values\n",
    "\n",
    "# Split the data into training and test set\n",
    "X_train, X_test, y_train, y_test = train_test_split(X, y, test_size=0.2, random_state=42)\n"
   ]
  },
  {
   "cell_type": "markdown",
   "id": "e4af0e6f",
   "metadata": {
    "papermill": {
     "duration": 0.007105,
     "end_time": "2023-09-05T21:13:27.153645",
     "exception": false,
     "start_time": "2023-09-05T21:13:27.146540",
     "status": "completed"
    },
    "tags": []
   },
   "source": [
    "Model Creation and Training"
   ]
  },
  {
   "cell_type": "code",
   "execution_count": 5,
   "id": "f93294b6",
   "metadata": {
    "execution": {
     "iopub.execute_input": "2023-09-05T21:13:27.170656Z",
     "iopub.status.busy": "2023-09-05T21:13:27.170112Z",
     "iopub.status.idle": "2023-09-05T21:14:51.998459Z",
     "shell.execute_reply": "2023-09-05T21:14:51.996828Z"
    },
    "papermill": {
     "duration": 84.840501,
     "end_time": "2023-09-05T21:14:52.001555",
     "exception": false,
     "start_time": "2023-09-05T21:13:27.161054",
     "status": "completed"
    },
    "tags": []
   },
   "outputs": [
    {
     "name": "stdout",
     "output_type": "stream",
     "text": [
      "Epoch 1/50\n",
      "144/144 [==============================] - 3s 13ms/step - loss: 93.8716 - mse: 93.8716 - val_loss: 17.1608 - val_mse: 17.1608\n",
      "Epoch 2/50\n",
      "144/144 [==============================] - 2s 11ms/step - loss: 19.7881 - mse: 19.7881 - val_loss: 11.7542 - val_mse: 11.7542\n",
      "Epoch 3/50\n",
      "144/144 [==============================] - 1s 10ms/step - loss: 10.1265 - mse: 10.1265 - val_loss: 6.4123 - val_mse: 6.4123\n",
      "Epoch 4/50\n",
      "144/144 [==============================] - 2s 11ms/step - loss: 6.2231 - mse: 6.2231 - val_loss: 4.5154 - val_mse: 4.5154\n",
      "Epoch 5/50\n",
      "144/144 [==============================] - 1s 10ms/step - loss: 2.5629 - mse: 2.5629 - val_loss: 5.8151 - val_mse: 5.8151\n",
      "Epoch 6/50\n",
      "144/144 [==============================] - 2s 11ms/step - loss: 1.2407 - mse: 1.2407 - val_loss: 2.9759 - val_mse: 2.9759\n",
      "Epoch 7/50\n",
      "144/144 [==============================] - 1s 10ms/step - loss: 0.7833 - mse: 0.7833 - val_loss: 2.6311 - val_mse: 2.6311\n",
      "Epoch 8/50\n",
      "144/144 [==============================] - 2s 11ms/step - loss: 0.6230 - mse: 0.6230 - val_loss: 2.9932 - val_mse: 2.9932\n",
      "Epoch 9/50\n",
      "144/144 [==============================] - 2s 11ms/step - loss: 0.5156 - mse: 0.5156 - val_loss: 2.4581 - val_mse: 2.4581\n",
      "Epoch 10/50\n",
      "144/144 [==============================] - 2s 11ms/step - loss: 0.4942 - mse: 0.4942 - val_loss: 2.3517 - val_mse: 2.3517\n",
      "Epoch 11/50\n",
      "144/144 [==============================] - 1s 10ms/step - loss: 0.4492 - mse: 0.4492 - val_loss: 2.2804 - val_mse: 2.2804\n",
      "Epoch 12/50\n",
      "144/144 [==============================] - 1s 10ms/step - loss: 0.4709 - mse: 0.4709 - val_loss: 2.2958 - val_mse: 2.2958\n",
      "Epoch 13/50\n",
      "144/144 [==============================] - 1s 10ms/step - loss: 0.5258 - mse: 0.5258 - val_loss: 2.0818 - val_mse: 2.0818\n",
      "Epoch 14/50\n",
      "144/144 [==============================] - 1s 10ms/step - loss: 0.5342 - mse: 0.5342 - val_loss: 2.1889 - val_mse: 2.1889\n",
      "Epoch 15/50\n",
      "144/144 [==============================] - 1s 10ms/step - loss: 0.5404 - mse: 0.5404 - val_loss: 2.2921 - val_mse: 2.2921\n",
      "Epoch 16/50\n",
      "144/144 [==============================] - 1s 10ms/step - loss: 0.5747 - mse: 0.5747 - val_loss: 2.3006 - val_mse: 2.3006\n",
      "Epoch 17/50\n",
      "144/144 [==============================] - 1s 10ms/step - loss: 0.7250 - mse: 0.7250 - val_loss: 1.7014 - val_mse: 1.7014\n",
      "Epoch 18/50\n",
      "144/144 [==============================] - 1s 10ms/step - loss: 0.6148 - mse: 0.6148 - val_loss: 1.9514 - val_mse: 1.9514\n",
      "Epoch 19/50\n",
      "144/144 [==============================] - 1s 10ms/step - loss: 0.4097 - mse: 0.4097 - val_loss: 1.3416 - val_mse: 1.3416\n",
      "Epoch 20/50\n",
      "144/144 [==============================] - 1s 10ms/step - loss: 0.3286 - mse: 0.3286 - val_loss: 1.4731 - val_mse: 1.4731\n",
      "Epoch 21/50\n",
      "144/144 [==============================] - 1s 10ms/step - loss: 0.2638 - mse: 0.2638 - val_loss: 1.2776 - val_mse: 1.2776\n",
      "Epoch 22/50\n",
      "144/144 [==============================] - 1s 10ms/step - loss: 0.2381 - mse: 0.2381 - val_loss: 1.3728 - val_mse: 1.3728\n",
      "Epoch 23/50\n",
      "144/144 [==============================] - 2s 10ms/step - loss: 0.1849 - mse: 0.1849 - val_loss: 1.2725 - val_mse: 1.2725\n",
      "Epoch 24/50\n",
      "144/144 [==============================] - 1s 10ms/step - loss: 0.1606 - mse: 0.1606 - val_loss: 1.2764 - val_mse: 1.2764\n",
      "Epoch 25/50\n",
      "144/144 [==============================] - 1s 10ms/step - loss: 0.1796 - mse: 0.1796 - val_loss: 1.1657 - val_mse: 1.1657\n",
      "Epoch 26/50\n",
      "144/144 [==============================] - 1s 9ms/step - loss: 0.2196 - mse: 0.2196 - val_loss: 1.1707 - val_mse: 1.1707\n",
      "Epoch 27/50\n",
      "144/144 [==============================] - 1s 10ms/step - loss: 0.2430 - mse: 0.2430 - val_loss: 1.2160 - val_mse: 1.2160\n",
      "Epoch 28/50\n",
      "144/144 [==============================] - 1s 10ms/step - loss: 0.2241 - mse: 0.2241 - val_loss: 1.0677 - val_mse: 1.0677\n",
      "Epoch 29/50\n",
      "144/144 [==============================] - 1s 10ms/step - loss: 0.2120 - mse: 0.2120 - val_loss: 1.0402 - val_mse: 1.0402\n",
      "Epoch 30/50\n",
      "144/144 [==============================] - 1s 10ms/step - loss: 0.1887 - mse: 0.1887 - val_loss: 1.0697 - val_mse: 1.0697\n",
      "Epoch 31/50\n",
      "144/144 [==============================] - 1s 10ms/step - loss: 0.1671 - mse: 0.1671 - val_loss: 0.9959 - val_mse: 0.9959\n",
      "Epoch 32/50\n",
      "144/144 [==============================] - 1s 10ms/step - loss: 0.1442 - mse: 0.1442 - val_loss: 0.9313 - val_mse: 0.9313\n",
      "Epoch 33/50\n",
      "144/144 [==============================] - 1s 10ms/step - loss: 0.1452 - mse: 0.1452 - val_loss: 0.8660 - val_mse: 0.8660\n",
      "Epoch 34/50\n",
      "144/144 [==============================] - 1s 10ms/step - loss: 0.1385 - mse: 0.1385 - val_loss: 0.7781 - val_mse: 0.7781\n",
      "Epoch 35/50\n",
      "144/144 [==============================] - 1s 10ms/step - loss: 0.1413 - mse: 0.1413 - val_loss: 0.7795 - val_mse: 0.7795\n",
      "Epoch 36/50\n",
      "144/144 [==============================] - 1s 10ms/step - loss: 0.1187 - mse: 0.1187 - val_loss: 0.8555 - val_mse: 0.8555\n",
      "Epoch 37/50\n",
      "144/144 [==============================] - 1s 10ms/step - loss: 0.0949 - mse: 0.0949 - val_loss: 0.7776 - val_mse: 0.7776\n",
      "Epoch 38/50\n",
      "144/144 [==============================] - 1s 10ms/step - loss: 0.1201 - mse: 0.1201 - val_loss: 0.6989 - val_mse: 0.6989\n",
      "Epoch 39/50\n",
      "144/144 [==============================] - 1s 10ms/step - loss: 0.2281 - mse: 0.2281 - val_loss: 1.2436 - val_mse: 1.2436\n",
      "Epoch 40/50\n",
      "144/144 [==============================] - 1s 9ms/step - loss: 0.2333 - mse: 0.2333 - val_loss: 0.7536 - val_mse: 0.7536\n",
      "Epoch 41/50\n",
      "144/144 [==============================] - 1s 10ms/step - loss: 0.1170 - mse: 0.1170 - val_loss: 0.6728 - val_mse: 0.6728\n",
      "Epoch 42/50\n",
      "144/144 [==============================] - 1s 10ms/step - loss: 0.0611 - mse: 0.0611 - val_loss: 0.6335 - val_mse: 0.6335\n",
      "Epoch 43/50\n",
      "144/144 [==============================] - 1s 9ms/step - loss: 0.0537 - mse: 0.0537 - val_loss: 0.6791 - val_mse: 0.6791\n",
      "Epoch 44/50\n",
      "144/144 [==============================] - 1s 10ms/step - loss: 0.0556 - mse: 0.0556 - val_loss: 0.6876 - val_mse: 0.6876\n",
      "Epoch 45/50\n",
      "144/144 [==============================] - 2s 11ms/step - loss: 0.0720 - mse: 0.0720 - val_loss: 1.0978 - val_mse: 1.0978\n",
      "Epoch 46/50\n",
      "144/144 [==============================] - 1s 10ms/step - loss: 0.0862 - mse: 0.0862 - val_loss: 0.6796 - val_mse: 0.6796\n",
      "Epoch 47/50\n",
      "144/144 [==============================] - 1s 9ms/step - loss: 0.0928 - mse: 0.0928 - val_loss: 0.6200 - val_mse: 0.6200\n",
      "Epoch 48/50\n",
      "144/144 [==============================] - 1s 10ms/step - loss: 0.1740 - mse: 0.1740 - val_loss: 0.6823 - val_mse: 0.6823\n",
      "Epoch 49/50\n",
      "144/144 [==============================] - 1s 10ms/step - loss: 0.1642 - mse: 0.1642 - val_loss: 0.5677 - val_mse: 0.5677\n",
      "Epoch 50/50\n",
      "144/144 [==============================] - 1s 10ms/step - loss: 0.0987 - mse: 0.0987 - val_loss: 0.5801 - val_mse: 0.5801\n"
     ]
    },
    {
     "data": {
      "text/plain": [
       "<keras.callbacks.History at 0x7c6cae9af730>"
      ]
     },
     "execution_count": 5,
     "metadata": {},
     "output_type": "execute_result"
    }
   ],
   "source": [
    "# Scale the feature vectors\n",
    "X_train_dense = X_train.toarray()\n",
    "X_test_dense = X_test.toarray()\n",
    "scaler = StandardScaler()\n",
    "X_train_scaled = scaler.fit_transform(X_train_dense)\n",
    "X_test_scaled = scaler.transform(X_test_dense)\n",
    "\n",
    "# Define and compile the model\n",
    "model = Sequential()\n",
    "model.add(Dense(116, input_dim=X_train_scaled.shape[1], activation='relu'))\n",
    "model.add(Dense(2, activation='linear'))  # Two output nodes for \"wording\" and \"content\"\n",
    "model.compile(optimizer='adam', loss='mean_squared_error', metrics=['mse'])\n",
    "\n",
    "# Train the model\n",
    "model.fit(X_train_scaled, y_train, epochs=50, batch_size=32, validation_split=0.2)\n"
   ]
  },
  {
   "cell_type": "markdown",
   "id": "710a5deb",
   "metadata": {
    "papermill": {
     "duration": 0.128006,
     "end_time": "2023-09-05T21:14:52.362472",
     "exception": false,
     "start_time": "2023-09-05T21:14:52.234466",
     "status": "completed"
    },
    "tags": []
   },
   "source": [
    "Model Evaluation"
   ]
  },
  {
   "cell_type": "code",
   "execution_count": 6,
   "id": "c093c8cc",
   "metadata": {
    "execution": {
     "iopub.execute_input": "2023-09-05T21:14:52.621425Z",
     "iopub.status.busy": "2023-09-05T21:14:52.620904Z",
     "iopub.status.idle": "2023-09-05T21:14:53.040931Z",
     "shell.execute_reply": "2023-09-05T21:14:53.038882Z"
    },
    "papermill": {
     "duration": 0.553822,
     "end_time": "2023-09-05T21:14:53.044456",
     "exception": false,
     "start_time": "2023-09-05T21:14:52.490634",
     "status": "completed"
    },
    "tags": []
   },
   "outputs": [
    {
     "name": "stdout",
     "output_type": "stream",
     "text": [
      "45/45 [==============================] - 0s 3ms/step\n",
      "RMSE for wording: 0.8398471125149718\n",
      "RMSE for content: 0.7191654818514979\n"
     ]
    }
   ],
   "source": [
    "# Predict on test data\n",
    "y_pred = model.predict(X_test_scaled)\n",
    "rmse_wording = mean_squared_error(y_test[:, 0], y_pred[:, 0], squared=False)\n",
    "rmse_content = mean_squared_error(y_test[:, 1], y_pred[:, 1], squared=False)\n",
    "\n",
    "print(f\"RMSE for wording: {rmse_wording}\")\n",
    "print(f\"RMSE for content: {rmse_content}\")\n"
   ]
  },
  {
   "cell_type": "markdown",
   "id": "e7a66b48",
   "metadata": {
    "papermill": {
     "duration": 0.128546,
     "end_time": "2023-09-05T21:14:53.304205",
     "exception": false,
     "start_time": "2023-09-05T21:14:53.175659",
     "status": "completed"
    },
    "tags": []
   },
   "source": [
    "Predict and Prepare Submission"
   ]
  },
  {
   "cell_type": "code",
   "execution_count": 7,
   "id": "fd040368",
   "metadata": {
    "execution": {
     "iopub.execute_input": "2023-09-05T21:14:53.578797Z",
     "iopub.status.busy": "2023-09-05T21:14:53.577560Z",
     "iopub.status.idle": "2023-09-05T21:14:53.763835Z",
     "shell.execute_reply": "2023-09-05T21:14:53.762426Z"
    },
    "papermill": {
     "duration": 0.325864,
     "end_time": "2023-09-05T21:14:53.767543",
     "exception": false,
     "start_time": "2023-09-05T21:14:53.441679",
     "status": "completed"
    },
    "tags": []
   },
   "outputs": [
    {
     "name": "stdout",
     "output_type": "stream",
     "text": [
      "1/1 [==============================] - 0s 121ms/step\n"
     ]
    }
   ],
   "source": [
    "# Load and preprocess competition test data\n",
    "test_df = pd.read_csv(Path(\"/kaggle/input/commonlit-evaluate-student-summaries/summaries_test.csv\"))\n",
    "test_df['PreprocessedText'] = test_df['text'].apply(preprocess_text)\n",
    "X_test_competition = vectorizer.transform(test_df['PreprocessedText'])\n",
    "\n",
    "# Predict using the trained model\n",
    "predictions = model.predict(X_test_competition)\n",
    "\n",
    "# Create and save submission dataframe\n",
    "submission_df = pd.DataFrame({\n",
    "    'student_id': test_df['student_id'],\n",
    "    'content': predictions[:, 1],\n",
    "    'wording': predictions[:, 0]\n",
    "})\n",
    "submission_df['content'] = np.clip(submission_df['content'], -2, 5)\n",
    "submission_df['wording'] = np.clip(submission_df['wording'], -2, 5)\n",
    "submission_df.to_csv(\"submission.csv\", index=False)\n"
   ]
  }
 ],
 "kernelspec": {
  "display_name": "Python 3",
  "language": "python",
  "name": "python3"
 },
 "language_info": {
  "codemirror_mode": {
   "name": "ipython",
   "version": 3
  },
  "file_extension": ".py",
  "mimetype": "text/x-python",
  "name": "python",
  "nbconvert_exporter": "python",
  "pygments_lexer": "ipython3",
  "version": "3.6.4"
 },
 "metadata": {
  "kernelspec": {
   "display_name": "Python 3",
   "language": "python",
   "name": "python3"
  },
  "language_info": {
   "codemirror_mode": {
    "name": "ipython",
    "version": 3
   },
   "file_extension": ".py",
   "mimetype": "text/x-python",
   "name": "python",
   "nbconvert_exporter": "python",
   "pygments_lexer": "ipython3",
   "version": "3.10.12"
  },
  "papermill": {
   "default_parameters": {},
   "duration": 109.842628,
   "end_time": "2023-09-05T21:14:56.934331",
   "environment_variables": {},
   "exception": null,
   "input_path": "__notebook__.ipynb",
   "output_path": "__notebook__.ipynb",
   "parameters": {},
   "start_time": "2023-09-05T21:13:07.091703",
   "version": "2.4.0"
  }
 },
 "nbformat": 4,
 "nbformat_minor": 5
}
